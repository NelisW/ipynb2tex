{
 "cells": [
  {
   "cell_type": "raw",
   "metadata": {},
   "source": [
    "%This notebook demonstrates the use of the workpackage template, replace with your own.\n",
    "\n",
    "\\documentclass[english]{workpackage}[1996/06/02]\n",
    "\n",
    "% input the common preamble content (required by the ipnb2latex converter)\n",
    "\\input{header.tex}\n",
    "\n",
    "% the following three lines are required to support the tikz examples\n",
    "\\usepackage{tikz}\n",
    "\\usepackage{sansmath}\n",
    "\\usetikzlibrary{shadings,intersections}\n",
    "\n",
    "% then follows the rest of the preamble to be placed before the begin document\n",
    "% this preamble content is special to the documentclass you defined above.\n",
    "\\WPproject{My Project}           % project name\n",
    "\\WPequipment{Work package demonstrator}         % equipment name\n",
    "\\WPsubject{How to use the converter to create a work package}           % main heading \n",
    "\\WPconclusions{\\begin{enumerate}\n",
    "\\item This work package demonstrates the use of the converter.\n",
    "\\item It was tested with and should work on Python 3.5 and up.\n",
    "\\end{enumerate}} \n",
    "\\WPclassification{Unclassified} \n",
    "\\WPdocauthor{CJ Willers}\n",
    "\\WPcurrentpackdate{\\today}\n",
    "\\WPcurrentpacknumber{0001} % work package number\n",
    "\\WPdocnumber{}         % this doc number hosts all the work packages\n",
    "\\WPprevpackdate{}      % work package which this one supersedes\n",
    "\\WPprevpacknumber{}    % work package which this one supersedes\n",
    "\\WPsuperpackdate{}     % work package which comes after this one\n",
    "\\WPsuperpacknumber{}   % work package which comes after this one\n",
    "\\WPdocontractdetails{false}\n",
    "\\WPcontractname{}      % contract name \n",
    "\\WPorderno{}           % contract order number\n",
    "\\WPmilestonenumber{}   % contract milestone number\n",
    "\\WPmilestonetitle{}    % contract milestone title\n",
    "\\WPcontractline{}      % contract milestone line number \n",
    "\\WPdocECPnumber{1234567}      % ecp/ecr number\n",
    "\\WPdistribution{\n",
    "%\\vspace{0.1mm}\n",
    "%\\begin{tabular}{lllll}\n",
    "%Name 1 & Name 12 & Name 3 & Name 4 & Name 5\\\\\n",
    "%Name 6 & Name 7 & \\multicolumn{3}{l}{Master:  some repo}\\\\\n",
    "%\\end{tabular}\n",
    "}\n",
    "\n",
    "% bibfile added in this notebook\n",
    "%\\addbibresource{./analyseRio.bib}  \n",
    "\n",
    "% this is entered just before the end{document}\n",
    "\\newcommand{\\atendofdoc}{\n",
    "\\bibliographystyle{IEEEtran}\n",
    "\\bibliography{test2LaTeX}\n",
    "}\n",
    "\n",
    "%and finally the document begin.\n",
    "\\begin{document}\n",
    "\\WPlayout\n"
   ]
  },
  {
   "cell_type": "raw",
   "metadata": {},
   "source": [
    "% some Latex code to be used verbatim\n",
    "\\ \n",
    "\\vspace{50mm}\n",
    "\\begin{center}\n",
    "\\includegraphics[width=0.6\\textwidth]{./images/keep-calm-and-code-python_BW.png}\n",
    "\\end{center}\n",
    "\\vspace{5mm}\n",
    "\\begin{center}\n",
    "{\\LARGE  ipnb2tex}\n",
    "\\end{center}\n",
    "\n",
    "\\newpage\n",
    "\n",
    "\\tableofcontents\n",
    "\\listoffigures\n",
    "\\listoftables\n",
    "\\lstlistoflistings\n"
   ]
  },
  {
   "cell_type": "markdown",
   "metadata": {
    "run_control": {
     "frozen": false,
     "read_only": false
    }
   },
   "source": [
    "# The ipnb2tex.py Script"
   ]
  },
  {
   "cell_type": "markdown",
   "metadata": {
    "run_control": {
     "frozen": false,
     "read_only": false
    }
   },
   "source": [
    "The `ipnb2tex.py` reads the IPython notebook and converts it to a \\LaTeX{} set of files (a `*.tex` file and a number of images).  The script is invoked as follows:  \n",
    "\n",
    "`python ipnb2tex.py file.ipynb file.tex imagedir -i -u -b`\n",
    "\n",
    "where   \n",
    "\n",
    "- `file.ipynb`  [optional]   is the name of the input IPython notebook file.   If no input filename is  supplied, all  `.ipynb` files in current directory will be processed.   In this event the output filenames will be the same as the `.ipynb` files, just with a `tex` filetype.  The notebook filename must not have spaces.\n",
    "\n",
    "- `file.tex` [optional]  is the name of output \\LaTeX{} file. If none is given the output filename will be the same as the input file, but with the `.tex` extension.   \n",
    "\n",
    "- `imagedir`   [optional]   is the directory where images are written to.  If not given, this image directory will be the `./pic` directory.  \n",
    "\n",
    "- `-i`  [optional], the lower case letter `i`, if this option is given the code     listings are printed inline with the body text where they occur,       otherwise listings are floated to the end of the document.\n",
    "\n",
    "- `-u` [optional] add `\\url{}` to the bibtex entries, to obtain  `url = {\\url{http://ipython.org/}}`, otherwise use the form   \n",
    "`url = {http://ipython.org/}`\n",
    "\n",
    "- `-b` [optional] if given merge all the *.bib files in the folder root together. By default, don't merge all bibtex files, only use the `file.bib` file with the same name as the notebook file.\n",
    "\n",
    "\n",
    "\n",
    "The options must follow after the filenames and dirname and the end of the command line string."
   ]
  },
  {
   "cell_type": "markdown",
   "metadata": {},
   "source": [
    "## Known deficiencies\n",
    "\n",
    "1. Some complex cell-merged HTML tables may not render correctly in LaTeX (let me know if you have such a table).     \n",
    "1. The following HTML elements are not currently processed, these elements are simply ignored: `div`,  `img`. \n",
    "1. The `iframe` HTML element is tested for embedded PDF files which are then included as an image.\n",
    "1. <font color=\"red\">Coloured text in HTML</font> is not exported as coloured text in LaTeX.\n",
    "1. Many reserved LaTeX symbols such as hash, caret, underscore and dollar are 'legal' in normal markdown.  When rendering to LaTeX these symbols cause errors unless escaped with backslash.  In many cases these symbols are escaped, but not always because of context.  If the symbols are escaped, they render incorrectly in normal Markdown. Therefore, choose your target renderer and enter the symbols accordingly, accepting problems in the alternative renderer.\n"
   ]
  },
  {
   "cell_type": "markdown",
   "metadata": {
    "run_control": {
     "frozen": false,
     "read_only": false
    }
   },
   "source": [
    "# Heading 1 nb2pdf "
   ]
  },
  {
   "cell_type": "markdown",
   "metadata": {
    "run_control": {
     "frozen": false,
     "read_only": false
    }
   },
   "source": [
    "Heading 1 is a \\LaTeX{} chapter.  \n",
    "Headings down to level 5 (\\LaTeX{} paragraph) are supported. \n",
    "Headings at level 6 are treated as normal body text.\n",
    "If you don't need a chapter (i.e., for an article), just don't use a heading at level 1.\n",
    "\n",
    "When any level of section heading is formed, a label is automatically created from the text in the heading, removing all non-alpha characters.  If the section heading is very long the the label will also be long, so keep it short. Also, don't use the same text twice as a heading."
   ]
  },
  {
   "cell_type": "markdown",
   "metadata": {
    "run_control": {
     "frozen": false,
     "read_only": false
    }
   },
   "source": [
    "## Heading 2 Second-level heading"
   ]
  },
  {
   "cell_type": "markdown",
   "metadata": {
    "run_control": {
     "frozen": false,
     "read_only": false
    }
   },
   "source": [
    "### Heading 3"
   ]
  },
  {
   "cell_type": "markdown",
   "metadata": {
    "run_control": {
     "frozen": false,
     "read_only": false
    }
   },
   "source": [
    "#### Heading 4"
   ]
  },
  {
   "cell_type": "markdown",
   "metadata": {
    "run_control": {
     "frozen": false,
     "read_only": false
    }
   },
   "source": [
    "##### Heading 5"
   ]
  },
  {
   "cell_type": "markdown",
   "metadata": {
    "run_control": {
     "frozen": false,
     "read_only": false
    }
   },
   "source": [
    "###### Heading 6"
   ]
  },
  {
   "cell_type": "markdown",
   "metadata": {
    "run_control": {
     "frozen": false,
     "read_only": false
    }
   },
   "source": [
    "some more markdown."
   ]
  },
  {
   "cell_type": "markdown",
   "metadata": {
    "run_control": {
     "frozen": false,
     "read_only": false
    }
   },
   "source": [
    "# Heading X\n",
    "\n",
    "## Heading X2\n",
    "\n",
    "### Heading X3\n",
    "\n",
    "#### Heading X4\n",
    "\n",
    "##### Heading X5\n",
    "\n",
    "###### Heading X6\n",
    "\n"
   ]
  },
  {
   "cell_type": "markdown",
   "metadata": {
    "run_control": {
     "frozen": false,
     "read_only": false
    }
   },
   "source": [
    "## LaTeX Template Format and the Header File"
   ]
  },
  {
   "cell_type": "markdown",
   "metadata": {
    "run_control": {
     "frozen": false,
     "read_only": false
    }
   },
   "source": [
    "### Default Style (Report)"
   ]
  },
  {
   "cell_type": "markdown",
   "metadata": {
    "run_control": {
     "frozen": false,
     "read_only": false
    }
   },
   "source": [
    "The notebook can be converted to the LaTeX `Report` format with no additional files or document class.  A 'standard' notebook, where the first cell is not `Raw NBConvert` will be prepended with a short section of LaTeX code for a standard LaTeX Report.  A number of pacakges are also `\\usepackage{}`ed, as required by the converted LaTeX code."
   ]
  },
  {
   "cell_type": "markdown",
   "metadata": {
    "run_control": {
     "frozen": false,
     "read_only": false
    }
   },
   "source": [
    "### User-Defined Style"
   ]
  },
  {
   "cell_type": "markdown",
   "metadata": {
    "run_control": {
     "frozen": false,
     "read_only": false
    }
   },
   "source": [
    "The notebook can optionally be converted to a user-defined format with minimal effort.  The example files included the GitHub distribution provides a 'work package' format class file (`workpackage.cls`) and a header file (`header.tex`).\n",
    "\n",
    "The first cell of the notebook must be a `RawNBConvert` cell with at least the following contents (see the first cell of this notebook for an example):\n",
    "\n",
    "    \\documentclass that you want to use\n",
    "    \\input{header.tex}\n",
    "    whatever preamble lines you require\n",
    "    \\begin{document}  \n",
    "\n",
    "Then follows whatever content you need to use your document style, e.g., font style. Write/change this file to change the front  matter and appearance of the document.  The script adds the `\\end{document}` line after the notebook cells' contents.\n",
    "\n",
    "The `header.tex` file provides the functionality required by the converter-created code. This content is input using the \\LaTeX{} input command.  A number of pacakges are `\\usepackage{}`ed, as required by the converted LaTeX code."
   ]
  },
  {
   "cell_type": "markdown",
   "metadata": {
    "run_control": {
     "frozen": false,
     "read_only": false
    }
   },
   "source": [
    "## Company Logo "
   ]
  },
  {
   "cell_type": "markdown",
   "metadata": {
    "run_control": {
     "frozen": false,
     "read_only": false
    }
   },
   "source": [
    "The work package template has a `logo.png` file which is used to define a logo on top of the page.  The present image is empty, so no logo will show.  You can add your own logo to this file."
   ]
  },
  {
   "cell_type": "markdown",
   "metadata": {
    "run_control": {
     "frozen": false,
     "read_only": false
    }
   },
   "source": [
    "## The images directory"
   ]
  },
  {
   "cell_type": "markdown",
   "metadata": {
    "run_control": {
     "frozen": false,
     "read_only": false
    }
   },
   "source": [
    "The script saves the png files in the `./pic` directory, and the \\LaTeX{} code also expects to find the png files there.  Hence, there must be an existing `./pic` directory in the directory where you run the script.  If an alternative name is given on the command line, the alternative name will be used."
   ]
  },
  {
   "cell_type": "markdown",
   "metadata": {},
   "source": [
    "## Using Python code"
   ]
  },
  {
   "cell_type": "code",
   "execution_count": 2,
   "metadata": {
    "listingCaption": {
     "caption": "Caption text for first listing",
     "label": "lst:listing1",
     "outputCaption": "Caption for first listing output"
    },
    "run_control": {
     "frozen": false,
     "read_only": false
    }
   },
   "outputs": [
    {
     "name": "stdout",
     "output_type": "stream",
     "text": [
      "The Zen of Python, by Tim Peters\n",
      "\n",
      "Beautiful is better than ugly.\n",
      "Explicit is better than implicit.\n",
      "Simple is better than complex.\n",
      "Complex is better than complicated.\n",
      "Flat is better than nested.\n",
      "Sparse is better than dense.\n",
      "Readability counts.\n",
      "Special cases aren't special enough to break the rules.\n",
      "Although practicality beats purity.\n",
      "Errors should never pass silently.\n",
      "Unless explicitly silenced.\n",
      "In the face of ambiguity, refuse the temptation to guess.\n",
      "There should be one-- and preferably only one --obvious way to do it.\n",
      "Although that way may not be obvious at first unless you're Dutch.\n",
      "Now is better than never.\n",
      "Although never is often better than *right* now.\n",
      "If the implementation is hard to explain, it's a bad idea.\n",
      "If the implementation is easy to explain, it may be a good idea.\n",
      "Namespaces are one honking great idea -- let's do more of those!\n"
     ]
    }
   ],
   "source": [
    "# to prepare the environment\n",
    "from IPython.display import display\n",
    "from IPython.display import Image\n",
    "from IPython.display import HTML\n",
    "\n",
    "import os.path\n",
    "import numpy as np\n",
    "%matplotlib inline\n",
    "\n",
    "import this"
   ]
  },
  {
   "cell_type": "markdown",
   "metadata": {
    "run_control": {
     "frozen": false,
     "read_only": false
    }
   },
   "source": [
    "The following code block has the metadata  \n",
    "\n",
    "    {\n",
    "      \"listingCaption\": {\n",
    "        \"caption\": \"Caption text for second listing\",\n",
    "        \"label\": \"lst:listing2\"\n",
    "      }\n",
    "    }\n",
    "\n",
    "which will give the code block a caption and a label, but the output is not captioned.\n",
    "\n",
    "The code block also demonstrates how long lines are handled in this lstlistings configuration, with a linefeed symbol to mark the line.\n",
    "\n",
    "The output of the following cell is captured in a floating listing that can be referenced. The metadata is as follows:\n",
    "\n",
    "    {\n",
    "        \"listingCaption\": {\n",
    "            \"caption\": \"Caption text for second listing\",\n",
    "            \"label\": \"lst:listingrad\",\n",
    "            \"outputCaption\": \"Output caption text for second listing\"\n",
    "        }\n",
    "    }\n",
    "    \n",
    "If the meta data has an `` entry and a `` entry the "
   ]
  },
  {
   "cell_type": "code",
   "execution_count": 3,
   "metadata": {
    "listingCaption": {
     "caption": "Caption text for second listing",
     "label": "lst:listingrad",
     "outputCaption": "Output caption text for second listing"
    },
    "run_control": {
     "frozen": false,
     "read_only": false
    }
   },
   "outputs": [
    {
     "name": "stdout",
     "output_type": "stream",
     "text": [
      " \n",
      "Radius = 6\n",
      "Frontal area = 7 m2\n",
      "This is a very long line of python code, that is supposed to flow over to the next line, in order to test the listing display\n"
     ]
    }
   ],
   "source": [
    "#\n",
    "print(' ')\n",
    "print('Radius = {}'.format(6))\n",
    "print('Frontal area = {} m2'.format(7))\n",
    "print('This is a very long line of python code, that is supposed to flow over to the next line, in order to test the listing display')"
   ]
  },
  {
   "cell_type": "code",
   "execution_count": 55,
   "metadata": {
    "listingCaption": {
     "caption": "Caption text for third listing",
     "label": "lst:listing3"
    },
    "run_control": {
     "frozen": false,
     "read_only": false
    }
   },
   "outputs": [
    {
     "name": "stdout",
     "output_type": "stream",
     "text": [
      "a\n",
      "b\n"
     ]
    }
   ],
   "source": [
    "# to print the value\n",
    "a = ['a','b']\n",
    "for v in a:\n",
    "    print(v)"
   ]
  },
  {
   "cell_type": "code",
   "execution_count": 56,
   "metadata": {
    "run_control": {
     "frozen": false,
     "read_only": false
    }
   },
   "outputs": [
    {
     "name": "stdout",
     "output_type": "stream",
     "text": [
      "0\n",
      "1\n"
     ]
    }
   ],
   "source": [
    "## this should not appear in the body of the doc if float listings\n",
    "a = [0, 1]\n",
    "for v in a:\n",
    "    print(v)"
   ]
  },
  {
   "cell_type": "markdown",
   "metadata": {
    "run_control": {
     "frozen": false,
     "read_only": false
    }
   },
   "source": [
    "The following code block has no metadata, and hence no captions on either the code or the output listings.\n"
   ]
  },
  {
   "cell_type": "code",
   "execution_count": 57,
   "metadata": {
    "run_control": {
     "frozen": false,
     "read_only": false
    }
   },
   "outputs": [
    {
     "name": "stdout",
     "output_type": "stream",
     "text": [
      "code with no listing caption\n"
     ]
    }
   ],
   "source": [
    "print('code with no listing caption')"
   ]
  },
  {
   "cell_type": "markdown",
   "metadata": {
    "run_control": {
     "frozen": false,
     "read_only": false
    }
   },
   "source": [
    "Output emanating from different cells _may_ result in different output listings in \\LaTeX{} even if they appear in a single output box in the notebook.  The cells below attempt to recreate a similar scenario in a different application, but it does not seem to repeat the problem here."
   ]
  },
  {
   "cell_type": "code",
   "execution_count": 58,
   "metadata": {
    "run_control": {
     "frozen": false,
     "read_only": false
    }
   },
   "outputs": [],
   "source": [
    "def doprint(i):\n",
    "    print('function output {}'.format(i))\n",
    "    return int(i)"
   ]
  },
  {
   "cell_type": "code",
   "execution_count": 59,
   "metadata": {
    "run_control": {
     "frozen": false,
     "read_only": false
    }
   },
   "outputs": [
    {
     "name": "stdout",
     "output_type": "stream",
     "text": [
      "function output 1\n",
      "function output 2\n",
      "function output 3\n",
      "9\n",
      "3\n"
     ]
    }
   ],
   "source": [
    "for i in [1,2,3]:\n",
    "    si = str(i)\n",
    "    v = doprint(si)\n",
    "\n",
    "val = v * 3   \n",
    "print(val)\n",
    "print(v)"
   ]
  },
  {
   "cell_type": "markdown",
   "metadata": {},
   "source": [
    "## `Raw NBConvert` cells\n",
    "\n",
    "The `Raw NBConvert` cell type can be used to propagate text without any modification to the output stream.  The IPython notebook will not touch this text; it is passed on as-is to the converter code. This this case we can add \\LaTeX{} code that will progress straight through to the \\LaTeX{} compiler.\n",
    "\n",
    "This raw capability is very useful if the notebook is intended to be exported to \\LaTeX{} as primary output.  I find myself writing most of such documentation in raw latex in a 'Raw NBConvert' cell.  In this mode most of the notebook cells are never rendered to HTML, since you are reading and editing the \\LaTeX{} and it stays in \\LaTeX{} for display purposes as well. So you get the full benefit of all \\LaTeX{} functionality (except that it is not rendered inside the notebook) and all the other benefits of the notebook.\n",
    "\n"
   ]
  },
  {
   "cell_type": "raw",
   "metadata": {},
   "source": [
    "Raw NBConvert cell.  This could be raw \\LaTeX{} as in \n",
    "\n",
    "\\begin{equation}\n",
    "f_{WN}(\\theta;\\mu, \\sigma) = \\frac{1}{\\sigma\\sqrt{2\\pi}}\\sum^\\infty_{k=-\\infty} \\exp\\left[\\frac{-(\\theta-\\mu+2\\pi k)^2}{2\\sigma^2}\\right]\n",
    "\\end{equation}"
   ]
  },
  {
   "cell_type": "markdown",
   "metadata": {},
   "source": [
    "## Captions\n",
    "\n",
    "There are three objects that can have captions: listings, figures and tables.\n",
    "\n",
    "Figures and tables without captions are non-floating and appear in the text at the position it is found in the input file.  Figures and tables with captions are floating.\n",
    "\n",
    "Listings are normally  non-floating but can be floated (see below).\n",
    "\n",
    "A single cell can contain any combination of captions, and these are indicated in the metadata field of the cell. \n",
    "It seems that the means to access the metadata changes with every new release. Try one of the following: \n",
    "\n",
    "1. Select the `Edit Metadata` drop-down option in the `Cell Toolbar` drop-down box (towards the right of the toolbar). This should expose metadata buttons on all the cells. Click on the button and type in the  metadata.  \n",
    "\n",
    "1. On the left panel click on the Property Inspector (gear icon) and open the `Advanced Tools` drop-down to expose the `Cell Metadata` text box.\n",
    "\n",
    "Enter the meta data into the text box. Ensure that the tabs and commas are all in the right places: if so, a small tick mark will appear for you to approve the new metadata, by clicking on the tick mark.  If the tabs and commas are not exactly right, the text box boundary will be red (error) and the tick mark will not be shown.\n",
    "If the json structure has no errors, a tick mark will appear: click on the tick mark to save the changes (as long as there are errors you cannot save).\n",
    "\n",
    "The metadata has the following structure:\n",
    "\n",
    "    {\n",
    "      \"listingCaption\": {\n",
    "        \"caption\": \"Comparison of effective drag parameters\",\n",
    "        \"label\": \"lst:comparedrag\",\n",
    "        \"outputCaption\": \"\"\n",
    "      },\n",
    "      \"figureCaption\": {\n",
    "        \"caption\": \"Caption text for first figure\",\n",
    "        \"label\": \"fig:lab1\",\n",
    "        \"width\": \"0.2\",\n",
    "        \"locator\": \"t\"\n",
    "      },\n",
    "      \"tableCaption\": {\n",
    "        \"caption\": \"Caption text for first table\",\n",
    "        \"label\": \"tab:lab1\",\n",
    "        \"format\": \"{|p{10mm}|l|r|c|c|p{50mm}|p{20mm}|}\",\n",
    "        \"fontsize\": \"normalsize\",\n",
    "        \"locator\": \"t\"\n",
    "      }\n",
    "    }\n",
    "\n",
    "Note the placement of commas. No newlines are allowed in a single string in the metadata.\n"
   ]
  },
  {
   "cell_type": "markdown",
   "metadata": {},
   "source": [
    "## Python code\n",
    "\n",
    "Python code blocks are printed using the \\LaTeX{} `listings` package.  The format details can be defined in the header template file.  These code listings can be supplied with a caption and a label (but these code blocks are not floating entities). \n",
    "\n",
    "      {\n",
    "      \"listingCaption\": {\n",
    "        \"caption\": \"Caption text for first listing\",\n",
    "        \"label\": \"lst:listing1\",\n",
    "        \"outputCaption\": \"Caption for first listing output\"\n",
    "      }\n",
    "    }\n",
    "    \n",
    "where the different fields have the following meanings:\n",
    "\n",
    "1. `caption` specifies the text to be used in the listings caption.  If this metadata field is not supplied, the listing will not be given a caption.  \n",
    "\n",
    "2. `label` specifies the label to be used for the listing, which can be used in \\LaTeX{} to reference the listing.  The code block uses the label exactly as given in the metadata field.  If the output listing is given an `outputCaption`, the output caption is labelled by the a label starting with the `label` string given, but appended with the string `-out` (i.e., `lst:listing1-out` in this case).  \n",
    "\n",
    "3. `outputCaption` specifies the label that is used for the output listing of the cell. If this metadata field is not supplied, the output listing will not be given a caption.  \n",
    "\n",
    "4. Both the cell listing and the output listing share the same root label, but the output listing has `-out` appended to it.\n",
    "\n",
    "We can refer to Listings~\\ref{lst:listing1}, \\ref{lst:listingrad-out}, \\ref{lst:listingrad}, and \\ref{lst:listing3}.  \n",
    "\n",
    "The default is to provide colour syntax highlighting. If you don't want colour in the listings, simply remove these lines from `header.tex`\n",
    "\n",
    "    commentstyle=\\color{mygreen},    % comment style\n",
    "    keywordstyle=\\color{blue},       % keyword style\n",
    "    stringstyle=\\color{mymauve},     % string literal style\n"
   ]
  },
  {
   "cell_type": "markdown",
   "metadata": {},
   "source": [
    "## Floated code listings\n",
    "\n",
    "In order to improve readability in the document, the code listings can be floated to the end of the document by using the `-l` switch on the command line.  If this switch is used, the listing is appended to the \\LaTeX{} document and the end of the conversion.  At the location in the document where the code listing would have been, a reference sentence to the code is included.  The  sentence is constructed as follows:\n",
    "\n",
    "    See Listing~\\ref{lst:autolistingcellX} for the code {purpose}.\n",
    "    \n",
    "where the symbolic link is constructed using the cell number and the text used in the `{purpose}` part is taken from the first line of the code, if the first line is a comment with a single `#` followed by a space.  Hence if the code in cell 3 starts with the lines\n",
    "\n",
    "    # to prepare the environment\n",
    "    import numpy as np\n",
    "\n",
    "a text line of the following form will be created:\n",
    "\n",
    "    See Listing~\\ref{lst:autolistingcell3} for the code to prepare the environment.\n",
    "\n",
    "Just maintain the discipline to write good comments in the first line, keeping in mind that  the comment will end up in the body of the document with the reference.\n",
    "\n",
    "If a code cell does not start with a comment, no text will be inserted and the form will be\n",
    "\n",
    "    See Listing~\\ref{lst:autolistingcell24} for the code.\n",
    "    \n",
    "If the code cell starts with a comment of the form `##`, the listing will output to the tex file, but there is no text entry in the location where the code cell was. i.e., no line starting with `See Listing`...\n",
    "\n",
    "If the code cell starts with a comment of the form `###`, neither the listing nor the  text entry referring to it is written to the latex file.  So if you don't want the code to be shown or a reference to it made, start the first code line with `###`.\n"
   ]
  },
  {
   "cell_type": "markdown",
   "metadata": {
    "run_control": {
     "frozen": false,
     "read_only": false
    }
   },
   "source": [
    "## Figure captions and bitmaps"
   ]
  },
  {
   "cell_type": "markdown",
   "metadata": {
    "run_control": {
     "frozen": false,
     "read_only": false
    }
   },
   "source": [
    "PNG images, read in from externally or created by Matplotlib, are imported into the \\LaTeX{} code with lines of the following form:\n",
    "\n",
    "`\\includegraphics[width=WIDTH\\textwidth]{./pngs/test2LaTeX_21_0.png}`\n",
    "\n",
    "where the WIDTH determines the size of the image (obtained from metadata, see below), and the image file name is constructed from the notebook file name and cell information.  The name is the concatenation of the notebook file name, the cell index (index number of the cell in the notebook file) and the sub-index image in the cell's output (there can be more than one image). All indices are zero based.\n",
    "\n",
    "The width is read from the metadata, which must be structured as follows:\n",
    "\n",
    "    {\n",
    "      \"figureCaption\": {\n",
    "        \"caption\": \"Caption text for first figure\",\n",
    "        \"label\": \"fig:lab1\",\n",
    "        \"width\": \"0.2\",\n",
    "        \"locator\": \"t\"\n",
    "      },\n",
    "      \"listingCaption\": {\n",
    "        \"caption\": \"Listing caption in cell with a figure\",\n",
    "        \"label\": \"lst:figurelisting\",\n",
    "        \"outputCaption\": \"Output for a cell with a figure\"\n",
    "      }\n",
    "    }\n",
    "    \n",
    "Width is the fraction of \\LaTeX{} textwidth, i.e., if width=1, the graphic will be the full width of the text on the page. \n",
    "\n",
    "The locator value is used in `\\begin{figure}[tb]` or `\\begin{table}[tb]` to locate the float on the page. Default value is 'tb', can be any combination of `tbhp`.\n",
    "\n",
    "The metadata also contains a caption string, and a label for the figure.  The type must be `figure`.\n",
    "\n",
    "If the `caption` field is given (or has non-zero length), the image will be written to a \\LaTeX{} float with a caption (and label).  If the `caption` fields is not given, the image will not be encapsulated in the floating figure."
   ]
  },
  {
   "cell_type": "markdown",
   "metadata": {},
   "source": [
    "If the caption string contains a substring `(###)` the substring will be replaced with the figure index (plus one) for the current cell. Hence, if there are multiple figures in the same cell, they can all use the same caption with with a running number, such as (1), (2), etc."
   ]
  },
  {
   "cell_type": "raw",
   "metadata": {},
   "source": [
    "Latex special characters in the caption strings must be properly escaped as per standard LaTeX use, it is not translated or manipulated in any way. For example, underscore \\verb`_` must be escaped.\n",
    "However, keep in mind that JSON requires backslash to be escaped itself as a double backslash in order to survive the JSON parser. So if \\verb`_` is required in the final document, it must be  \\verb`\\\\_` in the caption string. For exanple \\verb`a\\\\_a\\\\_a b\\\\#b\\\\%b` in the JSON metadata becomes \\verb`a_a_a b#b%b` in the final \\LaTeX{} caption, as shown in Figure~\\ref{fig:lab1}."
   ]
  },
  {
   "cell_type": "code",
   "execution_count": 60,
   "metadata": {
    "figureCaption": {
     "caption": "Caption text for first figure, having a\\_a\\_a b\\#b\\%b",
     "label": "fig:lab1",
     "width": "0.2"
    },
    "listingCaption": {
     "caption": "Listing caption in cell with a figure",
     "label": "lst:figurelisting",
     "outputCaption": "Output for a cell with a figure"
    },
    "run_control": {
     "frozen": false,
     "read_only": false
    },
    "tags": []
   },
   "outputs": [
    {
     "data": {
      "image/png": "[encoded data removed]",
      "text/plain": [
       "<IPython.core.display.Image object>"
      ]
     },
     "metadata": {
      "image/png": {
       "height": 250,
       "width": 250
      }
     },
     "output_type": "display_data"
    },
    {
     "name": "stdout",
     "output_type": "stream",
     "text": [
      "also force print output\n"
     ]
    }
   ],
   "source": [
    "#this figure is given meta data caption parameters, it will be floated in the latex export\n",
    "display(Image(filename='images/keep-calm-and-code-python_BW.png', width=250, height=250))\n",
    "print('also force print output')\n"
   ]
  },
  {
   "cell_type": "markdown",
   "metadata": {},
   "source": [
    "Experimenting with embedded markdown images:\n",
    "\n",
    "![](images/keep-calm-and-code-python_BW.png)"
   ]
  },
  {
   "cell_type": "markdown",
   "metadata": {
    "run_control": {
     "frozen": false,
     "read_only": false
    }
   },
   "source": [
    "The following figure is not floating, but with narrower width.\n",
    "\n",
    "    {\n",
    "      \"figureCaption\": {\n",
    "        \"width\": \"0.3\"\n",
    "      }\n",
    "    }\n",
    "\n"
   ]
  },
  {
   "cell_type": "code",
   "execution_count": 61,
   "metadata": {
    "figureCaption": {
     "width": "0.3"
    },
    "run_control": {
     "frozen": false,
     "read_only": false
    }
   },
   "outputs": [
    {
     "data": {
      "image/png": "[encoded data removed]",
      "text/plain": [
       "<IPython.core.display.Image object>"
      ]
     },
     "metadata": {
      "image/png": {
       "height": 200,
       "width": 200
      }
     },
     "output_type": "display_data"
    }
   ],
   "source": [
    "#this figure is not given meta data caption parameters, it will be inlined in the latex export\n",
    "display(Image(filename='images/random-squares-2.png', width=200, height=200))"
   ]
  },
  {
   "cell_type": "markdown",
   "metadata": {
    "run_control": {
     "frozen": false,
     "read_only": false
    }
   },
   "source": [
    "The following Matplotlib plot is scaled to 40\\% of text width and floating, but with the 'h' locator to force the location to here.\n",
    "\n",
    "    {\n",
    "      \"figureCaption\": {\n",
    "        \"caption\": \"Caption text for third figure\",\n",
    "        \"label\": \"fig:lab3\",\n",
    "        \"width\": \"0.4\",\n",
    "        \"locator\": \"h\"\n",
    "      }\n",
    "    }"
   ]
  },
  {
   "cell_type": "code",
   "execution_count": 62,
   "metadata": {
    "figureCaption": {
     "caption": "Caption text for third figure",
     "label": "fig:lab3",
     "locator": "tpbh",
     "width": "0.4"
    },
    "run_control": {
     "frozen": false,
     "read_only": false
    },
    "tags": []
   },
   "outputs": [
    {
     "data": {
      "image/png": "[encoded data removed]",
      "text/plain": [
       "<Figure size 432x288 with 1 Axes>"
      ]
     },
     "metadata": {
      "needs_background": "light"
     },
     "output_type": "display_data"
    }
   ],
   "source": [
    "##\n",
    "%matplotlib inline\n",
    "\n",
    "import pylab as pl\n",
    "import numpy as np\n",
    "\n",
    "t = np.arange(0.0, 2.0, 0.01)\n",
    "s = np.sin(2*np.pi*t)\n",
    "pl.plot(t, s)\n",
    "pl.xlabel('time (s)')\n",
    "pl.ylabel('voltage (mV)')\n",
    "pl.title('About as simple as it gets, folks')\n",
    "pl.grid(True)\n"
   ]
  },
  {
   "cell_type": "raw",
   "metadata": {},
   "source": [
    "\\FloatBarrier"
   ]
  },
  {
   "cell_type": "markdown",
   "metadata": {},
   "source": [
    "JSON does not seem to like backslashes, so math embedded in the figure caption must be escaped with two backslashes, as shown in Figure~\\ref{fig:lab3math}.\n"
   ]
  },
  {
   "cell_type": "raw",
   "metadata": {},
   "source": [
    "\\begin{lstlisting}\n",
    "{\n",
    "    \"figureCaption\": {\n",
    "        \"caption\": \"Caption with math $\\\\pi$  $\\\\beta$, $\\\\rho$\",\n",
    "        \"label\": \"fig:lab3math\",\n",
    "        \"locator\": \"h\",\n",
    "        \"width\": \"0.4\"\n",
    "    }\n",
    "}\n",
    "\\end{lstlisting}\n"
   ]
  },
  {
   "cell_type": "code",
   "execution_count": 1,
   "metadata": {
    "figureCaption": {
     "caption": "Caption with math $\\pi$  $\\beta$, $\\rho$",
     "label": "fig:lab3math",
     "locator": "tbph",
     "width": "0.4"
    },
    "run_control": {
     "frozen": false,
     "read_only": false
    },
    "tags": []
   },
   "outputs": [
    {
     "data": {
      "image/png": "[encoded data removed]",
      "text/plain": [
       "<Figure size 432x288 with 1 Axes>"
      ]
     },
     "metadata": {
      "needs_background": "light"
     },
     "output_type": "display_data"
    }
   ],
   "source": [
    "##\n",
    "%matplotlib inline\n",
    "\n",
    "import pylab as pl\n",
    "import numpy as np\n",
    "\n",
    "t = np.arange(0.0, 2.0, 0.01)\n",
    "s = np.sin(2*np.pi*t)\n",
    "pl.plot(t, s)\n",
    "pl.xlabel('time (s)')\n",
    "pl.ylabel('voltage (mV)')\n",
    "pl.title('About as simple as it gets, folks')\n",
    "pl.grid(True)"
   ]
  },
  {
   "cell_type": "markdown",
   "metadata": {
    "run_control": {
     "frozen": false,
     "read_only": false
    }
   },
   "source": [
    "It is possible to have more than one plot in a single cell output.  In this case each output can be made floating separately or be non-floated (you can even mix floating and non-floating).  The captions are given in the metadata in the following format:\n",
    "\n",
    "    {\n",
    "      \"figureCaption\": {\n",
    "        \"caption\": \"['Caption text for (first) fourth figure','',\n",
    "                        'Caption text for (third) fourth figure']\",\n",
    "        \"label\": \"fig:lab4\",\n",
    "        \"width\": \"[0.5, 0.5, 0.5]\"\n",
    "      }\n",
    "    }\n",
    "\n",
    "In this case the caption strings and scaling values are allocated to the sequence of images in the order given.  If a caption string is zero length, that specific image will be non-floating (as in the example of instance `b` here).  \n",
    "\n",
    "The float labels are determined from the root value given in the metadata, but with the output sub-index appended, as in `fig:lab4-0`, `fig:lab4-1`, `fig:lab4-2`.  \n",
    "The first image in a cell has two labels `fig:lab4-0` and `fig:lab4` (without the zero) so either form can be used.\n",
    "If you only have one figure in a cell there is no need to add the `-0`.  There two references should be the same: \n",
    "\\ref{fig:lab4-0} and \\ref{fig:lab4} because they are both attached to the first figure in the cell.\n"
   ]
  },
  {
   "cell_type": "code",
   "execution_count": 63,
   "metadata": {
    "figureCaption": {
     "caption": "['Caption text for (first) fourth figure','','Caption text for (third) fourth figure']",
     "label": "fig:lab4",
     "width": "[0.4, 1., 0.5, 0.6]"
    },
    "run_control": {
     "frozen": false,
     "read_only": false
    },
    "tags": []
   },
   "outputs": [
    {
     "data": {
      "image/png": "[encoded data removed]",
      "text/plain": [
       "<Figure size 216x144 with 1 Axes>"
      ]
     },
     "metadata": {
      "needs_background": "light"
     },
     "output_type": "display_data"
    },
    {
     "data": {
      "image/png": "[encoded data removed]",
      "text/plain": [
       "<Figure size 216x144 with 1 Axes>"
      ]
     },
     "metadata": {
      "needs_background": "light"
     },
     "output_type": "display_data"
    },
    {
     "data": {
      "image/png": "[encoded data removed]",
      "text/plain": [
       "<Figure size 216x144 with 1 Axes>"
      ]
     },
     "metadata": {
      "needs_background": "light"
     },
     "output_type": "display_data"
    }
   ],
   "source": [
    "import pyradi.ryplot as ryplot\n",
    "\n",
    "x = np.linspace(0,10,10)\n",
    "a = ryplot.Plotter(1,figsize=(3,2))\n",
    "b = ryplot.Plotter(2,figsize=(3,2))\n",
    "c = ryplot.Plotter(3,figsize=(3,2))\n",
    "for i in [1,2]:\n",
    "    a.plot(1,x,x ** i,'Plotter instance a',label=[str(i)])\n",
    "    b.plot(1,x,(-x) ** i,'Plotter instance b (non floating)',label=[str(i)])\n",
    "    c.plot(1,x,(5-x) ** i,'Plotter instance c',label=[str(i)])"
   ]
  },
  {
   "cell_type": "markdown",
   "metadata": {},
   "source": [
    "To use mathematics in cells with two outputs as in the following code, the backslashes must be escaped as for a single caption, but the strings in the list must also be marked as raw strings as in `r'string'`"
   ]
  },
  {
   "cell_type": "raw",
   "metadata": {},
   "source": [
    "\\begin{lstlisting}\n",
    "{\n",
    "    \"figureCaption\": {\n",
    "        \"caption\": \"[r'Caption text for $\\\\alpha$ figure',r'Caption text for $\\\\beta$ figure']\",\n",
    "        \"label\": \"fig:lab4alpha\",\n",
    "        \"width\": \"[0.3, 0.5]\"\n",
    "    }\n",
    "}\n",
    "\\end{lstlisting}\n"
   ]
  },
  {
   "cell_type": "code",
   "execution_count": 14,
   "metadata": {
    "figureCaption": {
     "caption": "[r'Caption text for $\\alpha$ figure',r'Caption text for $\\beta$ figure']",
     "label": "fig:lab4alpha",
     "width": "[0.3, 0.5]"
    },
    "tags": []
   },
   "outputs": [
    {
     "data": {
      "image/png": "[encoded data removed]",
      "text/plain": [
       "<Figure size 216x144 with 1 Axes>"
      ]
     },
     "metadata": {
      "needs_background": "light"
     },
     "output_type": "display_data"
    },
    {
     "data": {
      "image/png": "[encoded data removed]",
      "text/plain": [
       "<Figure size 216x144 with 1 Axes>"
      ]
     },
     "metadata": {
      "needs_background": "light"
     },
     "output_type": "display_data"
    }
   ],
   "source": [
    "import pyradi.ryplot as ryplot\n",
    "\n",
    "x = np.linspace(0,10,10)\n",
    "a = ryplot.Plotter(1,figsize=(3,2))\n",
    "b = ryplot.Plotter(2,figsize=(3,2))\n",
    "for i in [1,2]:\n",
    "    a.plot(1,x,x ** i,r'Plotter instance with $\\alpha$',label=[str(i)])\n",
    "    b.plot(1,x,(-x) ** i,r'Plotter instance with $\\beta$',label=[str(i)])\n"
   ]
  },
  {
   "cell_type": "raw",
   "metadata": {},
   "source": [
    "\\clearpage "
   ]
  },
  {
   "cell_type": "markdown",
   "metadata": {},
   "source": [
    "Multiple pictures in the same cell can share the same caption, appended with (1), (2), etc.\n",
    "Use the substring `(###)` as a placeholder to be replaced with the running count number."
   ]
  },
  {
   "cell_type": "code",
   "execution_count": 64,
   "metadata": {
    "figureCaption": {
     "caption": "Shared caption (###)",
     "label": "fig:sharedcap",
     "locator": "tbp",
     "width": "0.2"
    }
   },
   "outputs": [
    {
     "data": {
      "image/png": "[encoded data removed]",
      "text/plain": [
       "<Figure size 360x360 with 1 Axes>"
      ]
     },
     "metadata": {
      "needs_background": "light"
     },
     "output_type": "display_data"
    },
    {
     "data": {
      "image/png": "[encoded data removed]",
      "text/plain": [
       "<Figure size 360x360 with 1 Axes>"
      ]
     },
     "metadata": {
      "needs_background": "light"
     },
     "output_type": "display_data"
    },
    {
     "data": {
      "image/png": "[encoded data removed]",
      "text/plain": [
       "<Figure size 360x360 with 1 Axes>"
      ]
     },
     "metadata": {
      "needs_background": "light"
     },
     "output_type": "display_data"
    }
   ],
   "source": [
    "plots = []\n",
    "for i,name in enumerate(['a','b','c']):\n",
    "    plots.append(ryplot.Plotter(i,1,1,figsize=(5,5)))\n",
    "    p = plots[-1]\n",
    "    p.plot(1, x,x ** (i+3))\n"
   ]
  },
  {
   "cell_type": "raw",
   "metadata": {},
   "source": [
    "\\FloatBarrier % message to latex, no floats past this barrier\n"
   ]
  },
  {
   "cell_type": "markdown",
   "metadata": {
    "run_control": {
     "frozen": false,
     "read_only": false
    }
   },
   "source": [
    "You can write HTML to the cell's output and have it displayed in the browser and also in the LaTeX file. "
   ]
  },
  {
   "cell_type": "code",
   "execution_count": 65,
   "metadata": {
    "run_control": {
     "frozen": false,
     "read_only": false
    }
   },
   "outputs": [
    {
     "data": {
      "text/html": [
       "<p><img src=\"images/flow2-zzz.png\" width=200 />"
      ],
      "text/plain": [
       "<IPython.core.display.HTML object>"
      ]
     },
     "execution_count": 65,
     "metadata": {},
     "output_type": "execute_result"
    }
   ],
   "source": [
    "htmlstr = '<p><img src=\"images/flow2-zzz.png\" width=200 />'\n",
    "HTML(htmlstr)                 "
   ]
  },
  {
   "cell_type": "markdown",
   "metadata": {},
   "source": [
    "There might be a picture before this text if the HTML pictures are exporting :-)"
   ]
  },
  {
   "cell_type": "markdown",
   "metadata": {
    "figureCaption": {
     "caption": [
      "Keep calm 1",
      "Keep calm 2"
     ],
     "label": "fig:keepcalm",
     "locator": "t",
     "width": [
      "0.1",
      "0.2"
     ]
    }
   },
   "source": [
    "Experimenting with embedded markdown images. The figures should be \n",
    "Figure~\\ref{fig:keepcalm-0} and \n",
    "Figure~\\ref{fig:keepcalm-1}.\n",
    "\n",
    "\n",
    "![](images/keep-calm-and-code-python_BW.png)\n",
    "\n",
    "![](images/random-squares-2.png)\n"
   ]
  },
  {
   "cell_type": "markdown",
   "metadata": {
    "run_control": {
     "frozen": false,
     "read_only": false
    }
   },
   "source": [
    "## Graphs as PDF documents"
   ]
  },
  {
   "cell_type": "markdown",
   "metadata": {
    "run_control": {
     "frozen": false,
     "read_only": false
    }
   },
   "source": [
    "Reports with many png images tends to create large PDF files.    If the graphs are exported as PDF files by the backend, the files are vector graphics and not large bitmaps, resulting in a much smaller final PDF report file. \n",
    "\n",
    "The PDF export functionality worked well in brief testing, but it still needs more testing.\n",
    "\n",
    "1.  Set up the notebook to use the PDF backend:\n",
    "        %config InlineBackend.figure_format = 'pdf'\n",
    "        \n",
    "2. With the PDF backend the graphs are saved as PDF documents in the notebook.  This converter script will export these as PDF files to the pictures directory.\n",
    "\n",
    "3. Compile the document with PDFLaTeX as usual.  It will look for the graphics files as PDF files, not PNG files.\n"
   ]
  },
  {
   "cell_type": "markdown",
   "metadata": {},
   "source": [
    "## Embedded PDF documents\n",
    "\n",
    "You can embed a PDF file in a notebook for display in the notebook with the following:\n",
    "\n",
    "    from IPython.display import IFrame\n",
    "    IFrame(\"./images/discretestrata01.pdf\", width=600, height=300)\n",
    "    IFrame(\"./images/Bankedturn.pdf\", width=600, height=300)\n",
    "\n",
    "<font size=\"3\" color=\"red\">This currently does not work in Chrome, but it does work in Firefox, provided you set the browser to open PDF files in the browser and not download the files.</font>\n",
    "\n",
    "The above code displays only the second iframe in the browser, it seems to overwrite the first.\n",
    "\n",
    "The converter will export both of the above PDF filenames for display in the latex document.\n",
    "\n"
   ]
  },
  {
   "cell_type": "code",
   "execution_count": 66,
   "metadata": {
    "figureCaption": {
     "caption": [
      "Stratified atmosphere",
      "Banked turn"
     ],
     "label": "fig:templabel",
     "locator": "tbp",
     "width": "0.5"
    }
   },
   "outputs": [
    {
     "data": {
      "text/html": [
       "\n",
       "        <iframe\n",
       "            width=\"600\"\n",
       "            height=\"300\"\n",
       "            src=\"./images/Bankedturn.pdf\"\n",
       "            frameborder=\"0\"\n",
       "            allowfullscreen\n",
       "        ></iframe>\n",
       "        "
      ],
      "text/plain": [
       "<IPython.lib.display.IFrame at 0x1924e9f8e50>"
      ]
     },
     "execution_count": 66,
     "metadata": {},
     "output_type": "execute_result"
    }
   ],
   "source": [
    "### \n",
    "from IPython.display import IFrame\n",
    "IFrame(\"./images/discretestrata01.pdf\", width=600, height=300)\n",
    "IFrame(\"./images/Bankedturn.pdf\", width=600, height=300)"
   ]
  },
  {
   "cell_type": "markdown",
   "metadata": {
    "run_control": {
     "frozen": false,
     "read_only": false
    }
   },
   "source": [
    "## Cells with Python errors"
   ]
  },
  {
   "cell_type": "markdown",
   "metadata": {
    "run_control": {
     "frozen": false,
     "read_only": false
    }
   },
   "source": [
    "The following line must be uncommented to have effect."
   ]
  },
  {
   "cell_type": "code",
   "execution_count": 67,
   "metadata": {
    "run_control": {
     "frozen": false,
     "read_only": false
    }
   },
   "outputs": [],
   "source": [
    "# type(eval(\"this is a test string\")) is not list"
   ]
  },
  {
   "cell_type": "markdown",
   "metadata": {
    "run_control": {
     "frozen": false,
     "read_only": false
    }
   },
   "source": [
    "## Embedded code (verbatim text)"
   ]
  },
  {
   "cell_type": "markdown",
   "metadata": {
    "run_control": {
     "frozen": false,
     "read_only": false
    }
   },
   "source": [
    "Some firewalls are set up to grant `localhost` execution rights.  In this case the server can be started with the command  \n",
    "`ipython notebook --ip=localhost`  \n",
    "\n",
    "\n",
    "Once started, the pages are served from   \n",
    "`http://localhost:8888/`  \n",
    "and not from `http://127.0.0.1:8888/`.\n",
    "\n",
    "Embedded code meant for illustration instead of execution in Python:\n",
    "\n",
    "    def hello_ipython():\n",
    "        print \"Hello IPython!\""
   ]
  },
  {
   "cell_type": "markdown",
   "metadata": {
    "run_control": {
     "frozen": false,
     "read_only": false
    }
   },
   "source": [
    "## Hyperlinks, references and citations"
   ]
  },
  {
   "cell_type": "markdown",
   "metadata": {
    "bibtexentry": {
     "gracec": "@MISC{gracec,  author = {Grace Cathedral},  title = {The Cathedral Labyrinths}, url = {http://www.gracecathedral.org/labyrinth/}}",
     "wing2006computational": "@article{wing2006computational,  title={Computational thinking}, author={Wing, Jeannette M},  journal={Communications of the ACM},  volume={49},  number={3},  pages={33--35},  year={2006}}"
    },
    "bibxref": {
     "httpipythonorg": "httpipythonorg",
     "httpsenwikipediaorgwikiWrappednormaldistribution": "httpsenwikipediaorgwikiWrappednormaldistribution",
     "httpswwwyoutubecomwatchvaIXED26Wppg": "httpswwwyoutubecomwatchvaIXED26Wppg"
    },
    "run_control": {
     "frozen": false,
     "read_only": false
    }
   },
   "source": [
    "### Embedded hyperlinks\n",
    "\n",
    "The [IPython website](http://ipython.org/) is the central repository of all things IPython.\n",
    "There are some really nice [videos](https://www.youtube.com/watch?v=aIXED26Wppg) on YouTube.\n",
    "\n",
    "For *URI references*, the `[IPython website](http://ipython.org/)` markup structure is read and the URI is used to create a citation label (`httpipythonorg`) and the URI (`http://ipython.org/`) is written to a new \\LaTeX{} bibtex file for the references in this notebook.\n",
    "\n",
    "For *other types of references* a workaround is required.  IPython is currently weak in the area of other types of references, because of limitations in the markup language.  The `ipnb2tex.py` script makes provision for including bibtex entries, by embedding the complete bibtex entry in a metadata field.\n",
    "\n",
    "Using the above approach creates a new bibtex file using the data in the notebook. Perhaps you might want to reference an existing bibtex file, mapping to the citation labels used in the notebook.\n",
    "The issue here is that the IPython notebook does not have access to your \\LaTeX{} bibtex file, so it does not know the citation references you want to use (the ones in your existing bibtex file).  \n",
    "The approach taken here is to provide a look-up translation table in this or any prior cell of the notebook, to translate citation references from the local name to your existing bibtex name.  This is done in a cross reference dictionary that maps the names created internally to the names in your external bibtex file.\n",
    "\n",
    "The metadata has two different fields, one to do the citation label mapping and the other to embed complete bibtex entries in the metadata.  The metadata field must have the following format:\n",
    "\n",
    "    {\n",
    "      \"bibxref\": {\n",
    "        \"httpipythonorg\": \"httpipythonorg\",\n",
    "        \"httpswwwyoutubecomwatchvaIXED26Wppg\": \"httpswwwyoutubecomwatchvaIXED26Wppg\",\n",
    "        \"httpsenwikipediaorgwikiWrappednormaldistribution\": \n",
    "                \"httpsenwikipediaorgwikiWrappednormaldistribution\"\n",
    "      },\n",
    "      \"bibtexentry\": {\n",
    "        \"wing2006computational\": \"@article{wing2006computational,  title={Computational thinking},  \n",
    "               author={Wing, Jeannette M},  journal={Communications of the ACM},  volume={49},  \n",
    "               number={3},  pages={33--35},  year={2006}}\",\n",
    "        \"gracec\": \"@MISC{gracec,  author = {Grace Cathedral},  title = {The Cathedral Labyrinths},  \n",
    "               url = {http://www.gracecathedral.org/labyrinth/}}\"\n",
    "      }\n",
    "    }\n",
    "\n",
    "where (1) the bibxref keys are the local names and the values are the names in your existing bibtex file and (2) the bibtexentry keys are the citation labels used in the notebook.  In the above example the bibxref maps to the same names, because I am using the locally generated bibtex file. Normally you would use your bibtex database entries.\n",
    "\n",
    "Note that the IPython notebook is somewhat finicky on the json format; each single entry in the above metadata must be on a single line (line-feeds inside the strings are not allowed --- lines tend to be very long).  Also, note the location of commas, there should be commas after all entries, except the last entry in a given scope.\n",
    "\n",
    "The `ipnb2tex.py` script:\n",
    "\n",
    "1. Loads/appends the bibxref translation table from any/all cells (if present).\n",
    "2. Reads the `[]()` markup structure and then builds a citation reference from the URI (by removing some characters).\n",
    "3. Create a bibtex entry for the reference (subsequently written to file).\n",
    "4. Using bibxref, translates the local citation label to your existing citation label.\n",
    "\n",
    "If you included bibtex items in the metadata, you can refer to them using the normal \\LaTeX{} notation. Test \\cite{wing2006computational} and \\cite{gracec}.\n",
    "\n",
    "\n",
    "At the conclusion of the processing the script reads all existing `*.bib` files in the cirrent folder and combine all of them into one file.  This way you can include prior existing bib files."
   ]
  },
  {
   "cell_type": "markdown",
   "metadata": {
    "run_control": {
     "frozen": false,
     "read_only": false
    }
   },
   "source": [
    "## General markdown formatting"
   ]
  },
  {
   "cell_type": "markdown",
   "metadata": {
    "run_control": {
     "frozen": false,
     "read_only": false
    }
   },
   "source": [
    "Markdown basics: lists, markup and code  \n",
    "\n",
    "\n",
    "* list item1   in markdown format.\n",
    "* list item2   \n",
    "    - nested <font size=\"3\" color=\"red\">list item3</font> - font attributes not yet supported.  \n",
    "* *italics*    \n",
    "* **bold**\n",
    "* `fixed font`    \n",
    "\n",
    "<p/>\n",
    "\n",
    "\n",
    "1.  Enumerated list item 1 in markdown format.\n",
    "    1. sub lit element 1  \n",
    "    1. sub lit element 2  \n",
    "2.  Enumerated list item 2.  \n",
    "\n",
    "\n",
    "The markup language (or the converter) breaks if an itemized list and an enumerated list are immediately adjacent --- we need to separate the lists by text with with a `<p/>`."
   ]
  },
  {
   "cell_type": "markdown",
   "metadata": {
    "figureCaption": {
     "caption": "Boxy picture",
     "label": "fig:propflightpaths",
     "locator": "t",
     "width": "0.1"
    }
   },
   "source": [
    "Please note that the converter does not currently allow free standing (enter-twice) paragraphs inside lists.  Please make the paragraphs touch and use double spaces at the end to force a new line. This will be converted to loose standing paragraphs in LaTeX.\n",
    "\n",
    "1. list item1 in markdown format.\n",
    "\n",
    "2. list item2    \n",
    "   item2 new parra 1   \n",
    "   item2 new parra 1   \n",
    "\n",
    "3. list item3  \n",
    "    item3 new parra 1  \n",
    "    item3 new parra 2  \n",
    "\n",
    "4. list item4 [ this does not work correctly ]\n",
    "    \n",
    "     item4 new parra 1 [ this does not work correctly ]\n",
    "     \n",
    "     item4 new parra 2 [ this does not work correctly ]\n",
    "      \n",
    "4. list item5  [ this should work correctly ]     \n",
    "     item5 new parra 1    [ this should work correctly ]. We reference Figure~\\ref{fig:propflightpaths-0} here.     \n",
    "     ![](images/random-squares-2.png)  \n",
    "     item5 new parra 2    [ this should work correctly ]     \n",
    "      "
   ]
  },
  {
   "cell_type": "markdown",
   "metadata": {
    "run_control": {
     "frozen": false,
     "read_only": false
    }
   },
   "source": [
    "<p>Lists in HTML format</p>\n",
    "\n",
    "<ul>\n",
    "<li>list item</li>\n",
    "<li>list item</li>\n",
    "<ul>\n",
    "<li>nested <font size=\"3\" color=\"red\">list item</font></li>\n",
    "</ul>\n",
    "<li><em>italics</em></li>\n",
    "<li><strong>bold</strong></li>\n",
    "\n",
    "<li><code>fixed font</code></li>\n",
    "</ul>\n",
    "\n",
    "<ol>\n",
    "<li>Enumerated list item 1.</li>\n",
    "<ol>\n",
    "    <li>sub lit element 1</li>\n",
    "    <li>sub lit element 2</li>\n",
    "</ol>\n",
    "\n",
    "<li>Enumerated list item 2.</li>\n",
    "\n",
    "</ol>\n",
    "\n",
    "\n"
   ]
  },
  {
   "cell_type": "markdown",
   "metadata": {
    "run_control": {
     "frozen": false,
     "read_only": false
    },
    "tableCaption": {
     "caption": "Caption text for first table",
     "fontsize": "normalsize",
     "format": "{|p{10mm}|l|r|c|c|p{50mm}|p{20mm}|}",
     "label": "tab:lab1"
    }
   },
   "source": [
    "## Tables\n",
    "\n",
    "The table in this cell is rendered in \\LaTeX{} with the following metadata:  \n",
    "\n",
    "    {\n",
    "      \"tableCaption\": {\n",
    "        \"caption\": \"Caption text for first table\",\n",
    "        \"label\": \"tab:lab1\",\n",
    "        \"format\": \"{|p{10mm}|l|r|c|c|p{50mm}|p{20mm}|}\",\n",
    "        \"fontsize\": \"normalsize\",\n",
    "        \"locator\": \"t\"\n",
    "      }\n",
    "    }\n",
    "\n",
    "A complex HTML table with row spans and column spans:\n",
    "\n",
    "<table class=MsoTableGrid border=1 cellspacing=0 cellpadding=0\n",
    " style='border-collapse:collapse;border:none'>\n",
    " <tr>\n",
    "  <td width=109 valign=top style='width:82.1pt;border:solid windowtext 1.0pt;\n",
    "  padding:0cm 5.4pt 0cm 5.4pt'>\n",
    "  <p class=MsoBodyText><a name=\"_GoBack\"></a><span lang=EN-ZA>a</span></p>\n",
    "  </td>\n",
    "  <td width=219 colspan=2 valign=top style='width:164.2pt;border:solid windowtext 1.0pt;\n",
    "  border-left:none;padding:0cm 5.4pt 0cm 5.4pt'>\n",
    "  <p class=MsoBodyText><span lang=EN-ZA>b</span></p>\n",
    "  </td>\n",
    "  <td width=219 colspan=3 valign=top style='width:164.25pt;border:solid windowtext 1.0pt;\n",
    "  border-left:none;padding:0cm 5.4pt 0cm 5.4pt'>\n",
    "  <p class=MsoBodyText><span lang=EN-ZA>c</span></p>\n",
    "  </td>\n",
    "  <td width=219  valign=top style='width:164.25pt;border:solid windowtext 1.0pt;\n",
    "  border-left:none;padding:0cm 5.4pt 0cm 5.4pt'>\n",
    "  <p class=MsoBodyText><span lang=EN-ZA>1</span></p>\n",
    "  </td>\n",
    " </tr>\n",
    " <tr>\n",
    "  <td width=109 rowspan=2 valign=top style='width:82.1pt;border:solid windowtext 1.0pt;\n",
    "  border-top:none;padding:0cm 5.4pt 0cm 5.4pt'>\n",
    "  <p class=MsoBodyText><span lang=EN-ZA>e</span></p>\n",
    "  </td>\n",
    "  <td width=109 valign=top style='width:82.1pt;border-top:none;border-left:\n",
    "  none;border-bottom:solid windowtext 1.0pt;border-right:solid windowtext 1.0pt;\n",
    "  padding:0cm 5.4pt 0cm 5.4pt'>\n",
    "  <p class=MsoBodyText><span lang=EN-ZA>f</span></p>\n",
    "  </td>\n",
    "  <td width=219 colspan=2 valign=top style='width:164.2pt;border-top:none;\n",
    "  border-left:none;border-bottom:solid windowtext 1.0pt;border-right:solid windowtext 1.0pt;\n",
    "  padding:0cm 5.4pt 0cm 5.4pt'>\n",
    "  <p class=MsoBodyText><span lang=EN-ZA>g</span></p>\n",
    "  </td>\n",
    "  <td width=110 valign=top style='width:82.15pt;border-top:none;border-left:\n",
    "  none;border-bottom:solid windowtext 1.0pt;border-right:solid windowtext 1.0pt;\n",
    "  padding:0cm 5.4pt 0cm 5.4pt'>\n",
    "  <p class=MsoBodyText><span lang=EN-ZA>h</span></p>\n",
    "  </td>\n",
    "  <td width=110 valign=top style='width:82.15pt;border-top:none;border-left:\n",
    "  none;border-bottom:solid windowtext 1.0pt;border-right:solid windowtext 1.0pt;\n",
    "  padding:0cm 5.4pt 0cm 5.4pt'>\n",
    "  <p class=MsoBodyText><span lang=EN-ZA>i</span></p>\n",
    "  </td>\n",
    "   <td width=219  valign=top style='width:164.25pt;border:solid windowtext 1.0pt;\n",
    "  border-left:none;padding:0cm 5.4pt 0cm 5.4pt'>\n",
    "  <p class=MsoBodyText><span lang=EN-ZA>2</span></p>\n",
    "  </td>\n",
    "</tr>\n",
    " <tr>\n",
    "  <td width=219 colspan=2 valign=top style='width:164.2pt;border-top:none;\n",
    "  border-left:none;border-bottom:solid windowtext 1.0pt;border-right:solid windowtext 1.0pt;\n",
    "  padding:0cm 5.4pt 0cm 5.4pt'>\n",
    "  <p class=MsoBodyText><span lang=EN-ZA>j</span></p>\n",
    "  </td>\n",
    "  <td width=109 valign=top style='width:82.1pt;border-top:none;border-left:\n",
    "  none;border-bottom:solid windowtext 1.0pt;border-right:solid windowtext 1.0pt;\n",
    "  padding:0cm 5.4pt 0cm 5.4pt'>\n",
    "  <p class=MsoBodyText><span lang=EN-ZA>k</span></p>\n",
    "  </td>\n",
    "  <td width=110 rowspan=2 valign=top style='width:82.15pt;border-top:none;\n",
    "  border-left:none;border-bottom:solid windowtext 1.0pt;border-right:solid windowtext 1.0pt;\n",
    "  padding:0cm 5.4pt 0cm 5.4pt'>\n",
    "  <p class=MsoBodyText><span lang=EN-ZA>l</span></p>\n",
    "  </td>\n",
    "  <td width=110 valign=top style='width:82.15pt;border-top:none;border-left:\n",
    "  none;border-bottom:solid windowtext 1.0pt;border-right:solid windowtext 1.0pt;\n",
    "  padding:0cm 5.4pt 0cm 5.4pt'>\n",
    "  <p class=MsoBodyText><span lang=EN-ZA>m</span></p>\n",
    "  </td>\n",
    "  <td width=219  valign=top style='width:164.25pt;border:solid windowtext 1.0pt;\n",
    "  border-left:none;padding:0cm 5.4pt 0cm 5.4pt'>\n",
    "  <p class=MsoBodyText><span lang=EN-ZA>3</span></p>\n",
    "  </td>\n",
    " </tr>\n",
    " <tr>\n",
    "  <td width=109 valign=top style='width:82.1pt;border:solid windowtext 1.0pt;\n",
    "  border-top:none;padding:0cm 5.4pt 0cm 5.4pt'>\n",
    "  <p class=MsoBodyText><span lang=EN-ZA>n</span></p>\n",
    "  </td>\n",
    "  <td width=109 valign=top style='width:82.1pt;border-top:none;border-left:\n",
    "  none;border-bottom:solid windowtext 1.0pt;border-right:solid windowtext 1.0pt;\n",
    "  padding:0cm 5.4pt 0cm 5.4pt'>\n",
    "  <p class=MsoBodyText><span lang=EN-ZA>o</span></p>\n",
    "  </td>\n",
    "  <td width=109 valign=top style='width:82.1pt;border-top:none;border-left:\n",
    "  none;border-bottom:solid windowtext 1.0pt;border-right:solid windowtext 1.0pt;\n",
    "  padding:0cm 5.4pt 0cm 5.4pt'>\n",
    "  <p class=MsoBodyText><span lang=EN-ZA>p</span></p>\n",
    "  </td>\n",
    "  <td width=109 valign=top style='width:82.1pt;border-top:none;border-left:\n",
    "  none;border-bottom:solid windowtext 1.0pt;border-right:solid windowtext 1.0pt;\n",
    "  padding:0cm 5.4pt 0cm 5.4pt'>\n",
    "  <p class=MsoBodyText><span lang=EN-ZA>q</span></p>\n",
    "  </td>\n",
    "  <td width=110 valign=top style='width:82.15pt;border-top:none;border-left:\n",
    "  none;border-bottom:solid windowtext 1.0pt;border-right:solid windowtext 1.0pt;\n",
    "  padding:0cm 5.4pt 0cm 5.4pt'>\n",
    "  <p class=MsoBodyText><span lang=EN-ZA>r</span></p>\n",
    "  </td>\n",
    "  <td width=219  valign=top style='width:164.25pt;border:solid windowtext 1.0pt;\n",
    "  border-left:none;padding:0cm 5.4pt 0cm 5.4pt'>\n",
    "  <p class=MsoBodyText><span lang=EN-ZA>4</span></p>\n",
    "  </td>\n",
    " </tr>\n",
    " <tr>\n",
    "  <td width=109 valign=top style='width:82.1pt;border:solid windowtext 1.0pt;\n",
    "  border-top:none;padding:0cm 5.4pt 0cm 5.4pt'>\n",
    "  <p class=MsoBodyText><span lang=EN-ZA>s</span></p>\n",
    "  </td>\n",
    "  <td width=109 valign=top style='width:82.1pt;border-top:none;border-left:\n",
    "  none;border-bottom:solid windowtext 1.0pt;border-right:solid windowtext 1.0pt;\n",
    "  padding:0cm 5.4pt 0cm 5.4pt'>\n",
    "  <p class=MsoBodyText><span lang=EN-ZA>t</span></p>\n",
    "  </td>\n",
    "  <td width=109 valign=top style='width:82.1pt;border-top:none;border-left:\n",
    "  none;border-bottom:solid windowtext 1.0pt;border-right:solid windowtext 1.0pt;\n",
    "  padding:0cm 5.4pt 0cm 5.4pt'>\n",
    "  <p class=MsoBodyText><span lang=EN-ZA>u</span></p>\n",
    "  </td>\n",
    "  <td width=109 valign=top style='width:82.1pt;border-top:none;border-left:\n",
    "  none;border-bottom:solid windowtext 1.0pt;border-right:solid windowtext 1.0pt;\n",
    "  padding:0cm 5.4pt 0cm 5.4pt'>\n",
    "  <p class=MsoBodyText><span lang=EN-ZA>v</span></p>\n",
    "  </td>\n",
    "  <td width=110 valign=top style='width:82.15pt;border-top:none;border-left:\n",
    "  none;border-bottom:solid windowtext 1.0pt;border-right:solid windowtext 1.0pt;\n",
    "  padding:0cm 5.4pt 0cm 5.4pt'>\n",
    "  <p class=MsoBodyText><span lang=EN-ZA>w</span></p>\n",
    "  </td>\n",
    "  <td width=110 valign=top style='width:82.15pt;border-top:none;border-left:\n",
    "  none;border-bottom:solid windowtext 1.0pt;border-right:solid windowtext 1.0pt;\n",
    "  padding:0cm 5.4pt 0cm 5.4pt'>\n",
    "  <p class=MsoBodyText><span lang=EN-ZA>x</span></p>\n",
    "  </td>\n",
    "  <td width=219  valign=top style='width:164.25pt;border:solid windowtext 1.0pt;\n",
    "  border-left:none;padding:0cm 5.4pt 0cm 5.4pt'>\n",
    "  <p class=MsoBodyText><span lang=EN-ZA>5</span></p>\n",
    "  </td>\n",
    " </tr>\n",
    "</table>\n"
   ]
  },
  {
   "cell_type": "markdown",
   "metadata": {
    "run_control": {
     "frozen": false,
     "read_only": false
    },
    "tableCaption": {
     "caption": "['Caption text for (first) second table','','Caption text for (third) second table']",
     "fontsize": "['normalsize','tiny','Large']",
     "format": "['{|p{20mm}|r|}','','{|c|l|}']",
     "label": "tab:lab2"
    }
   },
   "source": [
    "The tables in this cell are rendered in \\LaTeX{} with the following metadata:  \n",
    "\n",
    "    {\n",
    "      \"tableCaption\": {\n",
    "        \"caption\": \"['Caption text for (first) second table','','Caption text for (third) second table']\",\n",
    "        \"label\": \"tab:lab2\",\n",
    "        \"format\": \"['{|p{20mm}|r|}','','{|c|l|}']\",\n",
    "        \"fontsize\": \"['normalsize', 'tiny', 'Large']\"\n",
    "      }\n",
    "    }\n",
    "    \n",
    "Github flavoured markdown tables are supported in the IPython notebook (floating in \\LaTeX{} as Table~\\ref{tab:lab2-0}):  \n",
    "\n",
    "| This | is   |\n",
    "|------|------|\n",
    "|   a  | table| \n",
    "\n",
    "second table  (non-floating in \\LaTeX{}):  \n",
    "\n",
    "| This | is   |\n",
    "|------|------|\n",
    "|   a  | small table| \n",
    "\n",
    "\n",
    "PHP Markdown Extra is also supported  (floating in \\LaTeX{} as Table~\\ref{tab:lab2-2}):  \n",
    "\n",
    "First Header  | Second Header\n",
    "------------- | -------------\n",
    "Content Cell  | Content Cell\n",
    "Content Cell  | Content Cell\n",
    "\n",
    "Both of these markup extensions require Python Markdown 2.4.1 to render HTML."
   ]
  },
  {
   "cell_type": "raw",
   "metadata": {},
   "source": [
    "Table~\\ref{tab:hiertab12-0} has an hierarchical structure on both columns and rows.  The percentage and underline characters are also preserved.\n"
   ]
  },
  {
   "cell_type": "markdown",
   "metadata": {
    "run_control": {
     "frozen": false,
     "read_only": false
    },
    "tableCaption": {
     "caption": "Caption text for hierarchical table",
     "fontsize": "normalsize",
     "format": "|l|l|l|*{2}{>{\\RaggedLeft}p{8mm}|}",
     "label": "tab:hiertab12"
    }
   },
   "source": [
    "<table border=\"1\" class=\"dataframe\">\n",
    "  <thead>\n",
    "    <tr>\n",
    "      <th></th>\n",
    "      <th></th>\n",
    "      <th>CHead 1</th>\n",
    "      <th colspan=\"2\" halign=\"left\">CLevel 1:1</th>\n",
    "    </tr>\n",
    "    <tr>\n",
    "      <th></th>\n",
    "      <th></th>\n",
    "      <th>CHead 2</th>\n",
    "      <th>CLevel 2:1</th>\n",
    "      <th>CLevel 2:2</th>\n",
    "    </tr>\n",
    "    <tr>\n",
    "      <th>RHead 1</th>\n",
    "      <th>RHead 2</th>\n",
    "      <th>RHead 3</th>\n",
    "      <th></th>\n",
    "      <th></th>\n",
    "    </tr>\n",
    "  </thead>\n",
    "  <tbody>\n",
    "    <tr>\n",
    "      <th rowspan=\"9\" valign=\"top\">RLevel 1:1%_</th>\n",
    "      <th rowspan=\"3\" valign=\"top\">RLevel 2:1</th>\n",
    "      <th>A</th>\n",
    "      <td> 6000%</td>\n",
    "      <td> 6156</td>\n",
    "    </tr>\n",
    "    <tr>\n",
    "      <th>B</th>\n",
    "      <td> 2417</td>\n",
    "      <td> 2471</td>\n",
    "    </tr>\n",
    "    <tr>\n",
    "      <th>C</th>\n",
    "      <td> 1274</td>\n",
    "      <td> 1347</td>\n",
    "    </tr>\n",
    "    <tr>\n",
    "      <th rowspan=\"3\" valign=\"top\">RLevel 2:2</th>\n",
    "      <th>A</th>\n",
    "      <td>10909</td>\n",
    "      <td>11041</td>\n",
    "    </tr>\n",
    "    <tr>\n",
    "      <th>B</th>\n",
    "      <td> 4400</td>\n",
    "      <td> 4408</td>\n",
    "    </tr>\n",
    "    <tr>\n",
    "      <th>C</th>\n",
    "      <td> 2309</td>\n",
    "      <td> 2319</td>\n",
    "    </tr>\n",
    "    <tr>\n",
    "      <th rowspan=\"3\" valign=\"top\">RLevel 2:3</th>\n",
    "      <th>A</th>\n",
    "      <td>11573</td>\n",
    "      <td>11178</td>\n",
    "    </tr>\n",
    "    <tr>\n",
    "      <th>B</th>\n",
    "      <td> 4461</td>\n",
    "      <td> 4976</td>\n",
    "    </tr>\n",
    "    <tr>\n",
    "      <th>C</th>\n",
    "      <td> 2432</td>\n",
    "      <td> 2410</td>\n",
    "    </tr>\n",
    "    <tr>\n",
    "      <th rowspan=\"9\" valign=\"top\">RLevel 1:2%_</th>\n",
    "      <th rowspan=\"3\" valign=\"top\">RLevel 2:1</th>\n",
    "      <th>A</th>\n",
    "      <td> 6728</td>\n",
    "      <td> 6595</td>\n",
    "    </tr>\n",
    "    <tr>\n",
    "      <th>B</th>\n",
    "      <td> 2322</td>\n",
    "      <td> 2679</td>\n",
    "    </tr>\n",
    "    <tr>\n",
    "      <th>C</th>\n",
    "      <td> 1300</td>\n",
    "      <td> 1474</td>\n",
    "    </tr>\n",
    "    <tr>\n",
    "      <th rowspan=\"3\" valign=\"top\">RLevel 2:2</th>\n",
    "      <th>A</th>\n",
    "      <td>1210</td>\n",
    "      <td>12344</td>\n",
    "    </tr>\n",
    "    <tr>\n",
    "      <th>B</th>\n",
    "      <td> 4845</td>\n",
    "      <td> 4367</td>\n",
    "    </tr>\n",
    "    <tr>\n",
    "      <th>C</th>\n",
    "      <td> 2618</td>\n",
    "      <td> 2525</td>\n",
    "    </tr>\n",
    "    <tr>\n",
    "      <th rowspan=\"3\" valign=\"top\">RLevel 2:3</th>\n",
    "      <th>A</th>\n",
    "      <td>12553</td>\n",
    "      <td>12117</td>\n",
    "    </tr>\n",
    "    <tr>\n",
    "      <th>B</th>\n",
    "      <td> 4895</td>\n",
    "      <td> 4835</td>\n",
    "    </tr>\n",
    "    <tr>\n",
    "      <th>C</th>\n",
    "      <td> 2566</td>\n",
    "      <td> 2991</td>\n",
    "    </tr>\n",
    "  </tbody>\n",
    "</table>\n"
   ]
  },
  {
   "cell_type": "markdown",
   "metadata": {
    "run_control": {
     "frozen": false,
     "read_only": false
    }
   },
   "source": [
    "The infrared sensor example has the following design characteristics:\n",
    "\n",
    "| Characteristic | Value |Unit |  Motivation |\n",
    "|--|--|--|--| \n",
    "|Spectral response |3.7--4.9| $\\mu$m| detector specification|\n",
    "|Pixel size (x and y) |12| $\\mu$m| detector specification|\n",
    "|Pixel fill factor  |0.95| | detector specification|\n",
    "|Detector temperature  |80|K | detector specification|\n",
    "|Detector external quantum efficiency  |0.8| | detector specification|\n",
    "|Detector internal quantum efficiency  |0.75| | detector specification|\n",
    "|Number rows | 144 | - |  detector specification|\n",
    "|Number columns | 256 | - |  detector specification|\n",
    "|Detector PRNU  stddev | 0.2 | | detector specification|\n",
    "|Well capacity at 1 V|3.2e+6 |e | detector specification|\n",
    "|Sense node voltage| 3.0 $\\rightarrow$ 1.0 |V | detector specification|\n",
    "|F-number | 3.2 | - | detector specification|\n",
    "|Band gap 0~K | 0.235 | eV | material property|\n",
    "|Varshni A | 0.00068 |  | material model|\n",
    "|Varshni B | 500 |  | material model|\n",
    "|Dark FOM | 4e-9 | nA/cm$^2$ | material model|\n",
    "|Dark cm | 1 |  | material model|\n",
    "|Dark FPN stddev | 0.4 |  | material model|\n",
    "|Well capacitance at 1.0 V|5.13e-13| F | by calculation|\n",
    "|k1 | 5.13e-13 | CV |by calculation|\n",
    "|Gain at 1.0 V |3.125e-07 | V/e| by calculation|\n",
    "|Pixel IFOV (x and y) |100.0e-6| rad| design choice|\n",
    "|Frame time | 0.02 | s |  design choice|\n",
    "|Focal length | 0.12 | m | design choice|\n",
    "|Full field angle | 0.84 | deg| focal length and detector|\n",
    "\n",
    "Charge well (sense node) capacitance $C = nq/V$. The charge well is filled to capacity at the minimum sense node voltage $C = \\num{3.2e6}\\times\\num{1.6e-19}/1.0= \\num{0.513e-12}$~F.  Then $k_1=CV=\\num{0.513e-12}\\times 1=\\num{0.513e-12}$.\n",
    "\n",
    "Sense node gain is given by $V/n = q/C = \\num{1.6e-19}/\\num{0.513e-12}=\\num{3.12e-07}$ V/e.\n",
    "\n"
   ]
  },
  {
   "cell_type": "markdown",
   "metadata": {
    "run_control": {
     "frozen": false,
     "read_only": false
    },
    "tableCaption": {
     "fontsize": "footnotesize",
     "format": "{|p{10mm}|p{50mm}|p{100mm}|}"
    }
   },
   "source": [
    "A table can be formatted with the metadata, even if the table is not floating with a caption. For example, the following table only uses the following metadata:\n",
    "\n",
    "\n",
    "    {\n",
    "      \"tableCaption\": {\n",
    "        \"format\": \"{|p{10mm}|p{50mm}|p{100mm}|}\",\n",
    "        \"fontsize\": \"footnotesize\"\n",
    "      }\n",
    "    }\n",
    "\n",
    "\n",
    "<table border=\"1\" CELLSPACING=\"1\" CELLPADDING=\"4\">\n",
    "    <tr>\n",
    "        <td WIDTH=\"9%\" VALIGN=\"TOP\" BGCOLOR=\"#cccccc\"><b>\n",
    "        <p ALIGN=\"CENTER\">Column Number</b></td>\n",
    "        <td WIDTH=\"31%\" VALIGN=\"MIDDLE\" BGCOLOR=\"#cccccc\"><b>\n",
    "        <p ALIGN=\"CENTER\">Column Description</b></td>\n",
    "        <td WIDTH=\"60%\" VALIGN=\"MIDDLE\" BGCOLOR=\"#cccccc\"><b>\n",
    "        <p ALIGN=\"CENTER\">Example Values</b></td>\n",
    "    </tr>\n",
    "    <tr>\n",
    "        <td WIDTH=\"9%\" VALIGN=\"TOP\" BGCOLOR=\"#eeeeee\">1</td>\n",
    "        <td WIDTH=\"31%\" VALIGN=\"TOP\" BGCOLOR=\"#eeeeee\">Unique row identifier</td>\n",
    "        <td WIDTH=\"60%\" VALIGN=\"TOP\" BGCOLOR=\"#eeeeee\">\n",
    "        MOD15A2.A2000057.h12v03.004.2002357024124.FparExtra_QC<p>\n",
    "        MOD15A2.A2000057.h12v03.004.2002357024124.Lai_1km</td>\n",
    "    </tr>\n",
    "    <tr>\n",
    "        <td WIDTH=\"9%\" VALIGN=\"TOP\" BGCOLOR=\"#eeeeee\">2</td>\n",
    "        <td WIDTH=\"31%\" VALIGN=\"TOP\" BGCOLOR=\"#eeeeee\">MODIS Land Product \n",
    "        Code</td>\n",
    "        <td WIDTH=\"60%\" VALIGN=\"TOP\" BGCOLOR=\"#eeeeee\">MOD15A2</td>\n",
    "    </tr>\n",
    "    <tr>\n",
    "        <td WIDTH=\"9%\" VALIGN=\"TOP\" BGCOLOR=\"#eeeeee\">3</td>\n",
    "        <td WIDTH=\"31%\" VALIGN=\"TOP\" BGCOLOR=\"#eeeeee\">MODIS Acquisition \n",
    "        Date [ A (YYYYDDD) ]</td>\n",
    "        <td WIDTH=\"60%\" VALIGN=\"TOP\" BGCOLOR=\"#eeeeee\">A2000057</td>\n",
    "    </tr>\n",
    "    <tr>\n",
    "        <td WIDTH=\"9%\" VALIGN=\"TOP\" BGCOLOR=\"#eeeeee\">4</td>\n",
    "        <td WIDTH=\"31%\" VALIGN=\"TOP\" BGCOLOR=\"#eeeeee\">User selected center \n",
    "        point coordinates and specified width (Samp) and height (Line) of \n",
    "        bounding rectangle in pixels. Width x height denotes number of \n",
    "        Product values starting in Column 7. (e.g.,  7 x 7 = 49)</td>\n",
    "        <td WIDTH=\"60%\" VALIGN=\"TOP\" BGCOLOR=\"#eeeeee\">\n",
    "        Lat55.879620Lon-98.480810Samp7Line7</td>\n",
    "    </tr>\n",
    "    <tr>\n",
    "        <td WIDTH=\"9%\" VALIGN=\"TOP\" BGCOLOR=\"#eeeeee\">5</td>\n",
    "        <td WIDTH=\"31%\" VALIGN=\"TOP\" BGCOLOR=\"#eeeeee\">MODIS Processing Date \n",
    "        (YYYYDDDHHMMSS)</td>\n",
    "        <td WIDTH=\"60%\" VALIGN=\"TOP\" BGCOLOR=\"#eeeeee\">2002357024124</td>\n",
    "    </tr>\n",
    "    <tr>\n",
    "        <td WIDTH=\"9%\" VALIGN=\"TOP\" BGCOLOR=\"#eeeeee\">6</td>\n",
    "        <td WIDTH=\"31%\" VALIGN=\"TOP\" BGCOLOR=\"#eeeeee\">Product Scientific \n",
    "        Data Set (Band): Indicates type of values to follow. Specific values \n",
    "        vary by Product. Data quality information are interleaved.</td>\n",
    "        <td WIDTH=\"60%\" VALIGN=\"TOP\" BGCOLOR=\"#eeeeee\">MOD15A2: FparExtra_QC,  \n",
    "        FparLai_QC,  Fpar_1km<p>MOD17A2: Gpp_1km,  PsnNet_1km,  Psn_QC_1km</td>\n",
    "    </tr>\n",
    "    <tr>\n",
    "        <td WIDTH=\"9%\" VALIGN=\"TOP\" BGCOLOR=\"#eeeeee\">7 to N</td>\n",
    "        <td WIDTH=\"31%\" VALIGN=\"TOP\" BGCOLOR=\"#eeeeee\">Data values of type \n",
    "        as specified. Number of data columns as given in Column 4.<p>\n",
    "        Definition of QC component values vary by Scientific Data Set.</td>\n",
    "        <td WIDTH=\"60%\" VALIGN=\"TOP\" BGCOLOR=\"#eeeeee\">QC: \n",
    "        00100001, 01100001, 01100001,  ...<p>Measurement: \n",
    "        2, 2, 1, 1, 1, 1, 1, 0, 0, 0, 1, 1, 0, 0, ...to N</td>\n",
    "    </tr>\n",
    "</table>\n"
   ]
  },
  {
   "cell_type": "markdown",
   "metadata": {
    "run_control": {
     "frozen": false,
     "read_only": false
    }
   },
   "source": [
    "Pandas dataframe HTML tables are also rendered."
   ]
  },
  {
   "cell_type": "code",
   "execution_count": 68,
   "metadata": {
    "run_control": {
     "frozen": false,
     "read_only": false
    }
   },
   "outputs": [
    {
     "data": {
      "text/html": [
       "<table border=\"1\" class=\"dataframe\">\n",
       "  <thead>\n",
       "    <tr style=\"text-align: right;\">\n",
       "      <th></th>\n",
       "      <th>one</th>\n",
       "      <th>two</th>\n",
       "    </tr>\n",
       "  </thead>\n",
       "  <tbody>\n",
       "    <tr>\n",
       "      <th>a</th>\n",
       "      <td>1.0</td>\n",
       "      <td>1.0</td>\n",
       "    </tr>\n",
       "    <tr>\n",
       "      <th>b</th>\n",
       "      <td>2.0</td>\n",
       "      <td>2.0</td>\n",
       "    </tr>\n",
       "    <tr>\n",
       "      <th>c</th>\n",
       "      <td>3.0</td>\n",
       "      <td>3.0</td>\n",
       "    </tr>\n",
       "    <tr>\n",
       "      <th>d</th>\n",
       "      <td>NaN</td>\n",
       "      <td>4.0</td>\n",
       "    </tr>\n",
       "  </tbody>\n",
       "</table>"
      ],
      "text/plain": [
       "<IPython.core.display.HTML object>"
      ]
     },
     "execution_count": 68,
     "metadata": {},
     "output_type": "execute_result"
    }
   ],
   "source": [
    "import pandas as pd\n",
    "d = {'one' : pd.Series([1., 2., 3.], index=['a', 'b', 'c']),\n",
    "     'two' : pd.Series([1., 2., 3., 4.], index=['a', 'b', 'c', 'd'])}\n",
    "\n",
    "df = pd.DataFrame(d)\n",
    "\n",
    "HTML(df.to_html())"
   ]
  },
  {
   "cell_type": "markdown",
   "metadata": {},
   "source": [
    "### Font size in tables \n",
    "\n",
    "If both `latex/fontsize` and `tableCaption/fontsize` are present then the `tableCaption/fontsize` takes preference, and the table (only) is rendered in the specified fontsize.  The floating caption is in the normal document font size.\n",
    "\n",
    "    {\n",
    "      \"latex\": {\n",
    "        \"fontsize\": \"scriptsize\"\n",
    "      },\n",
    "      \"tableCaption\": {\n",
    "        \"caption\": \"Caption text for Pandas table\",\n",
    "        \"label\": \"tab:lab1\",\n",
    "        \"format\": \"somelabel\",\n",
    "        \"fontsize\": \"tiny\"\n",
    "      }\n",
    "    }\n"
   ]
  },
  {
   "cell_type": "markdown",
   "metadata": {
    "run_control": {
     "frozen": false,
     "read_only": false
    }
   },
   "source": [
    "# Embedding LaTeX code in output cells"
   ]
  },
  {
   "cell_type": "markdown",
   "metadata": {
    "run_control": {
     "frozen": false,
     "read_only": false
    }
   },
   "source": [
    "Jupyer uses MathJax for LaTeX rendering in the markdown cells.  This is very useful for documentation in general, but sometimes MathJax is not sufficient for special LaTeX constructs. LaTeX constructs can be embedded (but not rendered in Jupyter) in output cells.   The LaTeX in the output cell can then be rendered/typeset when the converted LaTeX document is built.   \n",
    "\n",
    "Any string you construct in a code cell and then use the `IPython.display.Latex` function to display will be embedded in the output cell as a data of mime type `text/latex`.  The ipynb2tex converter will then process this LaTeX in the output cell as regular LaTeX in the target document.  So the following code:\n",
    "\n",
    "    from IPython.display import Latex\n",
    "    lstr = 'This is a \\LaTeX string.'\n",
    "    Latex(lstr)\n",
    "    \n",
    "Will make a mime type `text/latex` data entry with the contents of `lstr` in the output cell.  When rendered in the notebook, it will simply show the text as entered.  \n",
    "\n",
    "With this functionality, LaTeX code of any complexity can be constructed by code, for eventual typesetting by the LaTeX compiler after the notebook has been converted to LaTeX."
   ]
  },
  {
   "cell_type": "markdown",
   "metadata": {
    "run_control": {
     "frozen": false,
     "read_only": false
    }
   },
   "source": [
    "## Pandas DataFrame to LaTeX\n",
    "\n",
    "\n",
    "The following example shows how to export a Pandas dataframe to a `IPython.core.display.Latex object` in the string `lstr`. When viewed in the notebook, the table is shown as a LaTeX code, but when the conversion to a LaTeX document takes place, the LaTeX is rendered as regular LaTeX in the output PDF file.\n",
    "\n",
    "The table format specification is provided by the Pandas  [to_latex(column_format)](http://pandas.pydata.org/pandas-docs/stable/generated/pandas.DataFrame.to_latex.html) argument,  as in \n",
    "\n",
    "    '|l|l|p{50mm}|c|r|'\n",
    "\n"
   ]
  },
  {
   "cell_type": "code",
   "execution_count": 69,
   "metadata": {
    "run_control": {
     "frozen": false,
     "read_only": false
    }
   },
   "outputs": [
    {
     "data": {
      "text/latex": [
       "\\begin{tabular}{|l|l|l|p{50mm}|c|r|}\n",
       "\\toprule\n",
       "{} &         A &         B &         C &         D &         E \\\\\n",
       "\\midrule\n",
       "2013-01-01 &  0.083049 & -0.106439 &  0.381134 & -0.518548 & -1.255566 \\\\\n",
       "2013-01-02 & -0.570557 & -0.456681 &  1.154854 & -0.250722 &  0.825798 \\\\\n",
       "2013-01-03 & -1.683748 &  1.430985 & -0.318301 &  0.720622 &  0.543044 \\\\\n",
       "\\bottomrule\n",
       "\\end{tabular}\n"
      ],
      "text/plain": [
       "<IPython.core.display.Latex object>"
      ]
     },
     "execution_count": 69,
     "metadata": {},
     "output_type": "execute_result"
    }
   ],
   "source": [
    "# to create the dataframe and write the output to LaTeX object at default font size\n",
    "import pandas as pd\n",
    "import numpy as np\n",
    "from IPython.display import Latex\n",
    "\n",
    "def makeDateRand(nrows=5, ncols=4, cols=list('ABCD')):\n",
    "    dates = pd.date_range('20130101',periods=nrows)\n",
    "    df = pd.DataFrame(np.random.randn(nrows,ncols),index=dates,columns=cols) \n",
    "    return df\n",
    "\n",
    "df = makeDateRand(nrows=3, ncols=5,cols=list('ABCDE'))\n",
    "lstr = df.to_latex(column_format='|l|l|l|p{50mm}|c|r|')\n",
    "Latex(lstr)\n",
    "\n"
   ]
  },
  {
   "cell_type": "code",
   "execution_count": 70,
   "metadata": {
    "run_control": {
     "frozen": false,
     "read_only": false
    }
   },
   "outputs": [
    {
     "data": {
      "text/latex": [
       "\\begin{tabular}{|l|l|p{50mm}|c|r|}\n",
       "\\toprule\n",
       "        A &         B &         C &         D &         E \\\\\n",
       "\\midrule\n",
       " 0.083049 & -0.106439 &  0.381134 & -0.518548 & -1.255566 \\\\\n",
       "-0.570557 & -0.456681 &  1.154854 & -0.250722 &  0.825798 \\\\\n",
       "-1.683748 &  1.430985 & -0.318301 &  0.720622 &  0.543044 \\\\\n",
       "\\bottomrule\n",
       "\\end{tabular}\n"
      ],
      "text/plain": [
       "<IPython.core.display.Latex object>"
      ]
     },
     "execution_count": 70,
     "metadata": {},
     "output_type": "execute_result"
    }
   ],
   "source": [
    "lstrno = df.to_latex(index=False,column_format='|l|l|p{50mm}|c|r|')\n",
    "Latex(lstrno)"
   ]
  },
  {
   "cell_type": "markdown",
   "metadata": {
    "run_control": {
     "frozen": false,
     "read_only": false
    }
   },
   "source": [
    "Set the font size for the typesetting by using the `latex/fontsize` setting in the  cell json metadata.\n",
    "Use the regular LaTeX font size definitions but without the backslash (Huge, huge, LARGE, Large, large, normalsize, small, footnotesize, scriptsize, tiny): \n",
    "\n",
    "    {\n",
    "      \"latex\": {\n",
    "        \"fontsize\": \"LARGE\"\n",
    "      }\n",
    "    }\n",
    "\n",
    "Of course you may have to use this setting in conjunction with any other json settings."
   ]
  },
  {
   "cell_type": "code",
   "execution_count": 71,
   "metadata": {
    "latex": {
     "fontsize": "LARGE"
    },
    "run_control": {
     "frozen": false,
     "read_only": false
    }
   },
   "outputs": [
    {
     "data": {
      "text/latex": [
       "\\begin{tabular}{|l|l|l|p{50mm}|c|r|}\n",
       "\\toprule\n",
       "{} &         A &         B &         C &         D &         E \\\\\n",
       "\\midrule\n",
       "2013-01-01 &  0.083049 & -0.106439 &  0.381134 & -0.518548 & -1.255566 \\\\\n",
       "2013-01-02 & -0.570557 & -0.456681 &  1.154854 & -0.250722 &  0.825798 \\\\\n",
       "2013-01-03 & -1.683748 &  1.430985 & -0.318301 &  0.720622 &  0.543044 \\\\\n",
       "\\bottomrule\n",
       "\\end{tabular}\n"
      ],
      "text/plain": [
       "<IPython.core.display.Latex object>"
      ]
     },
     "execution_count": 71,
     "metadata": {},
     "output_type": "execute_result"
    }
   ],
   "source": [
    "# to write the table in LARGE\n",
    "\n",
    "Latex(lstr)"
   ]
  },
  {
   "cell_type": "markdown",
   "metadata": {
    "run_control": {
     "frozen": false,
     "read_only": false
    }
   },
   "source": [
    "A Pandas dataframe exported with `IPython.core.display.Latex object`  can also be typeset as a floating table by setting the usual table metadata for the floating table. The table format specification is provided by the Pandas `.to_latex(column_format)`  argument, so the `tableCaption/format` specification in the json is ignored.\n",
    "\n",
    "    {\n",
    "      \"tableCaption\": {\n",
    "        \"caption\": \"Caption text for Pandas table\",\n",
    "        \"label\": \"tab:lab1\",\n",
    "        \"format\": \"IGNORED because this is a pandas dataframe export!!\",\n",
    "        \"fontsize\": \"tiny\"\n",
    "      }\n",
    "    }\n"
   ]
  },
  {
   "cell_type": "code",
   "execution_count": 72,
   "metadata": {
    "latex": {
     "fontsize": "scriptsize"
    },
    "run_control": {
     "frozen": false,
     "read_only": false
    },
    "tableCaption": {
     "caption": "Caption text for the Pandas table",
     "fontsize": "tiny",
     "format": "{|p{10mm}|l|r|c|c|p{50mm}|p{20mm}|}",
     "label": "tab:labpad1"
    }
   },
   "outputs": [
    {
     "data": {
      "text/latex": [
       "\\begin{tabular}{|l|l|l|p{50mm}|c|r|}\n",
       "\\toprule\n",
       "{} &         A &         B &         C &         D &         E \\\\\n",
       "\\midrule\n",
       "2013-01-01 &  0.083049 & -0.106439 &  0.381134 & -0.518548 & -1.255566 \\\\\n",
       "2013-01-02 & -0.570557 & -0.456681 &  1.154854 & -0.250722 &  0.825798 \\\\\n",
       "2013-01-03 & -1.683748 &  1.430985 & -0.318301 &  0.720622 &  0.543044 \\\\\n",
       "\\bottomrule\n",
       "\\end{tabular}\n"
      ],
      "text/plain": [
       "<IPython.core.display.Latex object>"
      ]
     },
     "execution_count": 72,
     "metadata": {},
     "output_type": "execute_result"
    }
   ],
   "source": [
    "# to write a floating table in tiny font size\n",
    "\n",
    "Latex(lstr)"
   ]
  },
  {
   "cell_type": "markdown",
   "metadata": {
    "run_control": {
     "frozen": false,
     "read_only": false
    }
   },
   "source": [
    "## Other LaTeX exports\n"
   ]
  },
  {
   "cell_type": "markdown",
   "metadata": {},
   "source": [
    "Write latex strings"
   ]
  },
  {
   "cell_type": "code",
   "execution_count": 73,
   "metadata": {},
   "outputs": [
    {
     "data": {
      "text/latex": [
       "Samples per cluster ID: \\\\\n",
       "6 7 8 9 5 \\\\[4ex]\n",
       "Samples per visual material: \\\\\n",
       "4 4 7 2 2 2 4 2 2 5"
      ],
      "text/plain": [
       "<IPython.core.display.Latex object>"
      ]
     },
     "execution_count": 73,
     "metadata": {},
     "output_type": "execute_result"
    }
   ],
   "source": [
    "###\n",
    "df = makeDateRand(nrows=10, ncols=5,cols=list('ABCDE'))\n",
    "df = df.abs()\n",
    "Latex(f\"\"\"Samples per cluster ID: \\\\\\\\\n",
    "{' '.join([f'{i}' for i in df.sum(axis=0).astype(np.int).to_list()])} \\\\\\\\[4ex]\n",
    "Samples per visual material: \\\\\\\\\n",
    "{' '.join([f'{i}' for i in df.sum(axis=1).astype(np.int).to_list()])}\"\"\")\n"
   ]
  },
  {
   "cell_type": "code",
   "execution_count": 74,
   "metadata": {
    "run_control": {
     "frozen": false,
     "read_only": false
    }
   },
   "outputs": [
    {
     "data": {
      "text/latex": [
       "\n",
       "    \\begin{tikzpicture}[scale=4.5, line join=bevel]\n",
       "      % \\a and \\b are two macros defining characteristic\n",
       "      % dimensions of the impossible brick.\n",
       "      \\pgfmathsetmacro{\\a}{0.18}\n",
       "      \\pgfmathsetmacro{\\b}{1.37}\n",
       "\n",
       "      \\tikzset{%\n",
       "        apply style/.code={\\tikzset{#1}},\n",
       "        brick_edges/.style={thick,draw=black},\n",
       "        face_colourA/.style={fill=gray!50},\n",
       "        face_colourB/.style={fill=gray!25},\n",
       "        face_colourC/.style={fill=gray!90},\n",
       "      }\n",
       "\n",
       "      \\foreach \\theta/\\v/\\facestyleone/\\facestyletwo in {%\n",
       "        0/0/{brick_edges,face_colourA}/{brick_edges,face_colourC},\n",
       "        180/-\\a/{brick_edges,face_colourB}/{brick_edges,face_colourC}\n",
       "      }{\n",
       "      \\begin{scope}[rotate=\\theta,shift={(\\v,0)}]\n",
       "        \\draw[apply style/.expand once=\\facestyleone]  \t\t\n",
       "          ({-.5*\\b},{1.5*\\a}) --\n",
       "          ++(\\b,0)            --\n",
       "          ++(-\\a,-\\a)         --\n",
       "          ++({-\\b+2*\\a},0)    --\n",
       "          ++(0,-{2*\\a})       --\n",
       "          ++(\\b,0)            --\n",
       "          ++(-\\a,-\\a)         --\n",
       "          ++(-\\b,0)           --\n",
       "          cycle;\n",
       "        \\draw[apply style/.expand once=\\facestyletwo] \n",
       "          ({.5*\\b},{1.5*\\a})  --\n",
       "          ++(0,{-2*\\a})       --\n",
       "          ++(-\\a,0)           --\n",
       "          ++(0,\\a)            --\n",
       "          cycle;\n",
       "        \\end{scope}\n",
       "      }\n",
       "    \\end{tikzpicture}\n"
      ],
      "text/plain": [
       "<IPython.core.display.Latex object>"
      ]
     },
     "execution_count": 74,
     "metadata": {},
     "output_type": "execute_result"
    }
   ],
   "source": [
    "# display a tikz graphic\n",
    "lstr = r\"\"\"\n",
    "    \\begin{tikzpicture}[scale=4.5, line join=bevel]\n",
    "      % \\a and \\b are two macros defining characteristic\n",
    "      % dimensions of the impossible brick.\n",
    "      \\pgfmathsetmacro{\\a}{0.18}\n",
    "      \\pgfmathsetmacro{\\b}{1.37}\n",
    "\n",
    "      \\tikzset{%\n",
    "        apply style/.code={\\tikzset{#1}},\n",
    "        brick_edges/.style={thick,draw=black},\n",
    "        face_colourA/.style={fill=gray!50},\n",
    "        face_colourB/.style={fill=gray!25},\n",
    "        face_colourC/.style={fill=gray!90},\n",
    "      }\n",
    "\n",
    "      \\foreach \\theta/\\v/\\facestyleone/\\facestyletwo in {%\n",
    "        0/0/{brick_edges,face_colourA}/{brick_edges,face_colourC},\n",
    "        180/-\\a/{brick_edges,face_colourB}/{brick_edges,face_colourC}\n",
    "      }{\n",
    "      \\begin{scope}[rotate=\\theta,shift={(\\v,0)}]\n",
    "        \\draw[apply style/.expand once=\\facestyleone]  \t\t\n",
    "          ({-.5*\\b},{1.5*\\a}) --\n",
    "          ++(\\b,0)            --\n",
    "          ++(-\\a,-\\a)         --\n",
    "          ++({-\\b+2*\\a},0)    --\n",
    "          ++(0,-{2*\\a})       --\n",
    "          ++(\\b,0)            --\n",
    "          ++(-\\a,-\\a)         --\n",
    "          ++(-\\b,0)           --\n",
    "          cycle;\n",
    "        \\draw[apply style/.expand once=\\facestyletwo] \n",
    "          ({.5*\\b},{1.5*\\a})  --\n",
    "          ++(0,{-2*\\a})       --\n",
    "          ++(-\\a,0)           --\n",
    "          ++(0,\\a)            --\n",
    "          cycle;\n",
    "        \\end{scope}\n",
    "      }\n",
    "    \\end{tikzpicture}\n",
    "\"\"\"\n",
    "\n",
    "Latex(lstr)"
   ]
  },
  {
   "cell_type": "code",
   "execution_count": 75,
   "metadata": {
    "figureCaption": {
     "caption": "Caption text for tikz figure",
     "label": "fig:tikz",
     "width": "0.2"
    },
    "run_control": {
     "frozen": false,
     "read_only": false
    }
   },
   "outputs": [
    {
     "data": {
      "text/latex": [
       "\n",
       "\\begin{tikzpicture}[font = \\sansmath]\n",
       "  \\coordinate (O) at (0,0);\n",
       "\n",
       "  % ball background color\n",
       "  \\shade[ball color = blue, opacity = 0.2] (0,0) circle [radius = 2cm];\n",
       "\n",
       "  % cone\n",
       "  \\begin{scope}\n",
       "    \\def\\rx{0.71}% horizontal radius of the ellipse\n",
       "    \\def\\ry{0.15}% vertical radius of the ellipse\n",
       "    \\def\\z{0.725}% distance from center of ellipse to origin\n",
       "\n",
       "    \\path [name path = ellipse]    (0,\\z) ellipse ({\\rx} and {\\ry});\n",
       "    \\path [name path = horizontal] (-\\rx,\\z-\\ry*\\ry/\\z)\n",
       "                                -- (\\rx,\\z-\\ry*\\ry/\\z);\n",
       "    \\path [name intersections = {of = ellipse and horizontal}];\n",
       "\n",
       "    % radius to base of cone in ball\n",
       "    \\draw[fill = gray!50, gray!50] (intersection-1) -- (0,0)\n",
       "      -- (intersection-2) -- cycle;\n",
       "    % base of cone in ball\n",
       "    \\draw[fill = gray!30, densely dashed] (0,\\z) ellipse ({\\rx} and {\\ry});\n",
       "  \\end{scope}\n",
       "\n",
       "  % label of cone\n",
       "  \\draw (0.25,0.4) -- (0.9,0.1) node at (1.05,0.0) {$q$};\n",
       "\n",
       "  % ball\n",
       "  \\draw (O) circle [radius=2cm];\n",
       "  % label of ball center point\n",
       "  \\filldraw (O) circle (1pt) node[below] {$P$};\n",
       "\n",
       "  % radius\n",
       "  \\draw[densely dashed] (O) to [edge label = $r$] (-1.33,1.33);\n",
       "  \\draw[densely dashed] (O) -- (1.33,1.33);\n",
       "\n",
       "  % cut of ball surface\n",
       "  \\draw[red] (-1.35,1.47) arc [start angle = 140, end angle = 40,\n",
       "    x radius = 17.6mm, y radius = 14.75mm];\n",
       "  \\draw[red, densely dashed] (-1.36,1.46) arc [start angle = 170, end angle = 10,\n",
       "    x radius = 13.8mm, y radius = 3.6mm];\n",
       "  \\draw[red] (-1.29,1.52) arc [start angle=-200, end angle = 20,\n",
       "    x radius = 13.75mm, y radius = 3.15mm];\n",
       "\n",
       "  % label of cut of ball surface\n",
       "  \\draw (-1.2,2.2) -- (-0.53,1.83) node at (-1.37,2.37) {$A$};\n",
       "\\end{tikzpicture}\n"
      ],
      "text/plain": [
       "<IPython.core.display.Latex object>"
      ]
     },
     "execution_count": 75,
     "metadata": {},
     "output_type": "execute_result"
    }
   ],
   "source": [
    "# display another tikz graphic, as a floating figure\n",
    "\n",
    "lstr = r\"\"\"\n",
    "\\begin{tikzpicture}[font = \\sansmath]\n",
    "  \\coordinate (O) at (0,0);\n",
    "\n",
    "  % ball background color\n",
    "  \\shade[ball color = blue, opacity = 0.2] (0,0) circle [radius = 2cm];\n",
    "\n",
    "  % cone\n",
    "  \\begin{scope}\n",
    "    \\def\\rx{0.71}% horizontal radius of the ellipse\n",
    "    \\def\\ry{0.15}% vertical radius of the ellipse\n",
    "    \\def\\z{0.725}% distance from center of ellipse to origin\n",
    "\n",
    "    \\path [name path = ellipse]    (0,\\z) ellipse ({\\rx} and {\\ry});\n",
    "    \\path [name path = horizontal] (-\\rx,\\z-\\ry*\\ry/\\z)\n",
    "                                -- (\\rx,\\z-\\ry*\\ry/\\z);\n",
    "    \\path [name intersections = {of = ellipse and horizontal}];\n",
    "\n",
    "    % radius to base of cone in ball\n",
    "    \\draw[fill = gray!50, gray!50] (intersection-1) -- (0,0)\n",
    "      -- (intersection-2) -- cycle;\n",
    "    % base of cone in ball\n",
    "    \\draw[fill = gray!30, densely dashed] (0,\\z) ellipse ({\\rx} and {\\ry});\n",
    "  \\end{scope}\n",
    "\n",
    "  % label of cone\n",
    "  \\draw (0.25,0.4) -- (0.9,0.1) node at (1.05,0.0) {$q$};\n",
    "\n",
    "  % ball\n",
    "  \\draw (O) circle [radius=2cm];\n",
    "  % label of ball center point\n",
    "  \\filldraw (O) circle (1pt) node[below] {$P$};\n",
    "\n",
    "  % radius\n",
    "  \\draw[densely dashed] (O) to [edge label = $r$] (-1.33,1.33);\n",
    "  \\draw[densely dashed] (O) -- (1.33,1.33);\n",
    "\n",
    "  % cut of ball surface\n",
    "  \\draw[red] (-1.35,1.47) arc [start angle = 140, end angle = 40,\n",
    "    x radius = 17.6mm, y radius = 14.75mm];\n",
    "  \\draw[red, densely dashed] (-1.36,1.46) arc [start angle = 170, end angle = 10,\n",
    "    x radius = 13.8mm, y radius = 3.6mm];\n",
    "  \\draw[red] (-1.29,1.52) arc [start angle=-200, end angle = 20,\n",
    "    x radius = 13.75mm, y radius = 3.15mm];\n",
    "\n",
    "  % label of cut of ball surface\n",
    "  \\draw (-1.2,2.2) -- (-0.53,1.83) node at (-1.37,2.37) {$A$};\n",
    "\\end{tikzpicture}\n",
    "\"\"\"\n",
    "\n",
    "Latex(lstr)"
   ]
  },
  {
   "cell_type": "markdown",
   "metadata": {
    "run_control": {
     "frozen": false,
     "read_only": false
    },
    "variables": {
     "10pt": "<p><strong>SyntaxError</strong>: invalid syntax (<ipython-input-1-355139054721>, line 1)</p>\n"
    }
   },
   "source": [
    "The next example creates a LaTeX string and outputs it as a Latex object.  The code calculates rules with increasing heights, with this code:\n",
    "\n",
    "    lstr = '\\n\\nThis paragraph is embedded as \\LaTeX{} in a Jupyter output cell. '\\\n",
    "                + 'One day this could be a complex computed \\LaTeX{} string.  '\\\n",
    "                + 'This example only has rising rules...  \\n'\n",
    "    for height in range(1,20):\n",
    "        lstr += '\\\\rule[0pt]{{10pt}}{}{}pt{} '.format('{',height,'}')\n",
    "    Latex(lstr + '\\n')\n"
   ]
  },
  {
   "cell_type": "code",
   "execution_count": 76,
   "metadata": {
    "run_control": {
     "frozen": false,
     "read_only": false
    }
   },
   "outputs": [
    {
     "data": {
      "text/latex": [
       "\n",
       "\n",
       "This paragraph is embedded as \\LaTeX{} in a Jupyter output cell. One day this could be a complex computed \\LaTeX{} string.  This example only has rising rules...  \n",
       "\n",
       "\\rule[0pt]{10pt}{1pt} \\rule[0pt]{10pt}{2pt} \\rule[0pt]{10pt}{3pt} \\rule[0pt]{10pt}{4pt} \\rule[0pt]{10pt}{5pt} \\rule[0pt]{10pt}{6pt} \\rule[0pt]{10pt}{7pt} \\rule[0pt]{10pt}{8pt} \\rule[0pt]{10pt}{9pt} \\rule[0pt]{10pt}{10pt} \\rule[0pt]{10pt}{11pt} \\rule[0pt]{10pt}{12pt} \\rule[0pt]{10pt}{13pt} \\rule[0pt]{10pt}{14pt} \\rule[0pt]{10pt}{15pt} \\rule[0pt]{10pt}{16pt} \\rule[0pt]{10pt}{17pt} \\rule[0pt]{10pt}{18pt} \\rule[0pt]{10pt}{19pt} \n"
      ],
      "text/plain": [
       "<IPython.core.display.Latex object>"
      ]
     },
     "execution_count": 76,
     "metadata": {},
     "output_type": "execute_result"
    }
   ],
   "source": [
    "##\n",
    "lstr = '\\n\\nThis paragraph is embedded as \\LaTeX{} in a Jupyter output cell. '\\\n",
    "            + 'One day this could be a complex computed \\LaTeX{} string.  '\\\n",
    "            + 'This example only has rising rules...  \\n\\n'\n",
    "for height in range(1,20):\n",
    "    lstr += '\\\\rule[0pt]{{10pt}}{}{}pt{} '.format('{',height,'}')\n",
    "Latex(lstr + '\\n')"
   ]
  },
  {
   "cell_type": "markdown",
   "metadata": {
    "run_control": {
     "frozen": false,
     "read_only": false
    }
   },
   "source": [
    "Jelte Fennema wrote [pylatex](https://github.com/JelteF/PyLaTeX/) to create LaTeX text using Python code.  He wrote the code to create complete documents, but also to write  [fragments](https://jeltef.github.io/PyLaTeX/current/usage.html#the-classes) --- which we can use here: \"Classes can be part of a single document, or can act as pieces on their own. With the `dumps_as_content` method, most classes can return their LaTeX-formatted code, and with the `generate_tex` method, this code can be written to a file.\"\n",
    "\n",
    "I only spent limited time on pylatex and got the following example to work (it requires `pip install pylatex`)."
   ]
  },
  {
   "cell_type": "code",
   "execution_count": 77,
   "metadata": {
    "run_control": {
     "frozen": false,
     "read_only": false
    }
   },
   "outputs": [
    {
     "data": {
      "text/latex": [
       "\\[%\n",
       "arr= \\begin{bmatrix}%\n",
       "-1.5238753267681426&-0.054106597608410884&0.3133992734699635&-1.914463011081044\\\\%\n",
       "-0.9730171110025135&1.2607379010435467&0.9708551354916619&-1.5426473382692332\\\\%\n",
       "1.5617776961021184&1.6862635883897612&-1.187051258257019&-0.6077778495302126\\\\%\n",
       "-0.7381209385420484&-0.6953658326619776&-0.3490201919937157&-0.1781985647847829\\\\%\n",
       "1.5326454450945042&0.6131410607502967&-0.5031807629333506&0.5286306282646915\\\\%\n",
       "-0.8970203037261731&-0.8958130486496836&0.040453221245678746&-0.47384738447189984%\n",
       "\\end{bmatrix}%\n",
       "\\]"
      ],
      "text/plain": [
       "<IPython.core.display.Latex object>"
      ]
     },
     "execution_count": 77,
     "metadata": {},
     "output_type": "execute_result"
    }
   ],
   "source": [
    "# to format a numy array in \\LaTeX{}\n",
    "import numpy as np\n",
    "# install with pip install pylatex\n",
    "import pylatex as pyl\n",
    "\n",
    "arr = makeDateRand(nrows=6, ncols=4).values\n",
    "matrix = pyl.Matrix(arr, mtype='b')\n",
    "math = pyl.Math(data=['arr=', matrix])\n",
    "Latex(math.dumps_as_content())   \n"
   ]
  },
  {
   "cell_type": "markdown",
   "metadata": {
    "run_control": {
     "frozen": false,
     "read_only": false
    }
   },
   "source": [
    "# Math"
   ]
  },
  {
   "cell_type": "markdown",
   "metadata": {
    "run_control": {
     "frozen": false,
     "read_only": false
    }
   },
   "source": [
    "Inline math delineated with single dollar symbols are rendered inline with paragraph text, as in $\\alpha+\\beta=\\gamma$. \n",
    "\n",
    "\n",
    "\n",
    "Using math mode (anything between two dollar symbols) is interpreted as \\LaTeX{} math:\n",
    "\n",
    "\\begin{equation}\n",
    "D_{KL}(P||Q) = \\sum\\limits_{i}ln (\\frac{P(i)}{Q(i)}) P(i).\n",
    "\\end{equation}\n",
    "\n"
   ]
  },
  {
   "cell_type": "markdown",
   "metadata": {
    "run_control": {
     "frozen": false,
     "read_only": false
    }
   },
   "source": [
    "\\begin{equation}\n",
    "\\begin{array}{llll}\n",
    "E = \\frac{\\phi}{A_o} = \\int \\left[\\right.&&&\\\\\n",
    "&\\tau_a(R) \\tau_o &&\\\\\n",
    "&\\left[\\right.&&\\\\\n",
    "&&\\mkern-82mu \\Omega_t k_i\\left(\\epsilon_t L(T_t)\\right)&[1]\\\\\n",
    "&&\\mkern-99mu +\\,\\,\\Omega_t k_i(1-\\epsilon_t)\\left(\\frac{\\rho E_\\textrm{sun}}{\\pi}\\right)&[2]\\\\\n",
    "&&\\mkern-98mu +\\,\\,\\Omega_t(1-k_i)(1-\\epsilon_t)\\left(\\frac{\\rho E_\\textrm{sun}}{\\pi}\\right)&[3]\\\\\n",
    "&&\\mkern-98mu  +\\,\\, (\\Omega_p -\\Omega_t) \\left(\\frac{\\rho E_\\textrm{sun}}{\\pi}\\right)&[4]\\\\\n",
    "&\\left.\\right]&&\\\\\n",
    "&+\\,\\,\\tau_o L_\\textrm{path}(R) \\Omega_p&&[5]\\\\\n",
    "&\\left.\\right]d\\lambda& &\n",
    "\\end{array}\n",
    "\\end{equation}"
   ]
  },
  {
   "cell_type": "markdown",
   "metadata": {
    "run_control": {
     "frozen": false,
     "read_only": false
    }
   },
   "source": [
    "\n",
    "The probability density function for yaw angle is the [wrapped normal distribution](https://en.wikipedia.org/wiki/Wrapped_normal_distribution).  The first form uses two dollar symbols  to show the equation in LaTeX display math:\n",
    "\n",
    "$$\n",
    "f_{WN}(\\theta;\\mu, \\sigma) = \\frac{1}{\\sigma\\sqrt{2\\pi}}\\sum^{\\infty}_{k=-\\infty} \\exp\\left[\\frac{-(\\theta-\\mu+2\\pi k)^2}{2\\sigma^2}\\right]\n",
    "$$\n",
    "\n",
    "The second example uses  `begin{equation}` and `end{equation}`:\n",
    "\n",
    "\\begin{equation}\n",
    "f_{WN}(\\theta;\\mu, \\sigma) = \\frac{1}{\\sigma\\sqrt{2\\pi}}\\sum^{\\infty}_{k=-\\infty} \\exp\\left[\\frac{-(\\theta-\\mu+2\\pi k)^2}{2\\sigma^2}\\right]\n",
    "\\end{equation}"
   ]
  },
  {
   "cell_type": "markdown",
   "metadata": {},
   "source": [
    "\\begin{equation}\n",
    "\\begin{array}{l}\n",
    "X_{WN}(\\theta;\\mu, \\sigma) = \\frac{1}{\\sigma\\sqrt{2\\pi}}\\sum^{\\infty}_{k=-\\infty} \\exp\\left[\\frac{-(\\theta-\\mu+2\\pi k)^2}{2\\sigma^2}\\right]\n",
    "\\end{array}\n",
    "\\end{equation}"
   ]
  },
  {
   "cell_type": "markdown",
   "metadata": {
    "run_control": {
     "frozen": false,
     "read_only": false
    }
   },
   "source": [
    "# General \\LaTeX{} Crib Notes\n",
    "\n",
    "This chapter contains general notes, not necessarily pertaining to the Jupyter notebook converter.\n"
   ]
  },
  {
   "cell_type": "markdown",
   "metadata": {},
   "source": [
    "## Quotes\n",
    "Use \\verb+`word'+ [`word'] instead of \\verb+'word'+ ['word'].\\\\\n",
    "Likewise \\verb+``word'''+ [``word''] instead of \\verb+''word''+ [''word'']."
   ]
  },
  {
   "cell_type": "markdown",
   "metadata": {},
   "source": [
    "## Degree Symbol\n",
    "The degree symbol in \\LaTeX{} should not be done with \\verb+\\circ+ as shown here: 45$^\\circ$. \n",
    "Rather use \\verb+\\usepackage{gensymb}+ and then \\verb+45\\textdegree{}+ 45\\textdegree{}, or \\verb+17~\\celsius+ 17~\\celsius. Better yet, use the siunitx package described below.\n"
   ]
  },
  {
   "cell_type": "markdown",
   "metadata": {},
   "source": [
    "## Test Sub- and Superscripts\n",
    "Create superscripts and subscripts in body text with \\verb+m\\textsuperscript{2}+ and \\verb+CO\\textsubscript{2}+ to get  m\\textsuperscript{2} and CO\\textsubscript{2}, instead of $m^2$ or CO$_2$.\n"
   ]
  },
  {
   "cell_type": "markdown",
   "metadata": {},
   "source": [
    "## siunitx\n",
    "Load \\verb+siunitx+  package for  some really nice features. Load it with \\\\\n",
    "\\verb+\\usepackage[detect-weight,detect-mode]{siunitx}+.\n"
   ]
  },
  {
   "cell_type": "raw",
   "metadata": {},
   "source": [
    "\\newcommand{\\tabentry}[1]{\\detokenize{#1} & #1}\n",
    "\n",
    "\\begin{tabular}{p{110mm}|l}\n",
    "\\textbf{\\LaTeX{}} & \\textbf{Output}\\\\\\hline\n",
    "\\tabentry{\\num{3e-5}}\\\\\n",
    "\\tabentry{\\si{\\metre\\per\\second\\squared}}\\\\\n",
    "\\tabentry{\\si{\\micro\\metre}} upright,  instead of $\\mu m$\\\\\n",
    "\\tabentry{\\SIlist{0.13;0.67;0.80}{\\milli\\metre}}\\\\\n",
    "\\tabentry{\\si{\\metre\\per\\second\\squared}}\\\\\n",
    "\\tabentry{\\si{kg.m.s^{-1}}}\\\\\n",
    "\\tabentry{\\si{\\kilogram\\metre\\per\\second}}\\\\\n",
    "\\tabentry{\\si[per-mode=symbol]{\\kilogram\\metre\\per\\second}}\\\\\n",
    "\\tabentry{\\si[per-mode=symbol]{\\kilogram\\metre\\per\\ampere\\per\\second}}\\\\\n",
    "\\tabentry{\\si[per-mode=reciprocal]{\\kilogram\\metre\\per\\ampere\\per\\second}}\\\\\n",
    "\\tabentry{\\si{\\kilogram\\metre\\per\\ampere\\per\\second}}\\\\\n",
    "\\tabentry{\\si[per-mode=fraction]{\\kilogram\\metre\\per\\ampere\\per\\second}}\\\\\n",
    "\\tabentry{\\si[per-mode=symbol]{\\watt\\per\\metre\\squared\\per \\steradian}}\\\\\n",
    "\\tabentry{\\ang{12.3}}\\\\\n",
    "\\tabentry{\\ang{1;2;3}}\\\\\n",
    "\\tabentry{\\si{\\farad\\squared\\lumen\\candela}}\\\\\n",
    "\\tabentry{\\si[inter-unit-product = \\ensuremath{{}\\cdot{}}]{\\farad\\squared\\lumen\\candela}}\n",
    "%\\tabentry{}\\\\\n",
    "\\end{tabular}"
   ]
  },
  {
   "cell_type": "markdown",
   "metadata": {},
   "source": [
    "## Math functions\n",
    "Math functions should be entered thus: \\verb+\\tan()+ to yield $\\tan()$ \\\\\n",
    "rather than \\verb+tan()+ to yield $tan()$.\n"
   ]
  },
  {
   "cell_type": "markdown",
   "metadata": {
    "run_control": {
     "frozen": false,
     "read_only": false
    }
   },
   "source": [
    "## Use of itemize and enumerate\n",
    "Use \\verb+itemize+ and \\verb+enumerate+ only when there is a sense of counting or a need to have an explicit list where the difference between the entries must be emphasised. Don't use these lists when a simple sentence would suffice.\n",
    "\n",
    "For example, the following would work better in a normal sentence and not as an `itemize':\\\\\n",
    "The following types of sensors are commonly used for kinematic recordings:\n",
    "\\begin{itemize}\n",
    "\\item accelerometers\n",
    "\\item gyroscopes\n",
    "\\item Hall sensors (for static magnetic fields)\n",
    "\\item induction sensors (for dynamic magnetic fields)\n",
    "\\end{itemize}\n",
    "Instead write:\\\\\n",
    "Sensors such as accelerometers, gyroscopes, Hall sensors (for static magnetic fields), and induction sensors (for dynamic magnetic fields) are commonly used for kinematic recordings.\n",
    "\n",
    "Obey the grammar rules for punctuation in these types of lists. If each entry is a separate sentence, start with a capital letter and end with a full stop.  If the sentence spreads across the list use commas and capital letters appropriately, as follows:\\\\\n",
    "The following types of sensors are commonly used for kinematic recordings:\n",
    "\\begin{itemize}\n",
    "\\item accelerometers,\n",
    "\\item gyroscopes,\n",
    "\\item Hall sensors (for static magnetic fields), and\n",
    "\\item induction sensors (for dynamic magnetic fields).\n",
    "\\end{itemize}\n",
    "\n",
    "\n",
    "\n"
   ]
  },
  {
   "cell_type": "markdown",
   "metadata": {},
   "source": [
    "## \\LaTeX{} fonts in Figures\n",
    "If at all possible use \\LaTeX{} fonts in figures. For example in the following figure, the fonts on the left side fits better with the equation\n",
    "\\begin{equation}\n",
    "x(k)=\\alpha_1 e(k)+\\alpha_0 e(k-1)-\\beta_0 x(k-1)\n",
    "\\end{equation}\n",
    "\\begin{center}\n",
    "\\includegraphics{images/flow2-zzz.png}\n",
    "\\end{center}"
   ]
  },
  {
   "cell_type": "markdown",
   "metadata": {},
   "source": [
    "\n",
    "## Fonts, Emphasis and Shouting\n",
    "Avoid CAPITALISATION OF WORDS. It is like SHOUTING!\n",
    "\n",
    "Avoid \\underline{underlined words}, unless there it is really necessary.  It is like shouting when normal voice is adequate.\n",
    "\n",
    "Use emphasis to \\textit{emphasise words that must stand out}.\n",
    "Do not use it too often, perhaps less than three to five times per page. \n",
    "Emphasis is like a \\textit{waving flag}. If there are \\textit{too many flags} waving on a page, it \\textit{confuses the reader}.\n",
    "\n",
    "Use \\lstinline{verbatim} to highlight software-related words, such as variable names, module/package/library names, command line text, program output, etc. \n",
    "The user associates verbatim font with source code listings, so use verbatim with software `words'.\n",
    "\n"
   ]
  },
  {
   "cell_type": "markdown",
   "metadata": {},
   "source": [
    "\n",
    "## Math Conventions\n",
    "\n",
    "\n",
    "The IUPAC Green Book, \\lstinline{https://en.wikipedia.org/wiki/IUPAC_book}, conveniently summarises international standards in formatting mathematics text and SI units. See also \\lstinline{www.tug.org/TUGboat/Articles/tb18-1/tb54becc.pdf} and \\lstinline{https://www.iso.org/standard/31887.html}.\n",
    "\n",
    "\n",
    "\n",
    "The mathematical differential operator must be [ISO 80000-2:2009(E), 2-11.12] upright, not cursive (although pure mathematicians and some house styles prefer cursive).  \n",
    "\n",
    "\\begin{lstlisting}\n",
    "\\usepackage{commath}\n",
    "\\newcommand{\\der}{\\operatorname{d\\!}{}}\n",
    "$(\\der{}x)$  or $(\\dif{}x)$ instead of $(dx)$\n",
    "\\end{lstlisting}\n",
    "\n",
    "\\newcommand{\\der}{\\operatorname{d\\!}{}}\n",
    "$(\\der{}x)$  or $(\\dif{}x)$ instead of $(dx)$\n",
    "\n",
    "\n",
    "\\begin{lstlisting}\n",
    "\\usepackage{commath}\n",
    "\\begin{equation*}\n",
    "F(t) = m \\od[2]{x(t)}{t}\n",
    "\\end{equation*}\n",
    "\\end{lstlisting}\n",
    "\n",
    "\n",
    "\\begin{equation*}\n",
    "F(t) = m \\od[2]{x(t)}{t}\n",
    "\\end{equation*}\n",
    "\n",
    "\n",
    "Mathematical variables must be cursive ($\\alpha\\beta$), but constants must be upright ($\\mathrm{\\pi}$) not cursive ($\\pi$). The code\n",
    "\n",
    "\\begin{lstlisting}\n",
    "\\usepackage[utopia]{mathdesign}\n",
    "\\usepackage[OMLmathrm,OMLmathbf]{isomath}\n",
    "\\newcommand\\ct[1]{\\text{\\rmfamily\\upshape #1}}\n",
    "cursive: $\\pi$  $\\mathbfit{\\pi}$ or upright $\\mathrm{\\pi}$ $\\mathbf{\\pi}$\\\\\n",
    "or\\\\\n",
    "cursive: $e^{i\\pi}-1=0$ or upright $\\ct{e}^{\\ct{i}\\piup}-1=0$.\n",
    "\\end{lstlisting}\n",
    "yields cursive: $\\pi$  $\\mathbfit{\\pi}$ or upright $\\mathrm{\\pi}$ $\\mathbf{\\pi}$\\\\\n",
    "or \\\\\n",
    "cursive: $e^{i\\pi}-1=0$ or upright $\\ct{e}^{\\ct{i}\\piup}-1=0$.\n",
    "\n",
    "Variable subscripts should be typeset in roman if the subscript is a recognisable word:\\\\\n",
    "$v_\\textrm{aircraft}$ instead of $v_{aircraft}$"
   ]
  },
  {
   "cell_type": "markdown",
   "metadata": {},
   "source": [
    "\n",
    "##  Centering in Floats\n",
    "Use \\verb=\\centering= in floats instead of \\verb|\\begin{center}\\end{center}|, as in \n",
    "\n",
    "\\begin{verbatim}\n",
    "\\begin{figure}\n",
    "\\centering\n",
    "\\includegraphics[width=0.1\\textwidth]{./images/keep-calm-and-code-python_BW.png}\n",
    "\\caption{Keep calm and code Python\\label{fig:keep-calm-and-code-python_BW}}\n",
    "\\end{figure}\n",
    "\\end{verbatim}"
   ]
  },
  {
   "cell_type": "markdown",
   "metadata": {},
   "source": [
    "## Forcing Floats to Show\n",
    "The floats accumulate up to a point where some or all of these floats are processed an displayed on a page. The floats are displayed in the order given in the input file.  The rules as to when the float are processed and displayed are not entirely clear to me.  \\LaTeX\\ appears to have a limit of around 18 unprocessed floats, beyond which an error message is given.  \n",
    "\n",
    "You can force all unprocessed floats to output in a number of different ways:\n",
    "\n",
    "\\begin{enumerate}\n",
    "\\item\n",
    " Use the \\verb+\\clearpage+ command.  This command immediately stops any further text output and displays all unprocessed floats in the order given.  The problem with this command is that no text is output until all floats are output. This means that if the \\verb+\\clearpage+ command is near the top of a page, the rest of the page could be empty (unless a float fits there).  \n",
    "\n",
    "\\item\n",
    "The \\verb+\\afterpage{}+ command processes whatever command you have given in, after the text on the current page is processed and output. So by using an \\verb+\\afterpage{\\clearpage}+ command at the point where you want to force float output, further text is processed on the current page, filling and outputting  the current page, before the \\verb+\\clearpage+ command is issued: no more half-empty pages!\n",
    "\n",
    "\\item\n",
    "The \\verb\"\\FloatBarrier\" command causes all unprocessed floats to be processed\n",
    "immediately. Unlike \\verb\"\\clearpage\", it does not start a new page. The command requires the \\texttt{placeins} package.\n",
    "\n",
    "\\item\n",
    "To keep floats in the sections in which they were included, use \n",
    "\\verb\"\\usepackage[section]{placeins}\".\n",
    "\n",
    "\\item\n",
    "If you don't want your floats to float, you can use the [H] float specifier from the \\verb\"float\" package. \n",
    "\n",
    "\\item\n",
    "If you don't want your figure to float, don't use a floating environment; you can use, for example, a center environment and (if a caption is needed) the \\verb\"\\captionof\" command provided by the \\texttt{capt-of} (or \\texttt{caption}) package.\n",
    "\\lstinline{http://tex.stackexchange.com/questions/32598/force-latex-image-to-appear-in-the-section-in-which-its-declared}\n",
    "\n",
    "\n",
    "\\begin{lstlisting}\n",
    "\\usepackage{capt-of}\n",
    "\\centering\n",
    "  \\includegraphics{foo}\n",
    "  \\captionof{figure}{A non floating figure}\n",
    "  \\label{fig:test}\n",
    "\\end{lstlisting}\n",
    "\n",
    "\n",
    "\\end{enumerate}\n",
    "\n",
    "\\clearpage\n"
   ]
  },
  {
   "cell_type": "markdown",
   "metadata": {
    "run_control": {
     "frozen": false,
     "read_only": false
    }
   },
   "source": [
    "## Python and [module versions, and dates](https://github.com/rasbt/watermark)"
   ]
  },
  {
   "cell_type": "code",
   "execution_count": 78,
   "metadata": {
    "run_control": {
     "frozen": false,
     "read_only": false
    }
   },
   "outputs": [
    {
     "name": "stdout",
     "output_type": "stream",
     "text": [
      "The watermark extension is already loaded. To reload it, use:\n",
      "  %reload_ext watermark\n",
      "Python implementation: CPython\n",
      "Python version       : 3.8.3\n",
      "IPython version      : 7.19.0\n",
      "\n",
      "numpy : 1.19.2\n",
      "scipy : 1.5.2\n",
      "pyradi: 1.1.2\n",
      "\n",
      "Compiler    : MSC v.1916 64 bit (AMD64)\n",
      "OS          : Windows\n",
      "Release     : 10\n",
      "Machine     : AMD64\n",
      "Processor   : Intel64 Family 6 Model 165 Stepping 2, GenuineIntel\n",
      "CPU cores   : 16\n",
      "Architecture: 64bit\n",
      "\n",
      "Git hash: 25292a7d413d121bb65a59ebb983e2a32dad9323\n",
      "\n"
     ]
    }
   ],
   "source": [
    "##\n",
    "# to get software versions\n",
    "# https://github.com/rasbt/watermark\n",
    "# you only need to do this once\n",
    "# pip install watermark\n",
    "\n",
    "%load_ext watermark\n",
    "%watermark -v -m -p numpy,scipy,pyradi -g "
   ]
  },
  {
   "cell_type": "code",
   "execution_count": null,
   "metadata": {},
   "outputs": [],
   "source": []
  },
  {
   "cell_type": "code",
   "execution_count": null,
   "metadata": {},
   "outputs": [],
   "source": []
  },
  {
   "cell_type": "code",
   "execution_count": null,
   "metadata": {},
   "outputs": [],
   "source": []
  }
 ],
 "metadata": {
  "anaconda-cloud": {},
  "celltoolbar": "Edit Metadata",
  "kernelspec": {
   "display_name": "Python 3 (ipykernel)",
   "language": "python",
   "name": "python3"
  },
  "language_info": {
   "codemirror_mode": {
    "name": "ipython",
    "version": 3
   },
   "file_extension": ".py",
   "mimetype": "text/x-python",
   "name": "python",
   "nbconvert_exporter": "python",
   "pygments_lexer": "ipython3",
   "version": "3.8.3"
  }
 },
 "nbformat": 4,
 "nbformat_minor": 4
}
