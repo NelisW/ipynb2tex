{
 "cells": [
  {
   "cell_type": "raw",
   "metadata": {},
   "source": [
    "%This notebook demonstrates the use of the workpackage template, replace with your own.\n",
    "\n",
    "\\documentclass[english]{workpackage}[1996/06/02]\n",
    "\n",
    "% input the common preamble content (required by the ipnb2latex converter)\n",
    "\\input{header.tex}\n",
    "\n",
    "% then follows the rest of the preamble to be placed before the begin document\n",
    "% this preamble content is special to the documentclass you defined above.\n",
    "\\WPproject{ipnb2LaTeX}           % project name\n",
    "\\WPequipment{Work package demonstrator}         % equipment name\n",
    "\\WPsubject{How to use the converter to create a work package}           % main heading \n",
    "\\WPconclusions{\\begin{enumerate}\n",
    "\\item This work package demonstrates the use of the converter.\n",
    "\\item Current use and testing is with IPython notebooks version 2.x. It is not yet tested on version 3 files.\n",
    "\\end{enumerate}} \n",
    "\\WPclassification{Unclassified} \n",
    "\\WPdocauthor{CJ Willers}\n",
    "\\WPcurrentpackdate{\\today}\n",
    "\\WPcurrentpacknumber{0001} % work package number\n",
    "\\WPdocnumber{}         % this doc number hosts all the work packages\n",
    "\\WPprevpackdate{}      % work package which this one supersedes\n",
    "\\WPprevpacknumber{}    % work package which this one supersedes\n",
    "\\WPsuperpackdate{}     % work package which comes after this one\n",
    "\\WPsuperpacknumber{}   % work package which comes after this one\n",
    "\\WPdocontractdetails{false}\n",
    "\\WPcontractname{}      % contract name \n",
    "\\WPorderno{}           % contract order number\n",
    "\\WPmilestonenumber{}   % contract milestone number\n",
    "\\WPmilestonetitle{}    % contract milestone title\n",
    "\\WPcontractline{}      % contract milestone line number \n",
    "\\WPdocECPnumber{1234567}      % ecp/ecr number\n",
    "\\WPdistribution{\n",
    "%\\vspace{0.1mm}\n",
    "%\\begin{tabular}{lllll}\n",
    "%Name 1 & Name 12 & Name 3 & Name 4 & Name 5\\\\\n",
    "%Name 6 & Name 7 & \\multicolumn{3}{l}{Master:  some repo}\\\\\n",
    "%\\end{tabular}\n",
    "}\n",
    "\n",
    "%and finally the document begin.\n",
    "\\begin{document}\n",
    "\\WPlayout\n"
   ]
  },
  {
   "cell_type": "raw",
   "metadata": {},
   "source": [
    "% some Latex code to be used verbatim\n",
    "\\ \n",
    "\\vspace{50mm}\n",
    "\\begin{center}\n",
    "\\includegraphics[width=0.6\\textwidth]{./images/keep-calm-and-code-python_BW.png}\n",
    "\\end{center}\n",
    "\\vspace{5mm}\n",
    "\\begin{center}\n",
    "{\\LARGE  ipnb2tex}\n",
    "\\end{center}\n",
    "\n",
    "\\newpage\n",
    "\n",
    "\\tableofcontents\n",
    "\\listoffigures\n",
    "\\listoftables\n",
    "\\lstlistoflistings\n"
   ]
  },
  {
   "cell_type": "markdown",
   "metadata": {},
   "source": [
    "# The ipnb2tex.py Script"
   ]
  },
  {
   "cell_type": "markdown",
   "metadata": {},
   "source": [
    "The `ipnb2tex.py` reads the IPython notebook and converts it to a \\LaTeX{} set of files (a `*.tex` file and a number of images).  The script is invoked as follows:  \n",
    "\n",
    "`python ipnb2tex.py file.ipynb file.tex imagedir -l`\n",
    "\n",
    "where   \n",
    "\n",
    "- `file.ipynb`  [optional]  is the name of the input IPython notebook file.   If no input filename is  supplied, all  `.ipynb` files in current directory will be processed.   In this event the output filenames will be the same as the `.ipynb` files, just with a `tex` filetype.  \n",
    "\n",
    "- `file.tex` [optional] is the name of output \\LaTeX{} file. If none is given the output filename will be the same as the input file, but with the `.tex` extension.   \n",
    "\n",
    "- `imagedir`   [optional]  is the directory where images are written to.  If not given, this image directory will be the `./pic` directory.  \n",
    "\n",
    "- `-l` [optional] (the lower case letter el) if this option is given the code listings are floated to the end of the document. Otherwise the code listings are placed in the document where they occur in the notebook."
   ]
  },
  {
   "cell_type": "markdown",
   "metadata": {},
   "source": [
    "# Heading 1 nb2pdf "
   ]
  },
  {
   "cell_type": "markdown",
   "metadata": {},
   "source": [
    "Heading 1 is a \\LaTeX{} chapter.  \n",
    "Headings down to level 5 (\\LaTeX{} paragraph) are supported. \n",
    "Headings at level 6 are treated as normal body text.\n",
    "If you don't need a chapter (i.e., for an article), just don't use a heading at level 1.\n",
    "\n",
    "When any level of section heading is formed, a label is automatically created from the text in the heading, removing all non-alpha characters.  If the section heading is very long the the label will also be long, so keep it short. Also, don't use the same text twice as a heading."
   ]
  },
  {
   "cell_type": "markdown",
   "metadata": {},
   "source": [
    "## Heading 2 Second-level heading"
   ]
  },
  {
   "cell_type": "markdown",
   "metadata": {},
   "source": [
    "### Heading 3"
   ]
  },
  {
   "cell_type": "markdown",
   "metadata": {},
   "source": [
    "#### Heading 4"
   ]
  },
  {
   "cell_type": "markdown",
   "metadata": {},
   "source": [
    "##### Heading 5"
   ]
  },
  {
   "cell_type": "markdown",
   "metadata": {},
   "source": [
    "###### Heading 6"
   ]
  },
  {
   "cell_type": "markdown",
   "metadata": {},
   "source": [
    "some more markdown."
   ]
  },
  {
   "cell_type": "markdown",
   "metadata": {},
   "source": [
    "# Heading 1\n",
    "\n",
    "## Heading 2\n",
    "\n",
    "### Heading 3\n",
    "\n",
    "#### Heading 4\n",
    "\n",
    "##### Heading 5\n",
    "\n",
    "###### Heading 6\n",
    "\n"
   ]
  },
  {
   "cell_type": "markdown",
   "metadata": {},
   "source": [
    "## LaTeX Template Format and the Header File"
   ]
  },
  {
   "cell_type": "markdown",
   "metadata": {},
   "source": [
    "### Default Style (Report)"
   ]
  },
  {
   "cell_type": "markdown",
   "metadata": {},
   "source": [
    "The notebook can be converted to the LaTeX `Report` format with no additional files or document class.  A 'standard' notebook, where the first cell is not `Raw NBConvert` will be prepended with a short section of LaTeX code for a standard LaTeX Report.  A number of pacakges are also `\\usepackage{}`ed, as required by the converted LaTeX code."
   ]
  },
  {
   "cell_type": "markdown",
   "metadata": {},
   "source": [
    "### User-Defined Style"
   ]
  },
  {
   "cell_type": "markdown",
   "metadata": {},
   "source": [
    "The notebook can optionally be converted to a user-defined format with minimal effort.  The example files included the GitHub distribution provides a 'work package' format class file (`workpackage.cls`) and a header file (`header.tex`).\n",
    "\n",
    "The first cell of the notebook must be a `RawNBConvert` cell with at least the following contents (see the first cell of this notebook for an example):\n",
    "\n",
    "    \\documentclass that you want to use\n",
    "    \\input{header.tex}\n",
    "    whatever preamble lines you require\n",
    "    \\begin{document}  \n",
    "\n",
    "Then follows whatever content you need to use your document style. Write/change this file to change the front  matter and appearance of the document.  The script adds the `\\end{document}` line after the notebook cells' contents.\n",
    "\n",
    "The `header.tex` file provides the functionality required by the converter-created code. This content is input using the \\LaTeX{} input command.  A number of pacakges are `\\usepackage{}`ed, as required by the converted LaTeX code."
   ]
  },
  {
   "cell_type": "markdown",
   "metadata": {},
   "source": [
    "## Company Logo "
   ]
  },
  {
   "cell_type": "markdown",
   "metadata": {},
   "source": [
    "The work package template has a `logo.png` file which is used to define a logo on top of the page.  The present image is empty, so no logo will show.  You can add your own logo to this file."
   ]
  },
  {
   "cell_type": "markdown",
   "metadata": {},
   "source": [
    "## The images directory"
   ]
  },
  {
   "cell_type": "markdown",
   "metadata": {},
   "source": [
    "The script saves the png files in the `./pic` directory, and the \\LaTeX{} code also expects to find the png files there.  Hence, there must be an existing `./pic` directory in the directory where you run the script.  If an alternative name is given on the command line, the alternative name will be used."
   ]
  },
  {
   "cell_type": "markdown",
   "metadata": {},
   "source": [
    "## `Raw NBConvert` cells"
   ]
  },
  {
   "cell_type": "markdown",
   "metadata": {},
   "source": [
    "The `Raw NBConvert` cell type can be used to propagate text without any modification to the output stream.  The IPython notebook will not touch this text; it is passed on as-is to the converter code. This this case we can add \\LaTeX{} code that will progress straight through to the \\LaTeX{} compiler.\n",
    "\n",
    "This raw capability is very useful if the notebook is intended to be exported to \\LaTeX{} as primary output.  I find myself writing most of such documentation in raw latex in a 'Raw NBConvert' cell.  In this mode most of the notebook cells are never rendered to HTML, since you are reading and editing the \\LaTeX{} and it stays in \\LaTeX{} for display purposes as well. So you get the full benefit of all \\LaTeX{} functionality (except that it is not rendered inside the notebook) and all the other benefits of the notebook."
   ]
  },
  {
   "cell_type": "raw",
   "metadata": {},
   "source": [
    "Raw NBConvert cell.  This could be raw \\LaTeX{} as in \n",
    "\n",
    "\\begin{equation}\n",
    "f_{WN}(\\theta;\\mu, \\sigma) = \\frac{1}{\\sigma\\sqrt{2\\pi}}\\sum^\\infty_{k=-\\infty} \\exp\\left[\\frac{-(\\theta-\\mu+2\\pi k)^2}{2\\sigma^2}\\right]\n",
    "\\end{equation}\n",
    "\n",
    "The degree symbol in \\LaTeX{} should not be done with \\verb+\\circ+ as shown here: 45$^\\circ$. \n",
    "Rather load \\verb+\\usepackage{gensymb}+ package and use \\verb+45\\textdegree{}+ 45\\textdegree{}, or \\verb+17~\\celsius+ 17~\\celsius.\n"
   ]
  },
  {
   "cell_type": "markdown",
   "metadata": {},
   "source": [
    "## Captions"
   ]
  },
  {
   "cell_type": "markdown",
   "metadata": {},
   "source": [
    "There are three objects that can have captions: listings, figures and tables.\n",
    "\n",
    "Figures and tables without captions are non-floating and appear in the text at the position it is found in the input file.  Figures and tables with captions are floating.\n",
    "\n",
    "Listings are always non-floating.\n",
    "\n",
    "A single cell can contain any combination of captions, and these are indicated in the metadata field of the cell. Select the `Edit Metadata` drop-down option in the `Cell Toolbar` drop-down box (towards the right of the toolbar). This should expose metadata buttons on all the cells. Click on the button and type in the  metadata.  \n",
    "\n",
    "The metadata has the following structure:\n",
    "\n",
    "    {\n",
    "      \"listingCaption\": {\n",
    "        \"caption\": \"Comparison of effective drag parameters\",\n",
    "        \"label\": \"lst:comparedrag\",\n",
    "        \"outputCaption\": \"\"\n",
    "      },\n",
    "      \"figureCaption\": {\n",
    "        \"caption\": \"Caption text for first figure\",\n",
    "        \"label\": \"fig:lab1\",\n",
    "        \"scale\": \"0.2\",\n",
    "        \"width\": \"0.2\"\n",
    "      },\n",
    "      \"tableCaption\": {\n",
    "        \"caption\": \"Caption text for first table\",\n",
    "        \"label\": \"tab:lab1\",\n",
    "        \"format\": \"{|p{10mm}|l|r|c|c|p{50mm}|p{20mm}|}\",\n",
    "        \"fontsize\": \"normalsize\"\n",
    "      }\n",
    "    }\n",
    "\n",
    "Note the placement of commas. No newlines are allowed in a single string in the metadata.\n"
   ]
  },
  {
   "cell_type": "markdown",
   "metadata": {},
   "source": [
    "## Python code"
   ]
  },
  {
   "cell_type": "markdown",
   "metadata": {},
   "source": [
    "Python code blocks are printed using the \\LaTeX{} `listings` package.  The format details can be defined in the header template file.  These code listings can be supplied with a caption and a label (but these code blocks are not floating entities). \n",
    "\n",
    "      {\n",
    "      \"listingCaption\": {\n",
    "        \"caption\": \"Caption text for first listing\",\n",
    "        \"label\": \"lst:listing1\",\n",
    "        \"outputCaption\": \"Caption for first listing output\"\n",
    "      }\n",
    "    }\n",
    "    \n",
    "where the different fields have the following meanings:\n",
    "\n",
    "1. `caption` specifies the text to be used in the listings caption.  If this metadata field is not supplied, the listing will not be given a caption.  \n",
    "\n",
    "2. `label` specifies the label to be used for the listing, which can be used in \\LaTeX{} to reference the listing.  The code block uses the label exactly as given in the metadata field.  If the output listing is given an `outputCaption`, the output caption is labelled by the a label starting with the `label` string given, but appended with the string `-out` (i.e., `lst:listing1-out` in this case).  \n",
    "\n",
    "3. `outputCaption` specifies the label that is used for the output listing of the cell. If this metadata field is not supplied, the output listing will not be given a caption.  \n",
    "\n",
    "\n",
    "We can refer to Listings~\\ref{lst:listing1}, \\ref{lst:listing1-out}, \\ref{lst:listing2}, and \\ref{lst:listing3}.  These listings may not be defined in the IPython output but they are defined in the \\LaTeX{} output.\n",
    "\n",
    "You can also refer to Figures~\\ref{fig:lab1-0} and \\ref{fig:lab4-2}."
   ]
  },
  {
   "cell_type": "markdown",
   "metadata": {},
   "source": [
    "## Floated code listings"
   ]
  },
  {
   "cell_type": "markdown",
   "metadata": {},
   "source": [
    "In order to improve readability in the document, the code listings can be floated to the end of the document by using the `-l` switch on the command line.  If this switch is used, the listing is saved to a string that is only appended to the \\LaTeX{} document and the end of the conversion.  At the location in the document where the code listing would have been, a reference sentence to the code is included.  The  sentence is constructed as follows:\n",
    "\n",
    "    See Listing~\\ref{lst:autolistingcellX} for the code {purpose}.\n",
    "    \n",
    "where the symbolic link is constructed using the cell number and the text used in the `{purpose}` part is taken from the first line of the code, if the first line is a comment.  Hence if the code in cell 3 starts with the lines\n",
    "\n",
    "    # to prepare the environment\n",
    "    import numpy as np\n",
    "\n",
    "a text line of the following form will be created:\n",
    "\n",
    "    See Listing~\\ref{lst:autolistingcell3} for the code to prepare the environment.\n",
    "\n",
    "Just maintain the discipline to write good comments in the first line, keeping in mind that  the comment will end up in the body of the document with the reference.\n",
    "\n",
    "If a code cell does not start with a comment, no text will be inserted and the form will be\n",
    "\n",
    "    See Listing~\\ref{lst:autolistingcell24} for the code."
   ]
  },
  {
   "cell_type": "code",
   "execution_count": 1,
   "metadata": {
    "collapsed": false,
    "listingCaption": {
     "caption": "Caption text for first listing",
     "label": "lst:listing1",
     "outputCaption": "Caption for first listing output"
    }
   },
   "outputs": [
    {
     "name": "stdout",
     "output_type": "stream",
     "text": [
      "The Zen of Python, by Tim Peters\n",
      "\n",
      "Beautiful is better than ugly.\n",
      "Explicit is better than implicit.\n",
      "Simple is better than complex.\n",
      "Complex is better than complicated.\n",
      "Flat is better than nested.\n",
      "Sparse is better than dense.\n",
      "Readability counts.\n",
      "Special cases aren't special enough to break the rules.\n",
      "Although practicality beats purity.\n",
      "Errors should never pass silently.\n",
      "Unless explicitly silenced.\n",
      "In the face of ambiguity, refuse the temptation to guess.\n",
      "There should be one-- and preferably only one --obvious way to do it.\n",
      "Although that way may not be obvious at first unless you're Dutch.\n",
      "Now is better than never.\n",
      "Although never is often better than *right* now.\n",
      "If the implementation is hard to explain, it's a bad idea.\n",
      "If the implementation is easy to explain, it may be a good idea.\n",
      "Namespaces are one honking great idea -- let's do more of those!\n"
     ]
    }
   ],
   "source": [
    "# to prepare the environment\n",
    "from IPython.display import display\n",
    "from IPython.display import Image\n",
    "from IPython.display import HTML\n",
    "\n",
    "import os.path\n",
    "import numpy as np\n",
    "%matplotlib inline\n",
    "\n",
    "import this"
   ]
  },
  {
   "cell_type": "markdown",
   "metadata": {},
   "source": [
    "The following code block has the metadata  \n",
    "\n",
    "    {\n",
    "      \"listingCaption\": {\n",
    "        \"caption\": \"Caption text for second listing\",\n",
    "        \"label\": \"lst:listing2\"\n",
    "      }\n",
    "    }\n",
    "\n",
    "which will give the code block a caption and a label, but the output is not captioned.\n",
    "\n",
    "The code block also demonstrates how long lines are handled in this lstlistings configuration, with a linefeed symbol to mark the line."
   ]
  },
  {
   "cell_type": "code",
   "execution_count": 2,
   "metadata": {
    "collapsed": false,
    "listingCaption": {
     "caption": "Caption text for second listing",
     "label": "lst:listing2"
    }
   },
   "outputs": [
    {
     "name": "stdout",
     "output_type": "stream",
     "text": [
      " \n",
      "Radius = 6\n",
      "Frontal area = 7 m2\n",
      "This is a very long line of python code, that is supposed to flow over to the next line, in order to test the listing display\n"
     ]
    }
   ],
   "source": [
    "#\n",
    "print(' ')\n",
    "print('Radius = {}'.format(6))\n",
    "print('Frontal area = {} m2'.format(7))\n",
    "print('This is a very long line of python code, that is supposed to flow over to the next line, in order to test the listing display')"
   ]
  },
  {
   "cell_type": "code",
   "execution_count": 3,
   "metadata": {
    "collapsed": false,
    "listingCaption": {
     "caption": "Caption text for third listing",
     "label": "lst:listing3"
    }
   },
   "outputs": [
    {
     "name": "stdout",
     "output_type": "stream",
     "text": [
      "0\n",
      "1\n"
     ]
    }
   ],
   "source": [
    "# to print the value\n",
    "a = [0, 1]\n",
    "for v in a:\n",
    "    print(v)"
   ]
  },
  {
   "cell_type": "markdown",
   "metadata": {},
   "source": [
    "The following code block has no metadata, and hence no captions on either the code or the output listings.\n"
   ]
  },
  {
   "cell_type": "code",
   "execution_count": 4,
   "metadata": {
    "collapsed": false
   },
   "outputs": [
    {
     "name": "stdout",
     "output_type": "stream",
     "text": [
      "code with no listing caption\n"
     ]
    }
   ],
   "source": [
    "print('code with no listing caption')"
   ]
  },
  {
   "cell_type": "markdown",
   "metadata": {},
   "source": [
    "Output emanating from different cells _may_ result in different output listings in \\LaTeX{} even if they appear in a single output box in the notebook.  The cells below attempt to recreate a similar scenario in a different application, but it does not seem to repeat the problem here."
   ]
  },
  {
   "cell_type": "code",
   "execution_count": 5,
   "metadata": {
    "collapsed": false
   },
   "outputs": [],
   "source": [
    "def doprint(i):\n",
    "    print('function output {}'.format(i))\n",
    "    return int(i)"
   ]
  },
  {
   "cell_type": "code",
   "execution_count": 6,
   "metadata": {
    "collapsed": false
   },
   "outputs": [
    {
     "name": "stdout",
     "output_type": "stream",
     "text": [
      "function output 1\n",
      "function output 2\n",
      "function output 3\n",
      "9\n",
      "3\n"
     ]
    }
   ],
   "source": [
    "for i in [1,2,3]:\n",
    "    si = str(i)\n",
    "    v = doprint(si)\n",
    "\n",
    "val = v * 3   \n",
    "print(val)\n",
    "print(v)"
   ]
  },
  {
   "cell_type": "markdown",
   "metadata": {},
   "source": [
    "## Bitmaps"
   ]
  },
  {
   "cell_type": "markdown",
   "metadata": {},
   "source": [
    "PNG images, read in from externally or created by Matplotlib, are imported into the \\LaTeX{} code with lines of the following form:\n",
    "\n",
    "`\\includegraphics[scale=0.2]{./pngs/test2LaTeX_21_0.png}`\n",
    "\n",
    "where the scale determines the size of the image (obtained from metadata, see below), and the image file name is constructed from the notebook file name and cell information.  The name is the concatenation of the notebook file name, the cell index (index number of the cell in the notebook file) and the sub-index image in the cell's output (there can be more than one image). All indices are zero based.\n",
    "\n",
    "The scale or width is read from the metadata, which must be structured as follows:\n",
    "\n",
    "    {\n",
    "      \"figureCaption\": {\n",
    "        \"caption\": \"Caption text for first figure\",\n",
    "        \"label\": \"fig:lab1\",\n",
    "        \"scale\": \"0.2\",\n",
    "        \"width\": \"0.2\"\n",
    "      },\n",
    "      \"listingCaption\": {\n",
    "        \"caption\": \"Listing caption in cell with a figure\",\n",
    "        \"label\": \"lst:figurelisting\",\n",
    "        \"outputCaption\": \"Output for a cell with a figure\"\n",
    "      }\n",
    "    }\n",
    "    \n",
    "Width is the fraction of \\LaTeX{} textwidth, i.e., if width=1, the graphic will be the full width of the text on the page. Width have precedance over scale and if width is given, scale is ignored.\n",
    "\n",
    "The metadata also contains a caption string, and a label for the figure.  The type must be `figure`.\n",
    "\n",
    "If the `caption` field is given (or has non-zero length), the image will be written to a \\LaTeX{} float with a caption (and label).  If the `caption` fields is not given, the image will not be encapsulated in the floating figure."
   ]
  },
  {
   "cell_type": "code",
   "execution_count": 7,
   "metadata": {
    "collapsed": false,
    "figureCaption": {
     "caption": "Caption text for first figure",
     "label": "fig:lab1",
     "scale": "0.2",
     "width": "0.2"
    },
    "listingCaption": {
     "caption": "Listing caption in cell with a figure",
     "label": "lst:figurelisting",
     "outputCaption": "Output for a cell with a figure"
    }
   },
   "outputs": [
    {
     "data": {
      "image/png": "[encoded data removed]",
      "text/plain": [
       "<IPython.core.display.Image object>"
      ]
     },
     "metadata": {
      "image/png": {
       "height": 250,
       "width": 250
      }
     },
     "output_type": "display_data"
    },
    {
     "name": "stdout",
     "output_type": "stream",
     "text": [
      "also force print output\n"
     ]
    }
   ],
   "source": [
    "#this figure is given meta data caption parameters, it will be floated in the latex export\n",
    "display(Image(filename='images/keep-calm-and-code-python_BW.png', width=250, height=250))\n",
    "print('also force print output')\n"
   ]
  },
  {
   "cell_type": "markdown",
   "metadata": {},
   "source": [
    "The following figure is not floating, but is scaled down to be smaller.\n",
    "\n",
    "    {\n",
    "      \"figureCaption\": {\n",
    "        \"scale\": \"0.3\"\n",
    "      }\n",
    "    }\n",
    "\n"
   ]
  },
  {
   "cell_type": "code",
   "execution_count": 8,
   "metadata": {
    "collapsed": false,
    "figureCaption": {
     "scale": "0.3"
    }
   },
   "outputs": [
    {
     "data": {
      "image/png": "[encoded data removed]",
      "text/plain": [
       "<IPython.core.display.Image object>"
      ]
     },
     "metadata": {
      "image/png": {
       "height": 200,
       "width": 200
      }
     },
     "output_type": "display_data"
    }
   ],
   "source": [
    "#this figure is not given meta data caption parameters, it will be inlined in the latex export\n",
    "display(Image(filename='images/random-squares-2.png', width=200, height=200))"
   ]
  },
  {
   "cell_type": "markdown",
   "metadata": {},
   "source": [
    "The following Matplotlib plot is scaled and floating.\n",
    "\n",
    "    {\n",
    "      \"figureCaption\": {\n",
    "        \"caption\": \"Caption text for third figure\",\n",
    "        \"label\": \"fig:lab3\",\n",
    "        \"scale\": \"0.4\"\n",
    "      }\n",
    "    }"
   ]
  },
  {
   "cell_type": "code",
   "execution_count": 9,
   "metadata": {
    "collapsed": false,
    "figureCaption": {
     "caption": "Caption text for third figure",
     "label": "fig:lab3",
     "scale": "0.4",
     "width": "0.3"
    }
   },
   "outputs": [
    {
     "data": {
      "image/png": "[encoded data removed]",
      "text/plain": [
       "<matplotlib.figure.Figure at 0x3905fb0>"
      ]
     },
     "metadata": {},
     "output_type": "display_data"
    }
   ],
   "source": [
    "%matplotlib inline\n",
    "\n",
    "import pylab as pl\n",
    "import numpy as np\n",
    "\n",
    "t = np.arange(0.0, 2.0, 0.01)\n",
    "s = np.sin(2*np.pi*t)\n",
    "pl.plot(t, s)\n",
    "pl.xlabel('time (s)')\n",
    "pl.ylabel('voltage (mV)')\n",
    "pl.title('About as simple as it gets, folks')\n",
    "pl.grid(True)\n"
   ]
  },
  {
   "cell_type": "markdown",
   "metadata": {},
   "source": [
    "It is possible to have more than one plot in a single cell output.  In this case each output can be made floating separately or be non-floated (you can even mix floating and non-floating).  The captions are given in the metadata in the following format:\n",
    "\n",
    "    {\n",
    "      \"figureCaption\": {\n",
    "        \"caption\": \"['Caption text for (first) fourth figure','','Caption text for (third) fourth figure']\",\n",
    "        \"label\": \"fig:lab4\",\n",
    "        \"scale\": \"[0.5, 0.5, 0.5]\"\n",
    "      }\n",
    "    }\n",
    "\n",
    "In this case the caption strings and scaling values are allocated to the sequence of images in the order given.  If a caption string is zero length, that specific image will be non-floating.  The float labels are determined from the root value given in the metadata, but with the output sub-index appended, as in `fig:lab4-0`, `fig:lab4-1`, `fig:lab4-2`."
   ]
  },
  {
   "cell_type": "code",
   "execution_count": 10,
   "metadata": {
    "collapsed": false,
    "figureCaption": {
     "caption": "['Caption text for (first) fourth figure','','Caption text for (third) fourth figure']",
     "label": "fig:lab4",
     "scale": "[0.5, 0.5, 0.5]"
    }
   },
   "outputs": [
    {
     "data": {
      "image/png": "[encoded data removed]",
      "text/plain": [
       "<matplotlib.figure.Figure at 0x72fbaf0>"
      ]
     },
     "metadata": {},
     "output_type": "display_data"
    },
    {
     "data": {
      "image/png": "[encoded data removed]",
      "text/plain": [
       "<matplotlib.figure.Figure at 0x75f3f10>"
      ]
     },
     "metadata": {},
     "output_type": "display_data"
    },
    {
     "data": {
      "image/png": "[encoded data removed]",
      "text/plain": [
       "<matplotlib.figure.Figure at 0x75f3810>"
      ]
     },
     "metadata": {},
     "output_type": "display_data"
    }
   ],
   "source": [
    "import pyradi.ryplot as ryplot\n",
    "\n",
    "x = np.linspace(0,10,10)\n",
    "a = ryplot.Plotter(1,figsize=(3,2))\n",
    "b = ryplot.Plotter(2,figsize=(3,2))\n",
    "c = ryplot.Plotter(3,figsize=(3,2))\n",
    "for i in [1,2]:\n",
    "    a.plot(1,x,x ** i,'Plotter instance a',label=[str(i)])\n",
    "    b.plot(1,x,(-x) ** i,'Plotter instance b',label=[str(i)])\n",
    "    c.plot(1,x,(5-x) ** i,'Plotter instance c',label=[str(i)])"
   ]
  },
  {
   "cell_type": "raw",
   "metadata": {},
   "source": [
    "\\FloatBarrier % message to latex, no floats past this barrier\n"
   ]
  },
  {
   "cell_type": "markdown",
   "metadata": {},
   "source": [
    "You can write HTML to the cell's output and have it displayed in the browser and also in the LaTeX file.  This graphic is not currently output as a floating figure in LaTeX, it will be done in a future version."
   ]
  },
  {
   "cell_type": "code",
   "execution_count": 15,
   "metadata": {
    "collapsed": false
   },
   "outputs": [
    {
     "data": {
      "text/html": [
       "<p><img src=\"images/random-squares-2.png\" width=100 />"
      ],
      "text/plain": [
       "<IPython.core.display.HTML object>"
      ]
     },
     "execution_count": 15,
     "metadata": {},
     "output_type": "execute_result"
    }
   ],
   "source": [
    "htmlstr = '<p><img src=\"images/random-squares-2.png\" width=100 />'\n",
    "HTML(htmlstr)                 "
   ]
  },
  {
   "cell_type": "markdown",
   "metadata": {},
   "source": [
    "## Cells with Python errors"
   ]
  },
  {
   "cell_type": "markdown",
   "metadata": {},
   "source": [
    "The following line must be uncommented to have effect."
   ]
  },
  {
   "cell_type": "code",
   "execution_count": 12,
   "metadata": {
    "collapsed": false
   },
   "outputs": [],
   "source": [
    "# type(eval(\"this is a test string\")) is not list"
   ]
  },
  {
   "cell_type": "markdown",
   "metadata": {},
   "source": [
    "## Embedded code (verbatim text)"
   ]
  },
  {
   "cell_type": "markdown",
   "metadata": {},
   "source": [
    "Some firewalls are set up to grant `localhost` execution rights.  In this case the server can be started with the command  \n",
    "`ipython notebook --ip=localhost`  \n",
    "\n",
    "\n",
    "Once started, the pages are served from   \n",
    "`http://localhost:8888/`  \n",
    "and not from `http://127.0.0.1:8888/`.\n",
    "\n",
    "Embedded code meant for illustration instead of execution in Python:\n",
    "\n",
    "    def hello_ipython():\n",
    "        print \"Hello IPython!\""
   ]
  },
  {
   "cell_type": "markdown",
   "metadata": {},
   "source": [
    "## Hyperlinks, references and citations"
   ]
  },
  {
   "cell_type": "markdown",
   "metadata": {
    "bibtexentry": {
     "gracec": "@MISC{gracec,  author = {Grace Cathedral},  title = {The Cathedral Labyrinths}, url = {http://www.gracecathedral.org/labyrinth/}}",
     "wing2006computational": "@article{wing2006computational,  title={Computational thinking}, author={Wing, Jeannette M},  journal={Communications of the ACM},  volume={49},  number={3},  pages={33--35},  year={2006}}"
    },
    "bibxref": {
     "httpipythonorg": "httpipythonorg",
     "httpsenwikipediaorgwikiWrappednormaldistribution": "httpsenwikipediaorgwikiWrappednormaldistribution",
     "httpswwwyoutubecomwatchvaIXED26Wppg": "httpswwwyoutubecomwatchvaIXED26Wppg"
    }
   },
   "source": [
    "### Embedded hyperlinks\n",
    "\n",
    "The [IPython website](http://ipython.org/) is the central repository of all things IPython.\n",
    "There are some really nice [videos](https://www.youtube.com/watch?v=aIXED26Wppg) on YouTube.\n",
    "\n",
    "For *URI references*, the `[IPython website](http://ipython.org/)` markup structure is read and the URI is used to create a citation label (`httpipythonorg`) and the URI (`http://ipython.org/`) is written to a new \\LaTeX{} bibtex file for the references in this notebook.\n",
    "\n",
    "For *other types of references* a workaround is required.  IPython is currently weak in the area of other types of references, because of limitations in the markup language.  The `ipnb2tex.py` script makes provision for including bibtex entries, by embedding the complete bibtex entry in a metadata field.\n",
    "\n",
    "Using the above approach creates a new bibtex file using the data in the notebook. Perhaps you might want to reference an existing bibtex file, mapping to the citation labels used in the notebook.\n",
    "The issue here is that the IPython notebook does not have access to your \\LaTeX{} bibtex file, so it does not know the citation references you want to use (the ones in your existing bibtex file).  \n",
    "The approach taken here is to provide a look-up translation table in this or any prior cell of the notebook, to translate citation references from the local name to your existing bibtex name.  This is done in a cross reference dictionary that maps the names created internally to the names in your external bibtex file.\n",
    "\n",
    "The metadata has two different fields, one to do the citation label mapping and the other to embed complete bibtex entries in the metadata.  The metadata field must have the following format:\n",
    "\n",
    "    {\n",
    "      \"bibxref\": {\n",
    "        \"httpipythonorg\": \"httpipythonorg\",\n",
    "        \"httpswwwyoutubecomwatchvaIXED26Wppg\": \"httpswwwyoutubecomwatchvaIXED26Wppg\",\n",
    "        \"httpsenwikipediaorgwikiWrappednormaldistribution\": \n",
    "                \"httpsenwikipediaorgwikiWrappednormaldistribution\"\n",
    "      },\n",
    "      \"bibtexentry\": {\n",
    "        \"wing2006computational\": \"@article{wing2006computational,  title={Computational thinking},  \n",
    "               author={Wing, Jeannette M},  journal={Communications of the ACM},  volume={49},  \n",
    "               number={3},  pages={33--35},  year={2006}}\",\n",
    "        \"gracec\": \"@MISC{gracec,  author = {Grace Cathedral},  title = {The Cathedral Labyrinths},  \n",
    "               url = {http://www.gracecathedral.org/labyrinth/}}\"\n",
    "      }\n",
    "    }\n",
    "\n",
    "where (1) the bibxref keys are the local names and the values are the names in your existing bibtex file and (2) the bibtexentry keys are the citation labels used in the notebook.  In the above example the bibxref maps to the same names, because I am using the locally generated bibtex file. Normally you would use your bibtex database entries.\n",
    "\n",
    "Note that the IPython notebook is somewhat finicky on the json format; each single entry in the above metadata must be on a single line (line-feeds inside the strings are not allowed --- lines tend to be very long).  Also, note the location of commas, there should be commas after all entries, except the last entry in a given scope.\n",
    "\n",
    "The `ipnb2tex.py` script:\n",
    "\n",
    "1. Loads/appends the bibxref translation table from any/all cells (if present).\n",
    "2. Reads the `[]()` markup structure and then builds a citation reference from the URI (by removing some characters).\n",
    "3. Create a bibtex entry for the reference (subsequently written to file).\n",
    "4. Using bibxref, translates the local citation label to your existing citation label.\n",
    "\n",
    "If you included bibtex items in the metadata, you can refer to them using the normal \\LaTeX{} notation. Test \\cite{wing2006computational} and \\cite{gracec}."
   ]
  },
  {
   "cell_type": "markdown",
   "metadata": {},
   "source": [
    "## General markdown formatting"
   ]
  },
  {
   "cell_type": "markdown",
   "metadata": {},
   "source": [
    "Markdown basics: lists, markup and code  \n",
    "\n",
    "\n",
    "* list item1   in markdown format.\n",
    "* list item2   \n",
    "    - nested <font size=\"3\" color=\"red\">list item3</font> - font attributes not yet supported.  \n",
    "* *italics*    \n",
    "* **bold**\n",
    "* `fixed font`    \n",
    "\n",
    "<p/>\n",
    "\n",
    "\n",
    "1.  Enumerated list item 1 in markdown format.\n",
    "    1. sub lit element 1  \n",
    "    1. sub lit element 2  \n",
    "2.  Enumerated list item 2.  \n",
    "\n",
    "\n",
    "The markup language (or the converter) breaks if an itemized list and an enumerated list are immediately adjacent --- we need to separate the lists by text with with a `<p/>`."
   ]
  },
  {
   "cell_type": "markdown",
   "metadata": {},
   "source": [
    "<p>Lists in HTML format</p>\n",
    "\n",
    "<ul>\n",
    "<li>list item</li>\n",
    "<li>list item</li>\n",
    "<ul>\n",
    "<li>nested <font size=\"3\" color=\"red\">list item</font></li>\n",
    "</ul>\n",
    "<li><em>italics</em></li>\n",
    "<li><strong>bold</strong></li>\n",
    "\n",
    "<li><code>fixed font</code></li>\n",
    "</ul>\n",
    "\n",
    "<ol>\n",
    "<li>Enumerated list item 1.</li>\n",
    "<ol>\n",
    "    <li>sub lit element 1</li>\n",
    "    <li>sub lit element 2</li>\n",
    "</ol>\n",
    "\n",
    "<li>Enumerated list item 2.</li>\n",
    "\n",
    "</ol>\n",
    "\n",
    "\n"
   ]
  },
  {
   "cell_type": "markdown",
   "metadata": {
    "tableCaption": {
     "caption": "Caption text for first table",
     "fontsize": "normalsize",
     "format": "{|p{10mm}|l|r|c|c|p{50mm}|p{20mm}|}",
     "label": "tab:lab1"
    }
   },
   "source": [
    "##Tables\n",
    "\n",
    "The table in this cell is rendered in \\LaTeX{} with the following metadata:  \n",
    "\n",
    "    {\n",
    "      \"tableCaption\": {\n",
    "        \"caption\": \"Caption text for first table\",\n",
    "        \"label\": \"tab:lab1\",\n",
    "        \"format\": \"{|p{10mm}|l|r|c|c|p{50mm}|p{20mm}|}\",\n",
    "        \"fontsize\": \"normalsize\"\n",
    "      }\n",
    "    }\n",
    "\n",
    "A complex HTML table with row spans and column spans:\n",
    "\n",
    "<table class=MsoTableGrid border=1 cellspacing=0 cellpadding=0\n",
    " style='border-collapse:collapse;border:none'>\n",
    " <tr>\n",
    "  <td width=109 valign=top style='width:82.1pt;border:solid windowtext 1.0pt;\n",
    "  padding:0cm 5.4pt 0cm 5.4pt'>\n",
    "  <p class=MsoBodyText><a name=\"_GoBack\"></a><span lang=EN-ZA>a</span></p>\n",
    "  </td>\n",
    "  <td width=219 colspan=2 valign=top style='width:164.2pt;border:solid windowtext 1.0pt;\n",
    "  border-left:none;padding:0cm 5.4pt 0cm 5.4pt'>\n",
    "  <p class=MsoBodyText><span lang=EN-ZA>b</span></p>\n",
    "  </td>\n",
    "  <td width=219 colspan=3 valign=top style='width:164.25pt;border:solid windowtext 1.0pt;\n",
    "  border-left:none;padding:0cm 5.4pt 0cm 5.4pt'>\n",
    "  <p class=MsoBodyText><span lang=EN-ZA>c</span></p>\n",
    "  </td>\n",
    "  <td width=219  valign=top style='width:164.25pt;border:solid windowtext 1.0pt;\n",
    "  border-left:none;padding:0cm 5.4pt 0cm 5.4pt'>\n",
    "  <p class=MsoBodyText><span lang=EN-ZA>1</span></p>\n",
    "  </td>\n",
    " </tr>\n",
    " <tr>\n",
    "  <td width=109 rowspan=2 valign=top style='width:82.1pt;border:solid windowtext 1.0pt;\n",
    "  border-top:none;padding:0cm 5.4pt 0cm 5.4pt'>\n",
    "  <p class=MsoBodyText><span lang=EN-ZA>e</span></p>\n",
    "  </td>\n",
    "  <td width=109 valign=top style='width:82.1pt;border-top:none;border-left:\n",
    "  none;border-bottom:solid windowtext 1.0pt;border-right:solid windowtext 1.0pt;\n",
    "  padding:0cm 5.4pt 0cm 5.4pt'>\n",
    "  <p class=MsoBodyText><span lang=EN-ZA>f</span></p>\n",
    "  </td>\n",
    "  <td width=219 colspan=2 valign=top style='width:164.2pt;border-top:none;\n",
    "  border-left:none;border-bottom:solid windowtext 1.0pt;border-right:solid windowtext 1.0pt;\n",
    "  padding:0cm 5.4pt 0cm 5.4pt'>\n",
    "  <p class=MsoBodyText><span lang=EN-ZA>g</span></p>\n",
    "  </td>\n",
    "  <td width=110 valign=top style='width:82.15pt;border-top:none;border-left:\n",
    "  none;border-bottom:solid windowtext 1.0pt;border-right:solid windowtext 1.0pt;\n",
    "  padding:0cm 5.4pt 0cm 5.4pt'>\n",
    "  <p class=MsoBodyText><span lang=EN-ZA>h</span></p>\n",
    "  </td>\n",
    "  <td width=110 valign=top style='width:82.15pt;border-top:none;border-left:\n",
    "  none;border-bottom:solid windowtext 1.0pt;border-right:solid windowtext 1.0pt;\n",
    "  padding:0cm 5.4pt 0cm 5.4pt'>\n",
    "  <p class=MsoBodyText><span lang=EN-ZA>i</span></p>\n",
    "  </td>\n",
    "   <td width=219  valign=top style='width:164.25pt;border:solid windowtext 1.0pt;\n",
    "  border-left:none;padding:0cm 5.4pt 0cm 5.4pt'>\n",
    "  <p class=MsoBodyText><span lang=EN-ZA>2</span></p>\n",
    "  </td>\n",
    "</tr>\n",
    " <tr>\n",
    "  <td width=219 colspan=2 valign=top style='width:164.2pt;border-top:none;\n",
    "  border-left:none;border-bottom:solid windowtext 1.0pt;border-right:solid windowtext 1.0pt;\n",
    "  padding:0cm 5.4pt 0cm 5.4pt'>\n",
    "  <p class=MsoBodyText><span lang=EN-ZA>j</span></p>\n",
    "  </td>\n",
    "  <td width=109 valign=top style='width:82.1pt;border-top:none;border-left:\n",
    "  none;border-bottom:solid windowtext 1.0pt;border-right:solid windowtext 1.0pt;\n",
    "  padding:0cm 5.4pt 0cm 5.4pt'>\n",
    "  <p class=MsoBodyText><span lang=EN-ZA>k</span></p>\n",
    "  </td>\n",
    "  <td width=110 rowspan=2 valign=top style='width:82.15pt;border-top:none;\n",
    "  border-left:none;border-bottom:solid windowtext 1.0pt;border-right:solid windowtext 1.0pt;\n",
    "  padding:0cm 5.4pt 0cm 5.4pt'>\n",
    "  <p class=MsoBodyText><span lang=EN-ZA>l</span></p>\n",
    "  </td>\n",
    "  <td width=110 valign=top style='width:82.15pt;border-top:none;border-left:\n",
    "  none;border-bottom:solid windowtext 1.0pt;border-right:solid windowtext 1.0pt;\n",
    "  padding:0cm 5.4pt 0cm 5.4pt'>\n",
    "  <p class=MsoBodyText><span lang=EN-ZA>m</span></p>\n",
    "  </td>\n",
    "  <td width=219  valign=top style='width:164.25pt;border:solid windowtext 1.0pt;\n",
    "  border-left:none;padding:0cm 5.4pt 0cm 5.4pt'>\n",
    "  <p class=MsoBodyText><span lang=EN-ZA>3</span></p>\n",
    "  </td>\n",
    " </tr>\n",
    " <tr>\n",
    "  <td width=109 valign=top style='width:82.1pt;border:solid windowtext 1.0pt;\n",
    "  border-top:none;padding:0cm 5.4pt 0cm 5.4pt'>\n",
    "  <p class=MsoBodyText><span lang=EN-ZA>n</span></p>\n",
    "  </td>\n",
    "  <td width=109 valign=top style='width:82.1pt;border-top:none;border-left:\n",
    "  none;border-bottom:solid windowtext 1.0pt;border-right:solid windowtext 1.0pt;\n",
    "  padding:0cm 5.4pt 0cm 5.4pt'>\n",
    "  <p class=MsoBodyText><span lang=EN-ZA>o</span></p>\n",
    "  </td>\n",
    "  <td width=109 valign=top style='width:82.1pt;border-top:none;border-left:\n",
    "  none;border-bottom:solid windowtext 1.0pt;border-right:solid windowtext 1.0pt;\n",
    "  padding:0cm 5.4pt 0cm 5.4pt'>\n",
    "  <p class=MsoBodyText><span lang=EN-ZA>p</span></p>\n",
    "  </td>\n",
    "  <td width=109 valign=top style='width:82.1pt;border-top:none;border-left:\n",
    "  none;border-bottom:solid windowtext 1.0pt;border-right:solid windowtext 1.0pt;\n",
    "  padding:0cm 5.4pt 0cm 5.4pt'>\n",
    "  <p class=MsoBodyText><span lang=EN-ZA>q</span></p>\n",
    "  </td>\n",
    "  <td width=110 valign=top style='width:82.15pt;border-top:none;border-left:\n",
    "  none;border-bottom:solid windowtext 1.0pt;border-right:solid windowtext 1.0pt;\n",
    "  padding:0cm 5.4pt 0cm 5.4pt'>\n",
    "  <p class=MsoBodyText><span lang=EN-ZA>r</span></p>\n",
    "  </td>\n",
    "  <td width=219  valign=top style='width:164.25pt;border:solid windowtext 1.0pt;\n",
    "  border-left:none;padding:0cm 5.4pt 0cm 5.4pt'>\n",
    "  <p class=MsoBodyText><span lang=EN-ZA>4</span></p>\n",
    "  </td>\n",
    " </tr>\n",
    " <tr>\n",
    "  <td width=109 valign=top style='width:82.1pt;border:solid windowtext 1.0pt;\n",
    "  border-top:none;padding:0cm 5.4pt 0cm 5.4pt'>\n",
    "  <p class=MsoBodyText><span lang=EN-ZA>s</span></p>\n",
    "  </td>\n",
    "  <td width=109 valign=top style='width:82.1pt;border-top:none;border-left:\n",
    "  none;border-bottom:solid windowtext 1.0pt;border-right:solid windowtext 1.0pt;\n",
    "  padding:0cm 5.4pt 0cm 5.4pt'>\n",
    "  <p class=MsoBodyText><span lang=EN-ZA>t</span></p>\n",
    "  </td>\n",
    "  <td width=109 valign=top style='width:82.1pt;border-top:none;border-left:\n",
    "  none;border-bottom:solid windowtext 1.0pt;border-right:solid windowtext 1.0pt;\n",
    "  padding:0cm 5.4pt 0cm 5.4pt'>\n",
    "  <p class=MsoBodyText><span lang=EN-ZA>u</span></p>\n",
    "  </td>\n",
    "  <td width=109 valign=top style='width:82.1pt;border-top:none;border-left:\n",
    "  none;border-bottom:solid windowtext 1.0pt;border-right:solid windowtext 1.0pt;\n",
    "  padding:0cm 5.4pt 0cm 5.4pt'>\n",
    "  <p class=MsoBodyText><span lang=EN-ZA>v</span></p>\n",
    "  </td>\n",
    "  <td width=110 valign=top style='width:82.15pt;border-top:none;border-left:\n",
    "  none;border-bottom:solid windowtext 1.0pt;border-right:solid windowtext 1.0pt;\n",
    "  padding:0cm 5.4pt 0cm 5.4pt'>\n",
    "  <p class=MsoBodyText><span lang=EN-ZA>w</span></p>\n",
    "  </td>\n",
    "  <td width=110 valign=top style='width:82.15pt;border-top:none;border-left:\n",
    "  none;border-bottom:solid windowtext 1.0pt;border-right:solid windowtext 1.0pt;\n",
    "  padding:0cm 5.4pt 0cm 5.4pt'>\n",
    "  <p class=MsoBodyText><span lang=EN-ZA>x</span></p>\n",
    "  </td>\n",
    "  <td width=219  valign=top style='width:164.25pt;border:solid windowtext 1.0pt;\n",
    "  border-left:none;padding:0cm 5.4pt 0cm 5.4pt'>\n",
    "  <p class=MsoBodyText><span lang=EN-ZA>5</span></p>\n",
    "  </td>\n",
    " </tr>\n",
    "</table>\n"
   ]
  },
  {
   "cell_type": "markdown",
   "metadata": {
    "tableCaption": {
     "caption": "['Caption text for (first) second table','','Caption text for (third) second table']",
     "fontsize": "['normalsize', 'tiny', 'Large']",
     "format": "['{|p{20mm}|r|}','','{|c|l|}']",
     "label": "tab:lab2"
    }
   },
   "source": [
    "The tables in this cell are rendered in \\LaTeX{} with the following metadata:  \n",
    "\n",
    "    {\n",
    "      \"tableCaption\": {\n",
    "        \"caption\": \"['Caption text for (first) second table','','Caption text for (third) second table']\",\n",
    "        \"label\": \"tab:lab2\",\n",
    "        \"format\": \"['{|p{20mm}|r|}','','{|c|l|}']\",\n",
    "        \"fontsize\": \"['normalsize', 'tiny', 'Large']\"\n",
    "      }\n",
    "    }\n",
    "    \n",
    "Github flavoured markdown tables are supported in the IPython notebook (floating in \\LaTeX{} as Table~\\ref{tab:lab2-0}):  \n",
    "\n",
    "| This | is   |\n",
    "|------|------|\n",
    "|   a  | table| \n",
    "\n",
    "second table  (non-floating in \\LaTeX{}):  \n",
    "\n",
    "| This | is   |\n",
    "|------|------|\n",
    "|   a  | small table| \n",
    "\n",
    "\n",
    "PHP Markdown Extra is also supported  (floating in \\LaTeX{} as Table~\\ref{tab:lab2-2}):  \n",
    "\n",
    "First Header  | Second Header\n",
    "------------- | -------------\n",
    "Content Cell  | Content Cell\n",
    "Content Cell  | Content Cell\n",
    "\n",
    "Both of these markup extensions require Python Markdown 2.4.1 to render HTML."
   ]
  },
  {
   "cell_type": "raw",
   "metadata": {},
   "source": [
    "Table~\\ref{tab:hiertab12-0} has an hierarchical structure on both columns and rows.  The percentage and underine characters are also preserved.\n"
   ]
  },
  {
   "cell_type": "markdown",
   "metadata": {
    "tableCaption": {
     "caption": "Caption text for hierarchical table",
     "fontsize": "normalsize",
     "format": "|l|l|l|*{2}{>{\\RaggedLeft}p{8mm}|}",
     "label": "tab:hiertab12"
    }
   },
   "source": [
    "<table border=\"1\" class=\"dataframe\">\n",
    "  <thead>\n",
    "    <tr>\n",
    "      <th></th>\n",
    "      <th></th>\n",
    "      <th>CHead 1</th>\n",
    "      <th colspan=\"2\" halign=\"left\">CLevel 1:1</th>\n",
    "    </tr>\n",
    "    <tr>\n",
    "      <th></th>\n",
    "      <th></th>\n",
    "      <th>CHead 2</th>\n",
    "      <th>CLevel 2:1</th>\n",
    "      <th>CLevel 2:2</th>\n",
    "    </tr>\n",
    "    <tr>\n",
    "      <th>RHead 1</th>\n",
    "      <th>RHead 2</th>\n",
    "      <th>RHead 3</th>\n",
    "      <th></th>\n",
    "      <th></th>\n",
    "    </tr>\n",
    "  </thead>\n",
    "  <tbody>\n",
    "    <tr>\n",
    "      <th rowspan=\"9\" valign=\"top\">RLevel 1:1%_</th>\n",
    "      <th rowspan=\"3\" valign=\"top\">RLevel 2:1</th>\n",
    "      <th>A</th>\n",
    "      <td> 6000%</td>\n",
    "      <td> 6156</td>\n",
    "    </tr>\n",
    "    <tr>\n",
    "      <th>B</th>\n",
    "      <td> 2417</td>\n",
    "      <td> 2471</td>\n",
    "    </tr>\n",
    "    <tr>\n",
    "      <th>C</th>\n",
    "      <td> 1274</td>\n",
    "      <td> 1347</td>\n",
    "    </tr>\n",
    "    <tr>\n",
    "      <th rowspan=\"3\" valign=\"top\">RLevel 2:2</th>\n",
    "      <th>A</th>\n",
    "      <td>10909</td>\n",
    "      <td>11041</td>\n",
    "    </tr>\n",
    "    <tr>\n",
    "      <th>B</th>\n",
    "      <td> 4400</td>\n",
    "      <td> 4408</td>\n",
    "    </tr>\n",
    "    <tr>\n",
    "      <th>C</th>\n",
    "      <td> 2309</td>\n",
    "      <td> 2319</td>\n",
    "    </tr>\n",
    "    <tr>\n",
    "      <th rowspan=\"3\" valign=\"top\">RLevel 2:3</th>\n",
    "      <th>A</th>\n",
    "      <td>11573</td>\n",
    "      <td>11178</td>\n",
    "    </tr>\n",
    "    <tr>\n",
    "      <th>B</th>\n",
    "      <td> 4461</td>\n",
    "      <td> 4976</td>\n",
    "    </tr>\n",
    "    <tr>\n",
    "      <th>C</th>\n",
    "      <td> 2432</td>\n",
    "      <td> 2410</td>\n",
    "    </tr>\n",
    "    <tr>\n",
    "      <th rowspan=\"9\" valign=\"top\">RLevel 1:2%_</th>\n",
    "      <th rowspan=\"3\" valign=\"top\">RLevel 2:1</th>\n",
    "      <th>A</th>\n",
    "      <td> 6728</td>\n",
    "      <td> 6595</td>\n",
    "    </tr>\n",
    "    <tr>\n",
    "      <th>B</th>\n",
    "      <td> 2322</td>\n",
    "      <td> 2679</td>\n",
    "    </tr>\n",
    "    <tr>\n",
    "      <th>C</th>\n",
    "      <td> 1300</td>\n",
    "      <td> 1474</td>\n",
    "    </tr>\n",
    "    <tr>\n",
    "      <th rowspan=\"3\" valign=\"top\">RLevel 2:2</th>\n",
    "      <th>A</th>\n",
    "      <td>1210</td>\n",
    "      <td>12344</td>\n",
    "    </tr>\n",
    "    <tr>\n",
    "      <th>B</th>\n",
    "      <td> 4845</td>\n",
    "      <td> 4367</td>\n",
    "    </tr>\n",
    "    <tr>\n",
    "      <th>C</th>\n",
    "      <td> 2618</td>\n",
    "      <td> 2525</td>\n",
    "    </tr>\n",
    "    <tr>\n",
    "      <th rowspan=\"3\" valign=\"top\">RLevel 2:3</th>\n",
    "      <th>A</th>\n",
    "      <td>12553</td>\n",
    "      <td>12117</td>\n",
    "    </tr>\n",
    "    <tr>\n",
    "      <th>B</th>\n",
    "      <td> 4895</td>\n",
    "      <td> 4835</td>\n",
    "    </tr>\n",
    "    <tr>\n",
    "      <th>C</th>\n",
    "      <td> 2566</td>\n",
    "      <td> 2991</td>\n",
    "    </tr>\n",
    "  </tbody>\n",
    "</table>\n"
   ]
  },
  {
   "cell_type": "markdown",
   "metadata": {
    "tableCaption": {
     "fontsize": "footnotesize",
     "format": "{|p{10mm}|p{50mm}|p{100mm}|}"
    }
   },
   "source": [
    "A table can be formatted with the metadata, even if the table is not floating with a caption. For example, the following table only uses the following metadata:\n",
    "\n",
    "\n",
    "    {\n",
    "      \"tableCaption\": {\n",
    "        \"format\": \"{|p{10mm}|p{50mm}|p{100mm}|}\",\n",
    "        \"fontsize\": \"footnotesize\"\n",
    "      }\n",
    "    }\n",
    "\n",
    "\n",
    "<table border=\"1\" CELLSPACING=\"1\" CELLPADDING=\"4\">\n",
    "    <tr>\n",
    "        <td WIDTH=\"9%\" VALIGN=\"TOP\" BGCOLOR=\"#cccccc\"><b>\n",
    "        <p ALIGN=\"CENTER\">Column Number</b></td>\n",
    "        <td WIDTH=\"31%\" VALIGN=\"MIDDLE\" BGCOLOR=\"#cccccc\"><b>\n",
    "        <p ALIGN=\"CENTER\">Column Description</b></td>\n",
    "        <td WIDTH=\"60%\" VALIGN=\"MIDDLE\" BGCOLOR=\"#cccccc\"><b>\n",
    "        <p ALIGN=\"CENTER\">Example Values</b></td>\n",
    "    </tr>\n",
    "    <tr>\n",
    "        <td WIDTH=\"9%\" VALIGN=\"TOP\" BGCOLOR=\"#eeeeee\">1</td>\n",
    "        <td WIDTH=\"31%\" VALIGN=\"TOP\" BGCOLOR=\"#eeeeee\">Unique row identifier</td>\n",
    "        <td WIDTH=\"60%\" VALIGN=\"TOP\" BGCOLOR=\"#eeeeee\">\n",
    "        MOD15A2.A2000057.h12v03.004.2002357024124.FparExtra_QC<p>\n",
    "        MOD15A2.A2000057.h12v03.004.2002357024124.Lai_1km</td>\n",
    "    </tr>\n",
    "    <tr>\n",
    "        <td WIDTH=\"9%\" VALIGN=\"TOP\" BGCOLOR=\"#eeeeee\">2</td>\n",
    "        <td WIDTH=\"31%\" VALIGN=\"TOP\" BGCOLOR=\"#eeeeee\">MODIS Land Product \n",
    "        Code</td>\n",
    "        <td WIDTH=\"60%\" VALIGN=\"TOP\" BGCOLOR=\"#eeeeee\">MOD15A2</td>\n",
    "    </tr>\n",
    "    <tr>\n",
    "        <td WIDTH=\"9%\" VALIGN=\"TOP\" BGCOLOR=\"#eeeeee\">3</td>\n",
    "        <td WIDTH=\"31%\" VALIGN=\"TOP\" BGCOLOR=\"#eeeeee\">MODIS Acquisition \n",
    "        Date [ A (YYYYDDD) ]</td>\n",
    "        <td WIDTH=\"60%\" VALIGN=\"TOP\" BGCOLOR=\"#eeeeee\">A2000057</td>\n",
    "    </tr>\n",
    "    <tr>\n",
    "        <td WIDTH=\"9%\" VALIGN=\"TOP\" BGCOLOR=\"#eeeeee\">4</td>\n",
    "        <td WIDTH=\"31%\" VALIGN=\"TOP\" BGCOLOR=\"#eeeeee\">User selected center \n",
    "        point coordinates and specified width (Samp) and height (Line) of \n",
    "        bounding rectangle in pixels. Width x height denotes number of \n",
    "        Product values starting in Column 7. (e.g.,  7 x 7 = 49)</td>\n",
    "        <td WIDTH=\"60%\" VALIGN=\"TOP\" BGCOLOR=\"#eeeeee\">\n",
    "        Lat55.879620Lon-98.480810Samp7Line7</td>\n",
    "    </tr>\n",
    "    <tr>\n",
    "        <td WIDTH=\"9%\" VALIGN=\"TOP\" BGCOLOR=\"#eeeeee\">5</td>\n",
    "        <td WIDTH=\"31%\" VALIGN=\"TOP\" BGCOLOR=\"#eeeeee\">MODIS Processing Date \n",
    "        (YYYYDDDHHMMSS)</td>\n",
    "        <td WIDTH=\"60%\" VALIGN=\"TOP\" BGCOLOR=\"#eeeeee\">2002357024124</td>\n",
    "    </tr>\n",
    "    <tr>\n",
    "        <td WIDTH=\"9%\" VALIGN=\"TOP\" BGCOLOR=\"#eeeeee\">6</td>\n",
    "        <td WIDTH=\"31%\" VALIGN=\"TOP\" BGCOLOR=\"#eeeeee\">Product Scientific \n",
    "        Data Set (Band): Indicates type of values to follow. Specific values \n",
    "        vary by Product. Data quality information are interleaved.</td>\n",
    "        <td WIDTH=\"60%\" VALIGN=\"TOP\" BGCOLOR=\"#eeeeee\">MOD15A2: FparExtra_QC,  \n",
    "        FparLai_QC,  Fpar_1km<p>MOD17A2: Gpp_1km,  PsnNet_1km,  Psn_QC_1km</td>\n",
    "    </tr>\n",
    "    <tr>\n",
    "        <td WIDTH=\"9%\" VALIGN=\"TOP\" BGCOLOR=\"#eeeeee\">7 to N</td>\n",
    "        <td WIDTH=\"31%\" VALIGN=\"TOP\" BGCOLOR=\"#eeeeee\">Data values of type \n",
    "        as specified. Number of data columns as given in Column 4.<p>\n",
    "        Definition of QC component values vary by Scientific Data Set.</td>\n",
    "        <td WIDTH=\"60%\" VALIGN=\"TOP\" BGCOLOR=\"#eeeeee\">QC: \n",
    "        00100001, 01100001, 01100001,  ...<p>Measurement: \n",
    "        2, 2, 1, 1, 1, 1, 1, 0, 0, 0, 1, 1, 0, 0, ...to N</td>\n",
    "    </tr>\n",
    "</table>\n"
   ]
  },
  {
   "cell_type": "markdown",
   "metadata": {},
   "source": [
    "Pandas dataframe tables are also rendered."
   ]
  },
  {
   "cell_type": "code",
   "execution_count": 13,
   "metadata": {
    "collapsed": false
   },
   "outputs": [
    {
     "data": {
      "text/html": [
       "<table border=\"1\" class=\"dataframe\">\n",
       "  <thead>\n",
       "    <tr style=\"text-align: right;\">\n",
       "      <th></th>\n",
       "      <th>one</th>\n",
       "      <th>two</th>\n",
       "    </tr>\n",
       "  </thead>\n",
       "  <tbody>\n",
       "    <tr>\n",
       "      <th>a</th>\n",
       "      <td>1</td>\n",
       "      <td>1</td>\n",
       "    </tr>\n",
       "    <tr>\n",
       "      <th>b</th>\n",
       "      <td>2</td>\n",
       "      <td>2</td>\n",
       "    </tr>\n",
       "    <tr>\n",
       "      <th>c</th>\n",
       "      <td>3</td>\n",
       "      <td>3</td>\n",
       "    </tr>\n",
       "    <tr>\n",
       "      <th>d</th>\n",
       "      <td>NaN</td>\n",
       "      <td>4</td>\n",
       "    </tr>\n",
       "  </tbody>\n",
       "</table>"
      ],
      "text/plain": [
       "<IPython.core.display.HTML object>"
      ]
     },
     "execution_count": 13,
     "metadata": {},
     "output_type": "execute_result"
    }
   ],
   "source": [
    "import pandas as pd\n",
    "d = {'one' : pd.Series([1., 2., 3.], index=['a', 'b', 'c']),\n",
    "     'two' : pd.Series([1., 2., 3., 4.], index=['a', 'b', 'c', 'd'])}\n",
    "\n",
    "df = pd.DataFrame(d)\n",
    "\n",
    "HTML(df.to_html())"
   ]
  },
  {
   "cell_type": "markdown",
   "metadata": {},
   "source": [
    "# Math"
   ]
  },
  {
   "cell_type": "markdown",
   "metadata": {},
   "source": [
    "Inline math delineated with single dollar symbols are rendered inline with paragraph text, as in $\\alpha+\\beta=\\gamma$. \n",
    "\n",
    "\n",
    "\n",
    "Using math mode (anything between two dollar symbols) is interpreted as \\LaTeX{} math:\n",
    "\n",
    "\\begin{equation}\n",
    "D_{KL}(P||Q) = \\sum\\limits_{i}ln (\\frac{P(i)}{Q(i)}) P(i).\n",
    "\\end{equation}\n",
    "\n"
   ]
  },
  {
   "cell_type": "markdown",
   "metadata": {},
   "source": [
    "\n",
    "The probability density function for yaw angle is the [wrapped normal distribution](https://en.wikipedia.org/wiki/Wrapped_normal_distribution).  The first form uses two dollar symbols  to show the equation in LaTeX display math:\n",
    "\n",
    "$$\n",
    "f_{WN}(\\theta;\\mu, \\sigma) = \\frac{1}{\\sigma\\sqrt{2\\pi}}\\sum^{\\infty}_{k=-\\infty} \\exp\\left[\\frac{-(\\theta-\\mu+2\\pi k)^2}{2\\sigma^2}\\right]\n",
    "$$\n",
    "\n",
    "The second example uses  `\\begin{equation}` and `\\end{equation}`:\n",
    "\n",
    "\\begin{equation}\n",
    "f_{WN}(\\theta;\\mu, \\sigma) = \\frac{1}{\\sigma\\sqrt{2\\pi}}\\sum^{\\infty}_{k=-\\infty} \\exp\\left[\\frac{-(\\theta-\\mu+2\\pi k)^2}{2\\sigma^2}\\right]\n",
    "\\end{equation}"
   ]
  },
  {
   "cell_type": "markdown",
   "metadata": {},
   "source": [
    "## Known deficiencies"
   ]
  },
  {
   "cell_type": "markdown",
   "metadata": {},
   "source": [
    "1. Some complex cell-merged HTML tables may not render correctly in LaTeX (let me know if you have such a table).     \n",
    "1. Unicode not yet handled.  \n",
    "1. The following HTML elements are not currently processed, these elements are simply ignored: `div`, `iframe`, `img`.  \n",
    "1. Many reserved LaTeX symbols such as hash, caret, underscore and dollar are 'legal' in normal markdown.  When rendering to LaTeX these symbols cause errors unless escaped with backslash.  In many cases these symbols are escaped, but not always because of context.  If the symbols are escaped, they render incorrectly in normal Markdown. Therefore, choose your target renderer and enter the symbols accordingly, accepting problems in the alternative renderer.\n",
    "3. IPython notebook names must not have spaces in the filename."
   ]
  },
  {
   "cell_type": "markdown",
   "metadata": {},
   "source": [
    "## Python and [module versions, and dates](http://nbviewer.ipython.org/github/jrjohansson/scientific-python-lectures/blob/master/Lecture-0-Scientific-Computing-with-Python.ipynb)"
   ]
  },
  {
   "cell_type": "markdown",
   "metadata": {},
   "source": [
    "From: [Introduction to scientific computing with Python](http://nbviewer.ipython.org/github/jrjohansson/scientific-python-lectures/blob/master/Lecture-0-Scientific-Computing-with-Python.ipynb) we learn:\n",
    "\"To encourage the practice of recording Python and module versions in notebooks, I've created a simple IPython extension that produces a table with versions numbers of selected software components. I believe that it is a good practice to include this kind of table in every notebook you create. To install this IPython extension, run:\"\n",
    "\n",
    "    # you only need to do this once\n",
    "    %install_ext http://raw.github.com/jrjohansson/version_information/master/version_information.py\n",
    "    \n",
    "Now, to load the extension and produce the version table  "
   ]
  },
  {
   "cell_type": "code",
   "execution_count": 14,
   "metadata": {
    "caption": "",
    "collapsed": false,
    "fontsize": "normalsize",
    "format": "{|l|l|}",
    "label": "",
    "scrolled": true,
    "type": "table"
   },
   "outputs": [
    {
     "data": {
      "application/json": {
       "Software versions": [
        {
         "module": "Python",
         "version": "2.7.8 32bit [MSC v.1500 32 bit (Intel)]"
        },
        {
         "module": "IPython",
         "version": "3.2.0"
        },
        {
         "module": "OS",
         "version": "Windows 7 6.1.7601 SP1"
        },
        {
         "module": "numpy",
         "version": "1.9.2"
        },
        {
         "module": "scipy",
         "version": "0.15.1"
        },
        {
         "module": "matplotlib",
         "version": "1.4.3"
        },
        {
         "module": "pandas",
         "version": "0.16.2"
        }
       ]
      },
      "text/html": [
       "<table><tr><th>Software</th><th>Version</th></tr><tr><td>Python</td><td>2.7.8 32bit [MSC v.1500 32 bit (Intel)]</td></tr><tr><td>IPython</td><td>3.2.0</td></tr><tr><td>OS</td><td>Windows 7 6.1.7601 SP1</td></tr><tr><td>numpy</td><td>1.9.2</td></tr><tr><td>scipy</td><td>0.15.1</td></tr><tr><td>matplotlib</td><td>1.4.3</td></tr><tr><td>pandas</td><td>0.16.2</td></tr><tr><td colspan='2'>Tue Sep 22 14:40:12 2015 South Africa Standard Time</td></tr></table>"
      ],
      "text/latex": [
       "\\begin{tabular}{|l|l|}\\hline\n",
       "{\\bf Software} & {\\bf Version} \\\\ \\hline\\hline\n",
       "Python & 2.7.8 32bit [MSC v.1500 32 bit (Intel)] \\\\ \\hline\n",
       "IPython & 3.2.0 \\\\ \\hline\n",
       "OS & Windows 7 6.1.7601 SP1 \\\\ \\hline\n",
       "numpy & 1.9.2 \\\\ \\hline\n",
       "scipy & 0.15.1 \\\\ \\hline\n",
       "matplotlib & 1.4.3 \\\\ \\hline\n",
       "pandas & 0.16.2 \\\\ \\hline\n",
       "\\hline \\multicolumn{2}{|l|}{Tue Sep 22 14:40:12 2015 South Africa Standard Time} \\\\ \\hline\n",
       "\\end{tabular}\n"
      ],
      "text/plain": [
       "Software versions\n",
       "Python 2.7.8 32bit [MSC v.1500 32 bit (Intel)]\n",
       "IPython 3.2.0\n",
       "OS Windows 7 6.1.7601 SP1\n",
       "numpy 1.9.2\n",
       "scipy 0.15.1\n",
       "matplotlib 1.4.3\n",
       "pandas 0.16.2\n",
       "Tue Sep 22 14:40:12 2015 South Africa Standard Time"
      ]
     },
     "execution_count": 14,
     "metadata": {},
     "output_type": "execute_result"
    }
   ],
   "source": [
    "%load_ext version_information\n",
    "%version_information numpy, scipy, matplotlib,pandas"
   ]
  }
 ],
 "metadata": {
  "celltoolbar": "Edit Metadata",
  "kernelspec": {
   "display_name": "Python 2",
   "language": "python",
   "name": "python2"
  },
  "language_info": {
   "codemirror_mode": {
    "name": "ipython",
    "version": 2
   },
   "file_extension": ".py",
   "mimetype": "text/x-python",
   "name": "python",
   "nbconvert_exporter": "python",
   "pygments_lexer": "ipython2",
   "version": "2.7.8"
  }
 },
 "nbformat": 4,
 "nbformat_minor": 0
}
